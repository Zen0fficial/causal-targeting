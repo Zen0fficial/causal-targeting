{
 "cells": [
  {
   "cell_type": "markdown",
   "metadata": {},
   "source": [
    "# 05a Cell search for GI outcome\n",
    "\n"
   ]
  },
  {
   "cell_type": "markdown",
   "metadata": {},
   "source": [
    "### Contents:\n",
    "1. Set up and preparation for cell search  \n",
    "1.1. Fit the top ensemble  \n",
    "1.2. Find important features  \n",
    "1.3. Determine most significant q values\n",
    "2. Cell search  \n",
    "3. Examining cell search results  \n",
    "3.1. Coverage of quantile-based top subgroups by cell union  \n",
    "3.2. Significance of selected cells  \n",
    "3.3. Significance of selected cells w.r.t. TC outcome  \n",
    "3.4. Similarity of selected cells\n",
    "4. Results on test set  \n",
    "4.1. Significance of selected cells  \n",
    "4.2. Significance of selected cells w.r.t. TC outcome  \n",
    "4.3. Significance of selected cells w.r.t. TC outcome, on TC-based split  \n",
    "4.4. Significance of selected cells w.r.t. TC outcome, on all data"
   ]
  },
  {
   "cell_type": "markdown",
   "metadata": {},
   "source": [
    "## 1. Set up and preparation for cell search"
   ]
  },
  {
   "cell_type": "code",
   "execution_count": 2,
   "metadata": {},
   "outputs": [
    {
     "name": "stderr",
     "output_type": "stream",
     "text": [
      "Failed to import duecredit due to No module named 'duecredit'\n"
     ]
    }
   ],
   "source": [
    "# Standard imports\n",
    "import numpy as np\n",
    "import pandas as pd\n",
    "import sys\n",
    "import copy\n",
    "import random\n",
    "import joblib\n",
    "\n",
    "# Plotting libraries\n",
    "import matplotlib.pyplot as plt\n",
    "import seaborn as sns\n",
    "%matplotlib inline\n",
    "import matplotlib as mpl\n",
    "import pylab\n",
    "\n",
    "# Import own methods\n",
    "from methods.data_processing import prepare_df, separate_vars\n",
    "from methods.causal_functions import get_Neyman_ATE, get_Neyman_var\n",
    "from methods.cate_estimator_wrappers import combine_estimator_versions\n",
    "from methods.cate_estimator_validation import make_top_ensemble, get_top_subgroup_stability\n",
    "from methods.cell_search import (get_feature_importance_scores, compare_q_values,\n",
    "                                 CellSearch, get_cell_search_results,\n",
    "                                 aggregate_cell_search_results, \n",
    "                                 get_coverage_results, get_cell_overlap_results, \n",
    "                                 get_cell_significance_results, get_RR_results)"
   ]
  },
  {
   "cell_type": "code",
   "execution_count": 3,
   "metadata": {},
   "outputs": [],
   "source": [
    "# Load dataset configuration from 02 (features, treatment, outcomes)\n",
    "from pathlib import Path\n",
    "import pickle\n",
    "\n",
    "outcome = \"fausebal\"\n",
    "IMPUTATION_META = Path(f\"output/params/{outcome}/analysis_imputation_meta.pkl\")\n",
    "if not IMPUTATION_META.exists():\n",
    "    raise FileNotFoundError(\"Missing imputation metadata from 02. Run 02_tune_CATE_estimators.ipynb first.\")\n",
    "with open(IMPUTATION_META, 'rb') as f:\n",
    "    _meta = pickle.load(f)\n",
    "\n",
    "features = _meta[\"features\"]\n",
    "# Direction: infer from ATE on imputed dataset if needed later\n",
    "n_splits = 4\n",
    "q_values = np.array([0.5, 0.4, 0.3, 0.2, 0.1])\n",
    "dir_neg = True\n",
    "\n",
    "# Paths for cached results\n",
    "FILE_PATH = f\"output/analysis/{outcome}/\"\n",
    "Path(FILE_PATH).mkdir(parents=True, exist_ok=True)"
   ]
  },
  {
   "cell_type": "markdown",
   "metadata": {},
   "source": [
    "If notebook has already been run before, load cache of intermediate results using this cell."
   ]
  },
  {
   "cell_type": "code",
   "execution_count": 4,
   "metadata": {},
   "outputs": [],
   "source": [
    "# Load or build intermediate results aligned with current dataset\n",
    "import os\n",
    "from pathlib import Path\n",
    "\n",
    "# Try to load fitted libraries from 03a/03b style cache; otherwise build from tuned params\n",
    "FITTED_LIBS_PATH = Path(FILE_PATH) / f\"{outcome}_fitted_libraries.pkl\"\n",
    "TOP_NAMES_PATH = Path(FILE_PATH) / f\"{outcome}_top_estimator_names.pkl\"\n",
    "TOP_ENSEMBLE_PATH = Path(FILE_PATH) / f\"{outcome}_top_ensemble.pkl\"\n",
    "TOP_FEATURES_PATH = Path(FILE_PATH) / f\"{outcome}_top_features.pkl\"\n",
    "CELL_SEARCH_PATH = Path(FILE_PATH) / f\"{outcome}_cell_search_results.pkl\"\n",
    "PARAMS_PATH = Path(f'output/params/{outcome}') / f'{outcome}_tuned_params.pkl'\n",
    "\n",
    "tuned_params = joblib.load(PARAMS_PATH)\n",
    "top_ensemble = joblib.load(TOP_ENSEMBLE_PATH)\n",
    "fitted_libraries = joblib.load(FITTED_LIBS_PATH)\n",
    "top_estimator_names = joblib.load(TOP_NAMES_PATH)\n",
    "top_features = joblib.load(TOP_FEATURES_PATH) if TOP_FEATURES_PATH.exists() else None\n",
    "search_results_df = joblib.load(CELL_SEARCH_PATH) if CELL_SEARCH_PATH.exists() else None"
   ]
  },
  {
   "cell_type": "markdown",
   "metadata": {},
   "source": [
    "### 1.1. Fit the top ensemble"
   ]
  },
  {
   "cell_type": "code",
   "execution_count": 6,
   "metadata": {},
   "outputs": [],
   "source": [
    "# Fit/load the top ensemble using current cache\n",
    "# (fitted_libraries, top_estimator_names, top_ensemble) are initialized in the setup cell\n",
    "assert 'fitted_libraries' in globals() and 'top_estimator_names' in globals()\n",
    "assert 'top_ensemble' in globals()"
   ]
  },
  {
   "cell_type": "code",
   "execution_count": 7,
   "metadata": {},
   "outputs": [
    {
     "name": "stdout",
     "output_type": "stream",
     "text": [
      "Top ensemble estimators are:\n",
      "1 x_rf\n",
      "2 t_xgb\n",
      "3 r_rfrf\n",
      "4 t_rf\n",
      "5 causal_forest_2\n",
      "6 x_logistic\n",
      "7 x_lasso\n"
     ]
    }
   ],
   "source": [
    "print(\"Top ensemble estimators are:\")\n",
    "for idx, estimator_name in enumerate(top_estimator_names):\n",
    "    print(idx + 1, estimator_name)"
   ]
  },
  {
   "cell_type": "markdown",
   "metadata": {},
   "source": [
    "### 1.2. Find significant quantile"
   ]
  },
  {
   "cell_type": "code",
   "execution_count": null,
   "metadata": {},
   "outputs": [
    {
     "data": {
      "text/html": [
       "<div>\n",
       "<style scoped>\n",
       "    .dataframe tbody tr th:only-of-type {\n",
       "        vertical-align: middle;\n",
       "    }\n",
       "\n",
       "    .dataframe tbody tr th {\n",
       "        vertical-align: top;\n",
       "    }\n",
       "\n",
       "    .dataframe thead th {\n",
       "        text-align: right;\n",
       "    }\n",
       "</style>\n",
       "<table border=\"1\" class=\"dataframe\">\n",
       "  <thead>\n",
       "    <tr style=\"text-align: right;\">\n",
       "      <th></th>\n",
       "      <th>t-stat mean</th>\n",
       "      <th>t-stat std</th>\n",
       "      <th>overlap mean</th>\n",
       "    </tr>\n",
       "  </thead>\n",
       "  <tbody>\n",
       "    <tr>\n",
       "      <th>0.1</th>\n",
       "      <td>-0.98</td>\n",
       "      <td>0.21</td>\n",
       "      <td>0.49</td>\n",
       "    </tr>\n",
       "    <tr>\n",
       "      <th>0.2</th>\n",
       "      <td>-0.87</td>\n",
       "      <td>0.25</td>\n",
       "      <td>0.55</td>\n",
       "    </tr>\n",
       "    <tr>\n",
       "      <th>0.3</th>\n",
       "      <td>-0.44</td>\n",
       "      <td>0.20</td>\n",
       "      <td>0.61</td>\n",
       "    </tr>\n",
       "    <tr>\n",
       "      <th>0.4</th>\n",
       "      <td>-0.22</td>\n",
       "      <td>0.19</td>\n",
       "      <td>0.67</td>\n",
       "    </tr>\n",
       "    <tr>\n",
       "      <th>0.5</th>\n",
       "      <td>-0.15</td>\n",
       "      <td>0.19</td>\n",
       "      <td>0.72</td>\n",
       "    </tr>\n",
       "  </tbody>\n",
       "</table>\n",
       "</div>"
      ],
      "text/plain": [
       "     t-stat mean  t-stat std  overlap mean\n",
       "0.1        -0.98        0.21          0.49\n",
       "0.2        -0.87        0.25          0.55\n",
       "0.3        -0.44        0.20          0.61\n",
       "0.4        -0.22        0.19          0.67\n",
       "0.5        -0.15        0.19          0.72"
      ]
     },
     "execution_count": 8,
     "metadata": {},
     "output_type": "execute_result"
    }
   ],
   "source": [
    "compare_q_values(top_ensemble, [0.1, 0.2, 0.3, 0.4, 0.5]).round(2)"
   ]
  },
  {
   "cell_type": "code",
   "execution_count": 7,
   "metadata": {},
   "outputs": [],
   "source": [
    "# Run this cell to generate latex code for table\n",
    "#print(compare_q_values(top_ensemble, [0.1, 0.2, 0.3, 0.4, 0.5]).round(2).to_latex())"
   ]
  },
  {
   "cell_type": "markdown",
   "metadata": {},
   "source": [
    "The 0.1, 0.2 q value gives by far the best $t$-statistic score, so we shall find important features and then cells that approximate it.  \n",
    "We further check the stability of the quantile-based top subgroup of the ensemble w.r.t q = 0.1, by computing what percentage of  \n",
    "its members are contained in the quantile-based top subgroup for other values of q, when the two subgroups are obtained from  \n",
    "ensembles trained on different data splits."
   ]
  },
  {
   "cell_type": "code",
   "execution_count": null,
   "metadata": {},
   "outputs": [
    {
     "data": {
      "text/html": [
       "<div>\n",
       "<style scoped>\n",
       "    .dataframe tbody tr th:only-of-type {\n",
       "        vertical-align: middle;\n",
       "    }\n",
       "\n",
       "    .dataframe tbody tr th {\n",
       "        vertical-align: top;\n",
       "    }\n",
       "\n",
       "    .dataframe thead th {\n",
       "        text-align: right;\n",
       "    }\n",
       "</style>\n",
       "<table border=\"1\" class=\"dataframe\">\n",
       "  <thead>\n",
       "    <tr style=\"text-align: right;\">\n",
       "      <th></th>\n",
       "      <th>mean coverage</th>\n",
       "      <th>coverage std</th>\n",
       "    </tr>\n",
       "  </thead>\n",
       "  <tbody>\n",
       "    <tr>\n",
       "      <th>0.1</th>\n",
       "      <td>0.49</td>\n",
       "      <td>0.03</td>\n",
       "    </tr>\n",
       "    <tr>\n",
       "      <th>0.2</th>\n",
       "      <td>0.69</td>\n",
       "      <td>0.04</td>\n",
       "    </tr>\n",
       "    <tr>\n",
       "      <th>0.3</th>\n",
       "      <td>0.80</td>\n",
       "      <td>0.03</td>\n",
       "    </tr>\n",
       "    <tr>\n",
       "      <th>0.4</th>\n",
       "      <td>0.86</td>\n",
       "      <td>0.03</td>\n",
       "    </tr>\n",
       "    <tr>\n",
       "      <th>0.5</th>\n",
       "      <td>0.91</td>\n",
       "      <td>0.02</td>\n",
       "    </tr>\n",
       "  </tbody>\n",
       "</table>\n",
       "</div>"
      ],
      "text/plain": [
       "     mean coverage  coverage std\n",
       "0.1           0.49          0.03\n",
       "0.2           0.69          0.04\n",
       "0.3           0.80          0.03\n",
       "0.4           0.86          0.03\n",
       "0.5           0.91          0.02"
      ]
     },
     "execution_count": 9,
     "metadata": {},
     "output_type": "execute_result"
    }
   ],
   "source": [
    "q0 = 0.1\n",
    "q_values_v2 = [0.1, 0.2, 0.3, 0.4, 0.5]\n",
    "get_top_subgroup_stability(top_ensemble, q0, q_values_v2, dir_neg).round(2)"
   ]
  },
  {
   "cell_type": "markdown",
   "metadata": {},
   "source": [
    "### 1.3. Find important features"
   ]
  },
  {
   "cell_type": "markdown",
   "metadata": {},
   "source": [
    "First we generate two different kinds of feature importance scores (refer to paper for details).  \n",
    "We genereate these scores for each q in {0.1,0.2,0.3,0.4,0.5}."
   ]
  },
  {
   "cell_type": "code",
   "execution_count": null,
   "metadata": {},
   "outputs": [
    {
     "data": {
      "text/html": [
       "<div>\n",
       "<style scoped>\n",
       "    .dataframe tbody tr th:only-of-type {\n",
       "        vertical-align: middle;\n",
       "    }\n",
       "\n",
       "    .dataframe tbody tr th {\n",
       "        vertical-align: top;\n",
       "    }\n",
       "\n",
       "    .dataframe thead th {\n",
       "        text-align: right;\n",
       "    }\n",
       "</style>\n",
       "<table border=\"1\" class=\"dataframe\">\n",
       "  <thead>\n",
       "    <tr style=\"text-align: right;\">\n",
       "      <th></th>\n",
       "      <th>0.5</th>\n",
       "      <th>0.4</th>\n",
       "      <th>0.3</th>\n",
       "      <th>0.2</th>\n",
       "      <th>0.1</th>\n",
       "      <th>max</th>\n",
       "      <th>mean</th>\n",
       "    </tr>\n",
       "  </thead>\n",
       "  <tbody>\n",
       "    <tr>\n",
       "      <th>strat_2</th>\n",
       "      <td>-0.0</td>\n",
       "      <td>-0.0</td>\n",
       "      <td>-0.0</td>\n",
       "      <td>-0.0</td>\n",
       "      <td>-0.0</td>\n",
       "      <td>0.0</td>\n",
       "      <td>0.0</td>\n",
       "    </tr>\n",
       "    <tr>\n",
       "      <th>strat_3</th>\n",
       "      <td>-0.0</td>\n",
       "      <td>-0.0</td>\n",
       "      <td>-0.0</td>\n",
       "      <td>-0.0</td>\n",
       "      <td>-0.0</td>\n",
       "      <td>0.0</td>\n",
       "      <td>0.0</td>\n",
       "    </tr>\n",
       "    <tr>\n",
       "      <th>strat_4</th>\n",
       "      <td>-0.0</td>\n",
       "      <td>-0.0</td>\n",
       "      <td>-0.0</td>\n",
       "      <td>-0.0</td>\n",
       "      <td>-0.0</td>\n",
       "      <td>0.0</td>\n",
       "      <td>0.0</td>\n",
       "    </tr>\n",
       "    <tr>\n",
       "      <th>strat_5</th>\n",
       "      <td>0.0</td>\n",
       "      <td>0.0</td>\n",
       "      <td>0.0</td>\n",
       "      <td>0.0</td>\n",
       "      <td>0.0</td>\n",
       "      <td>0.0</td>\n",
       "      <td>0.0</td>\n",
       "    </tr>\n",
       "    <tr>\n",
       "      <th>strat_6</th>\n",
       "      <td>0.0</td>\n",
       "      <td>0.0</td>\n",
       "      <td>0.0</td>\n",
       "      <td>0.0</td>\n",
       "      <td>0.0</td>\n",
       "      <td>0.0</td>\n",
       "      <td>0.0</td>\n",
       "    </tr>\n",
       "    <tr>\n",
       "      <th>...</th>\n",
       "      <td>...</td>\n",
       "      <td>...</td>\n",
       "      <td>...</td>\n",
       "      <td>...</td>\n",
       "      <td>...</td>\n",
       "      <td>...</td>\n",
       "      <td>...</td>\n",
       "    </tr>\n",
       "    <tr>\n",
       "      <th>camp_short</th>\n",
       "      <td>-0.0</td>\n",
       "      <td>-0.0</td>\n",
       "      <td>-0.0</td>\n",
       "      <td>-0.0</td>\n",
       "      <td>-0.0</td>\n",
       "      <td>0.0</td>\n",
       "      <td>0.0</td>\n",
       "    </tr>\n",
       "    <tr>\n",
       "      <th>htefa</th>\n",
       "      <td>0.0</td>\n",
       "      <td>0.0</td>\n",
       "      <td>0.0</td>\n",
       "      <td>0.0</td>\n",
       "      <td>0.0</td>\n",
       "      <td>0.0</td>\n",
       "      <td>0.0</td>\n",
       "    </tr>\n",
       "    <tr>\n",
       "      <th>htebal</th>\n",
       "      <td>0.0</td>\n",
       "      <td>0.0</td>\n",
       "      <td>0.0</td>\n",
       "      <td>0.0</td>\n",
       "      <td>-0.0</td>\n",
       "      <td>0.0</td>\n",
       "      <td>0.0</td>\n",
       "    </tr>\n",
       "    <tr>\n",
       "      <th>awareness</th>\n",
       "      <td>0.0</td>\n",
       "      <td>0.0</td>\n",
       "      <td>0.0</td>\n",
       "      <td>0.0</td>\n",
       "      <td>0.0</td>\n",
       "      <td>0.0</td>\n",
       "      <td>0.0</td>\n",
       "    </tr>\n",
       "    <tr>\n",
       "      <th>creditcard</th>\n",
       "      <td>0.0</td>\n",
       "      <td>0.0</td>\n",
       "      <td>0.0</td>\n",
       "      <td>0.0</td>\n",
       "      <td>0.0</td>\n",
       "      <td>0.0</td>\n",
       "      <td>0.0</td>\n",
       "    </tr>\n",
       "  </tbody>\n",
       "</table>\n",
       "<p>328 rows × 7 columns</p>\n",
       "</div>"
      ],
      "text/plain": [
       "            0.5  0.4  0.3  0.2  0.1  max  mean\n",
       "strat_2    -0.0 -0.0 -0.0 -0.0 -0.0  0.0   0.0\n",
       "strat_3    -0.0 -0.0 -0.0 -0.0 -0.0  0.0   0.0\n",
       "strat_4    -0.0 -0.0 -0.0 -0.0 -0.0  0.0   0.0\n",
       "strat_5     0.0  0.0  0.0  0.0  0.0  0.0   0.0\n",
       "strat_6     0.0  0.0  0.0  0.0  0.0  0.0   0.0\n",
       "...         ...  ...  ...  ...  ...  ...   ...\n",
       "camp_short -0.0 -0.0 -0.0 -0.0 -0.0  0.0   0.0\n",
       "htefa       0.0  0.0  0.0  0.0  0.0  0.0   0.0\n",
       "htebal      0.0  0.0  0.0  0.0 -0.0  0.0   0.0\n",
       "awareness   0.0  0.0  0.0  0.0  0.0  0.0   0.0\n",
       "creditcard  0.0  0.0  0.0  0.0  0.0  0.0   0.0\n",
       "\n",
       "[328 rows x 7 columns]"
      ]
     },
     "execution_count": 10,
     "metadata": {},
     "output_type": "execute_result"
    }
   ],
   "source": [
    "mean_difference_df = get_feature_importance_scores(top_ensemble, \"mean_difference\", \n",
    "                                                   q_values, features, dir_neg).round(2)\n",
    "mean_difference_df"
   ]
  },
  {
   "cell_type": "code",
   "execution_count": 14,
   "metadata": {},
   "outputs": [
    {
     "name": "stderr",
     "output_type": "stream",
     "text": [
      "d:\\statistics\\jofe\\causal-targeting-main\\venv\\Lib\\site-packages\\sklearn\\linear_model\\_logistic.py:473: ConvergenceWarning: lbfgs failed to converge after 300 iteration(s) (status=1):\n",
      "STOP: TOTAL NO. OF ITERATIONS REACHED LIMIT\n",
      "\n",
      "Increase the number of iterations to improve the convergence (max_iter=300).\n",
      "You might also want to scale the data as shown in:\n",
      "    https://scikit-learn.org/stable/modules/preprocessing.html\n",
      "Please also refer to the documentation for alternative solver options:\n",
      "    https://scikit-learn.org/stable/modules/linear_model.html#logistic-regression\n",
      "  n_iter_i = _check_optimize_result(\n",
      "d:\\statistics\\jofe\\causal-targeting-main\\venv\\Lib\\site-packages\\sklearn\\linear_model\\_logistic.py:473: ConvergenceWarning: lbfgs failed to converge after 300 iteration(s) (status=1):\n",
      "STOP: TOTAL NO. OF ITERATIONS REACHED LIMIT\n",
      "\n",
      "Increase the number of iterations to improve the convergence (max_iter=300).\n",
      "You might also want to scale the data as shown in:\n",
      "    https://scikit-learn.org/stable/modules/preprocessing.html\n",
      "Please also refer to the documentation for alternative solver options:\n",
      "    https://scikit-learn.org/stable/modules/linear_model.html#logistic-regression\n",
      "  n_iter_i = _check_optimize_result(\n",
      "d:\\statistics\\jofe\\causal-targeting-main\\venv\\Lib\\site-packages\\sklearn\\linear_model\\_logistic.py:473: ConvergenceWarning: lbfgs failed to converge after 300 iteration(s) (status=1):\n",
      "STOP: TOTAL NO. OF ITERATIONS REACHED LIMIT\n",
      "\n",
      "Increase the number of iterations to improve the convergence (max_iter=300).\n",
      "You might also want to scale the data as shown in:\n",
      "    https://scikit-learn.org/stable/modules/preprocessing.html\n",
      "Please also refer to the documentation for alternative solver options:\n",
      "    https://scikit-learn.org/stable/modules/linear_model.html#logistic-regression\n",
      "  n_iter_i = _check_optimize_result(\n",
      "d:\\statistics\\jofe\\causal-targeting-main\\venv\\Lib\\site-packages\\sklearn\\linear_model\\_logistic.py:473: ConvergenceWarning: lbfgs failed to converge after 300 iteration(s) (status=1):\n",
      "STOP: TOTAL NO. OF ITERATIONS REACHED LIMIT\n",
      "\n",
      "Increase the number of iterations to improve the convergence (max_iter=300).\n",
      "You might also want to scale the data as shown in:\n",
      "    https://scikit-learn.org/stable/modules/preprocessing.html\n",
      "Please also refer to the documentation for alternative solver options:\n",
      "    https://scikit-learn.org/stable/modules/linear_model.html#logistic-regression\n",
      "  n_iter_i = _check_optimize_result(\n",
      "d:\\statistics\\jofe\\causal-targeting-main\\venv\\Lib\\site-packages\\sklearn\\linear_model\\_logistic.py:473: ConvergenceWarning: lbfgs failed to converge after 300 iteration(s) (status=1):\n",
      "STOP: TOTAL NO. OF ITERATIONS REACHED LIMIT\n",
      "\n",
      "Increase the number of iterations to improve the convergence (max_iter=300).\n",
      "You might also want to scale the data as shown in:\n",
      "    https://scikit-learn.org/stable/modules/preprocessing.html\n",
      "Please also refer to the documentation for alternative solver options:\n",
      "    https://scikit-learn.org/stable/modules/linear_model.html#logistic-regression\n",
      "  n_iter_i = _check_optimize_result(\n",
      "d:\\statistics\\jofe\\causal-targeting-main\\venv\\Lib\\site-packages\\sklearn\\linear_model\\_logistic.py:473: ConvergenceWarning: lbfgs failed to converge after 300 iteration(s) (status=1):\n",
      "STOP: TOTAL NO. OF ITERATIONS REACHED LIMIT\n",
      "\n",
      "Increase the number of iterations to improve the convergence (max_iter=300).\n",
      "You might also want to scale the data as shown in:\n",
      "    https://scikit-learn.org/stable/modules/preprocessing.html\n",
      "Please also refer to the documentation for alternative solver options:\n",
      "    https://scikit-learn.org/stable/modules/linear_model.html#logistic-regression\n",
      "  n_iter_i = _check_optimize_result(\n",
      "d:\\statistics\\jofe\\causal-targeting-main\\venv\\Lib\\site-packages\\sklearn\\linear_model\\_logistic.py:473: ConvergenceWarning: lbfgs failed to converge after 300 iteration(s) (status=1):\n",
      "STOP: TOTAL NO. OF ITERATIONS REACHED LIMIT\n",
      "\n",
      "Increase the number of iterations to improve the convergence (max_iter=300).\n",
      "You might also want to scale the data as shown in:\n",
      "    https://scikit-learn.org/stable/modules/preprocessing.html\n",
      "Please also refer to the documentation for alternative solver options:\n",
      "    https://scikit-learn.org/stable/modules/linear_model.html#logistic-regression\n",
      "  n_iter_i = _check_optimize_result(\n",
      "d:\\statistics\\jofe\\causal-targeting-main\\venv\\Lib\\site-packages\\sklearn\\linear_model\\_logistic.py:473: ConvergenceWarning: lbfgs failed to converge after 300 iteration(s) (status=1):\n",
      "STOP: TOTAL NO. OF ITERATIONS REACHED LIMIT\n",
      "\n",
      "Increase the number of iterations to improve the convergence (max_iter=300).\n",
      "You might also want to scale the data as shown in:\n",
      "    https://scikit-learn.org/stable/modules/preprocessing.html\n",
      "Please also refer to the documentation for alternative solver options:\n",
      "    https://scikit-learn.org/stable/modules/linear_model.html#logistic-regression\n",
      "  n_iter_i = _check_optimize_result(\n",
      "d:\\statistics\\jofe\\causal-targeting-main\\venv\\Lib\\site-packages\\sklearn\\linear_model\\_logistic.py:473: ConvergenceWarning: lbfgs failed to converge after 300 iteration(s) (status=1):\n",
      "STOP: TOTAL NO. OF ITERATIONS REACHED LIMIT\n",
      "\n",
      "Increase the number of iterations to improve the convergence (max_iter=300).\n",
      "You might also want to scale the data as shown in:\n",
      "    https://scikit-learn.org/stable/modules/preprocessing.html\n",
      "Please also refer to the documentation for alternative solver options:\n",
      "    https://scikit-learn.org/stable/modules/linear_model.html#logistic-regression\n",
      "  n_iter_i = _check_optimize_result(\n",
      "d:\\statistics\\jofe\\causal-targeting-main\\venv\\Lib\\site-packages\\sklearn\\linear_model\\_logistic.py:473: ConvergenceWarning: lbfgs failed to converge after 300 iteration(s) (status=1):\n",
      "STOP: TOTAL NO. OF ITERATIONS REACHED LIMIT\n",
      "\n",
      "Increase the number of iterations to improve the convergence (max_iter=300).\n",
      "You might also want to scale the data as shown in:\n",
      "    https://scikit-learn.org/stable/modules/preprocessing.html\n",
      "Please also refer to the documentation for alternative solver options:\n",
      "    https://scikit-learn.org/stable/modules/linear_model.html#logistic-regression\n",
      "  n_iter_i = _check_optimize_result(\n",
      "d:\\statistics\\jofe\\causal-targeting-main\\venv\\Lib\\site-packages\\sklearn\\linear_model\\_logistic.py:473: ConvergenceWarning: lbfgs failed to converge after 300 iteration(s) (status=1):\n",
      "STOP: TOTAL NO. OF ITERATIONS REACHED LIMIT\n",
      "\n",
      "Increase the number of iterations to improve the convergence (max_iter=300).\n",
      "You might also want to scale the data as shown in:\n",
      "    https://scikit-learn.org/stable/modules/preprocessing.html\n",
      "Please also refer to the documentation for alternative solver options:\n",
      "    https://scikit-learn.org/stable/modules/linear_model.html#logistic-regression\n",
      "  n_iter_i = _check_optimize_result(\n",
      "d:\\statistics\\jofe\\causal-targeting-main\\venv\\Lib\\site-packages\\sklearn\\linear_model\\_logistic.py:473: ConvergenceWarning: lbfgs failed to converge after 300 iteration(s) (status=1):\n",
      "STOP: TOTAL NO. OF ITERATIONS REACHED LIMIT\n",
      "\n",
      "Increase the number of iterations to improve the convergence (max_iter=300).\n",
      "You might also want to scale the data as shown in:\n",
      "    https://scikit-learn.org/stable/modules/preprocessing.html\n",
      "Please also refer to the documentation for alternative solver options:\n",
      "    https://scikit-learn.org/stable/modules/linear_model.html#logistic-regression\n",
      "  n_iter_i = _check_optimize_result(\n",
      "d:\\statistics\\jofe\\causal-targeting-main\\venv\\Lib\\site-packages\\sklearn\\linear_model\\_logistic.py:473: ConvergenceWarning: lbfgs failed to converge after 300 iteration(s) (status=1):\n",
      "STOP: TOTAL NO. OF ITERATIONS REACHED LIMIT\n",
      "\n",
      "Increase the number of iterations to improve the convergence (max_iter=300).\n",
      "You might also want to scale the data as shown in:\n",
      "    https://scikit-learn.org/stable/modules/preprocessing.html\n",
      "Please also refer to the documentation for alternative solver options:\n",
      "    https://scikit-learn.org/stable/modules/linear_model.html#logistic-regression\n",
      "  n_iter_i = _check_optimize_result(\n",
      "d:\\statistics\\jofe\\causal-targeting-main\\venv\\Lib\\site-packages\\sklearn\\linear_model\\_logistic.py:473: ConvergenceWarning: lbfgs failed to converge after 300 iteration(s) (status=1):\n",
      "STOP: TOTAL NO. OF ITERATIONS REACHED LIMIT\n",
      "\n",
      "Increase the number of iterations to improve the convergence (max_iter=300).\n",
      "You might also want to scale the data as shown in:\n",
      "    https://scikit-learn.org/stable/modules/preprocessing.html\n",
      "Please also refer to the documentation for alternative solver options:\n",
      "    https://scikit-learn.org/stable/modules/linear_model.html#logistic-regression\n",
      "  n_iter_i = _check_optimize_result(\n",
      "d:\\statistics\\jofe\\causal-targeting-main\\venv\\Lib\\site-packages\\sklearn\\linear_model\\_logistic.py:473: ConvergenceWarning: lbfgs failed to converge after 300 iteration(s) (status=1):\n",
      "STOP: TOTAL NO. OF ITERATIONS REACHED LIMIT\n",
      "\n",
      "Increase the number of iterations to improve the convergence (max_iter=300).\n",
      "You might also want to scale the data as shown in:\n",
      "    https://scikit-learn.org/stable/modules/preprocessing.html\n",
      "Please also refer to the documentation for alternative solver options:\n",
      "    https://scikit-learn.org/stable/modules/linear_model.html#logistic-regression\n",
      "  n_iter_i = _check_optimize_result(\n",
      "d:\\statistics\\jofe\\causal-targeting-main\\venv\\Lib\\site-packages\\sklearn\\linear_model\\_logistic.py:473: ConvergenceWarning: lbfgs failed to converge after 300 iteration(s) (status=1):\n",
      "STOP: TOTAL NO. OF ITERATIONS REACHED LIMIT\n",
      "\n",
      "Increase the number of iterations to improve the convergence (max_iter=300).\n",
      "You might also want to scale the data as shown in:\n",
      "    https://scikit-learn.org/stable/modules/preprocessing.html\n",
      "Please also refer to the documentation for alternative solver options:\n",
      "    https://scikit-learn.org/stable/modules/linear_model.html#logistic-regression\n",
      "  n_iter_i = _check_optimize_result(\n",
      "d:\\statistics\\jofe\\causal-targeting-main\\venv\\Lib\\site-packages\\sklearn\\linear_model\\_logistic.py:473: ConvergenceWarning: lbfgs failed to converge after 300 iteration(s) (status=1):\n",
      "STOP: TOTAL NO. OF ITERATIONS REACHED LIMIT\n",
      "\n",
      "Increase the number of iterations to improve the convergence (max_iter=300).\n",
      "You might also want to scale the data as shown in:\n",
      "    https://scikit-learn.org/stable/modules/preprocessing.html\n",
      "Please also refer to the documentation for alternative solver options:\n",
      "    https://scikit-learn.org/stable/modules/linear_model.html#logistic-regression\n",
      "  n_iter_i = _check_optimize_result(\n",
      "d:\\statistics\\jofe\\causal-targeting-main\\venv\\Lib\\site-packages\\sklearn\\linear_model\\_logistic.py:473: ConvergenceWarning: lbfgs failed to converge after 300 iteration(s) (status=1):\n",
      "STOP: TOTAL NO. OF ITERATIONS REACHED LIMIT\n",
      "\n",
      "Increase the number of iterations to improve the convergence (max_iter=300).\n",
      "You might also want to scale the data as shown in:\n",
      "    https://scikit-learn.org/stable/modules/preprocessing.html\n",
      "Please also refer to the documentation for alternative solver options:\n",
      "    https://scikit-learn.org/stable/modules/linear_model.html#logistic-regression\n",
      "  n_iter_i = _check_optimize_result(\n",
      "d:\\statistics\\jofe\\causal-targeting-main\\venv\\Lib\\site-packages\\sklearn\\linear_model\\_logistic.py:473: ConvergenceWarning: lbfgs failed to converge after 300 iteration(s) (status=1):\n",
      "STOP: TOTAL NO. OF ITERATIONS REACHED LIMIT\n",
      "\n",
      "Increase the number of iterations to improve the convergence (max_iter=300).\n",
      "You might also want to scale the data as shown in:\n",
      "    https://scikit-learn.org/stable/modules/preprocessing.html\n",
      "Please also refer to the documentation for alternative solver options:\n",
      "    https://scikit-learn.org/stable/modules/linear_model.html#logistic-regression\n",
      "  n_iter_i = _check_optimize_result(\n",
      "d:\\statistics\\jofe\\causal-targeting-main\\venv\\Lib\\site-packages\\sklearn\\linear_model\\_logistic.py:473: ConvergenceWarning: lbfgs failed to converge after 300 iteration(s) (status=1):\n",
      "STOP: TOTAL NO. OF ITERATIONS REACHED LIMIT\n",
      "\n",
      "Increase the number of iterations to improve the convergence (max_iter=300).\n",
      "You might also want to scale the data as shown in:\n",
      "    https://scikit-learn.org/stable/modules/preprocessing.html\n",
      "Please also refer to the documentation for alternative solver options:\n",
      "    https://scikit-learn.org/stable/modules/linear_model.html#logistic-regression\n",
      "  n_iter_i = _check_optimize_result(\n",
      "d:\\statistics\\jofe\\causal-targeting-main\\venv\\Lib\\site-packages\\sklearn\\linear_model\\_logistic.py:473: ConvergenceWarning: lbfgs failed to converge after 300 iteration(s) (status=1):\n",
      "STOP: TOTAL NO. OF ITERATIONS REACHED LIMIT\n",
      "\n",
      "Increase the number of iterations to improve the convergence (max_iter=300).\n",
      "You might also want to scale the data as shown in:\n",
      "    https://scikit-learn.org/stable/modules/preprocessing.html\n",
      "Please also refer to the documentation for alternative solver options:\n",
      "    https://scikit-learn.org/stable/modules/linear_model.html#logistic-regression\n",
      "  n_iter_i = _check_optimize_result(\n",
      "d:\\statistics\\jofe\\causal-targeting-main\\venv\\Lib\\site-packages\\sklearn\\linear_model\\_logistic.py:473: ConvergenceWarning: lbfgs failed to converge after 300 iteration(s) (status=1):\n",
      "STOP: TOTAL NO. OF ITERATIONS REACHED LIMIT\n",
      "\n",
      "Increase the number of iterations to improve the convergence (max_iter=300).\n",
      "You might also want to scale the data as shown in:\n",
      "    https://scikit-learn.org/stable/modules/preprocessing.html\n",
      "Please also refer to the documentation for alternative solver options:\n",
      "    https://scikit-learn.org/stable/modules/linear_model.html#logistic-regression\n",
      "  n_iter_i = _check_optimize_result(\n",
      "d:\\statistics\\jofe\\causal-targeting-main\\venv\\Lib\\site-packages\\sklearn\\linear_model\\_logistic.py:473: ConvergenceWarning: lbfgs failed to converge after 300 iteration(s) (status=1):\n",
      "STOP: TOTAL NO. OF ITERATIONS REACHED LIMIT\n",
      "\n",
      "Increase the number of iterations to improve the convergence (max_iter=300).\n",
      "You might also want to scale the data as shown in:\n",
      "    https://scikit-learn.org/stable/modules/preprocessing.html\n",
      "Please also refer to the documentation for alternative solver options:\n",
      "    https://scikit-learn.org/stable/modules/linear_model.html#logistic-regression\n",
      "  n_iter_i = _check_optimize_result(\n",
      "d:\\statistics\\jofe\\causal-targeting-main\\venv\\Lib\\site-packages\\sklearn\\linear_model\\_logistic.py:473: ConvergenceWarning: lbfgs failed to converge after 300 iteration(s) (status=1):\n",
      "STOP: TOTAL NO. OF ITERATIONS REACHED LIMIT\n",
      "\n",
      "Increase the number of iterations to improve the convergence (max_iter=300).\n",
      "You might also want to scale the data as shown in:\n",
      "    https://scikit-learn.org/stable/modules/preprocessing.html\n",
      "Please also refer to the documentation for alternative solver options:\n",
      "    https://scikit-learn.org/stable/modules/linear_model.html#logistic-regression\n",
      "  n_iter_i = _check_optimize_result(\n",
      "d:\\statistics\\jofe\\causal-targeting-main\\venv\\Lib\\site-packages\\sklearn\\linear_model\\_logistic.py:473: ConvergenceWarning: lbfgs failed to converge after 300 iteration(s) (status=1):\n",
      "STOP: TOTAL NO. OF ITERATIONS REACHED LIMIT\n",
      "\n",
      "Increase the number of iterations to improve the convergence (max_iter=300).\n",
      "You might also want to scale the data as shown in:\n",
      "    https://scikit-learn.org/stable/modules/preprocessing.html\n",
      "Please also refer to the documentation for alternative solver options:\n",
      "    https://scikit-learn.org/stable/modules/linear_model.html#logistic-regression\n",
      "  n_iter_i = _check_optimize_result(\n",
      "d:\\statistics\\jofe\\causal-targeting-main\\venv\\Lib\\site-packages\\sklearn\\linear_model\\_logistic.py:473: ConvergenceWarning: lbfgs failed to converge after 300 iteration(s) (status=1):\n",
      "STOP: TOTAL NO. OF ITERATIONS REACHED LIMIT\n",
      "\n",
      "Increase the number of iterations to improve the convergence (max_iter=300).\n",
      "You might also want to scale the data as shown in:\n",
      "    https://scikit-learn.org/stable/modules/preprocessing.html\n",
      "Please also refer to the documentation for alternative solver options:\n",
      "    https://scikit-learn.org/stable/modules/linear_model.html#logistic-regression\n",
      "  n_iter_i = _check_optimize_result(\n",
      "d:\\statistics\\jofe\\causal-targeting-main\\venv\\Lib\\site-packages\\sklearn\\linear_model\\_logistic.py:473: ConvergenceWarning: lbfgs failed to converge after 300 iteration(s) (status=1):\n",
      "STOP: TOTAL NO. OF ITERATIONS REACHED LIMIT\n",
      "\n",
      "Increase the number of iterations to improve the convergence (max_iter=300).\n",
      "You might also want to scale the data as shown in:\n",
      "    https://scikit-learn.org/stable/modules/preprocessing.html\n",
      "Please also refer to the documentation for alternative solver options:\n",
      "    https://scikit-learn.org/stable/modules/linear_model.html#logistic-regression\n",
      "  n_iter_i = _check_optimize_result(\n",
      "d:\\statistics\\jofe\\causal-targeting-main\\venv\\Lib\\site-packages\\sklearn\\linear_model\\_logistic.py:473: ConvergenceWarning: lbfgs failed to converge after 300 iteration(s) (status=1):\n",
      "STOP: TOTAL NO. OF ITERATIONS REACHED LIMIT\n",
      "\n",
      "Increase the number of iterations to improve the convergence (max_iter=300).\n",
      "You might also want to scale the data as shown in:\n",
      "    https://scikit-learn.org/stable/modules/preprocessing.html\n",
      "Please also refer to the documentation for alternative solver options:\n",
      "    https://scikit-learn.org/stable/modules/linear_model.html#logistic-regression\n",
      "  n_iter_i = _check_optimize_result(\n",
      "d:\\statistics\\jofe\\causal-targeting-main\\venv\\Lib\\site-packages\\sklearn\\linear_model\\_logistic.py:473: ConvergenceWarning: lbfgs failed to converge after 300 iteration(s) (status=1):\n",
      "STOP: TOTAL NO. OF ITERATIONS REACHED LIMIT\n",
      "\n",
      "Increase the number of iterations to improve the convergence (max_iter=300).\n",
      "You might also want to scale the data as shown in:\n",
      "    https://scikit-learn.org/stable/modules/preprocessing.html\n",
      "Please also refer to the documentation for alternative solver options:\n",
      "    https://scikit-learn.org/stable/modules/linear_model.html#logistic-regression\n",
      "  n_iter_i = _check_optimize_result(\n",
      "d:\\statistics\\jofe\\causal-targeting-main\\venv\\Lib\\site-packages\\sklearn\\linear_model\\_logistic.py:473: ConvergenceWarning: lbfgs failed to converge after 300 iteration(s) (status=1):\n",
      "STOP: TOTAL NO. OF ITERATIONS REACHED LIMIT\n",
      "\n",
      "Increase the number of iterations to improve the convergence (max_iter=300).\n",
      "You might also want to scale the data as shown in:\n",
      "    https://scikit-learn.org/stable/modules/preprocessing.html\n",
      "Please also refer to the documentation for alternative solver options:\n",
      "    https://scikit-learn.org/stable/modules/linear_model.html#logistic-regression\n",
      "  n_iter_i = _check_optimize_result(\n",
      "d:\\statistics\\jofe\\causal-targeting-main\\venv\\Lib\\site-packages\\sklearn\\linear_model\\_logistic.py:473: ConvergenceWarning: lbfgs failed to converge after 300 iteration(s) (status=1):\n",
      "STOP: TOTAL NO. OF ITERATIONS REACHED LIMIT\n",
      "\n",
      "Increase the number of iterations to improve the convergence (max_iter=300).\n",
      "You might also want to scale the data as shown in:\n",
      "    https://scikit-learn.org/stable/modules/preprocessing.html\n",
      "Please also refer to the documentation for alternative solver options:\n",
      "    https://scikit-learn.org/stable/modules/linear_model.html#logistic-regression\n",
      "  n_iter_i = _check_optimize_result(\n",
      "d:\\statistics\\jofe\\causal-targeting-main\\venv\\Lib\\site-packages\\sklearn\\linear_model\\_logistic.py:473: ConvergenceWarning: lbfgs failed to converge after 300 iteration(s) (status=1):\n",
      "STOP: TOTAL NO. OF ITERATIONS REACHED LIMIT\n",
      "\n",
      "Increase the number of iterations to improve the convergence (max_iter=300).\n",
      "You might also want to scale the data as shown in:\n",
      "    https://scikit-learn.org/stable/modules/preprocessing.html\n",
      "Please also refer to the documentation for alternative solver options:\n",
      "    https://scikit-learn.org/stable/modules/linear_model.html#logistic-regression\n",
      "  n_iter_i = _check_optimize_result(\n",
      "d:\\statistics\\jofe\\causal-targeting-main\\venv\\Lib\\site-packages\\sklearn\\linear_model\\_logistic.py:473: ConvergenceWarning: lbfgs failed to converge after 300 iteration(s) (status=1):\n",
      "STOP: TOTAL NO. OF ITERATIONS REACHED LIMIT\n",
      "\n",
      "Increase the number of iterations to improve the convergence (max_iter=300).\n",
      "You might also want to scale the data as shown in:\n",
      "    https://scikit-learn.org/stable/modules/preprocessing.html\n",
      "Please also refer to the documentation for alternative solver options:\n",
      "    https://scikit-learn.org/stable/modules/linear_model.html#logistic-regression\n",
      "  n_iter_i = _check_optimize_result(\n",
      "d:\\statistics\\jofe\\causal-targeting-main\\venv\\Lib\\site-packages\\sklearn\\linear_model\\_logistic.py:473: ConvergenceWarning: lbfgs failed to converge after 300 iteration(s) (status=1):\n",
      "STOP: TOTAL NO. OF ITERATIONS REACHED LIMIT\n",
      "\n",
      "Increase the number of iterations to improve the convergence (max_iter=300).\n",
      "You might also want to scale the data as shown in:\n",
      "    https://scikit-learn.org/stable/modules/preprocessing.html\n",
      "Please also refer to the documentation for alternative solver options:\n",
      "    https://scikit-learn.org/stable/modules/linear_model.html#logistic-regression\n",
      "  n_iter_i = _check_optimize_result(\n",
      "d:\\statistics\\jofe\\causal-targeting-main\\venv\\Lib\\site-packages\\sklearn\\linear_model\\_logistic.py:473: ConvergenceWarning: lbfgs failed to converge after 300 iteration(s) (status=1):\n",
      "STOP: TOTAL NO. OF ITERATIONS REACHED LIMIT\n",
      "\n",
      "Increase the number of iterations to improve the convergence (max_iter=300).\n",
      "You might also want to scale the data as shown in:\n",
      "    https://scikit-learn.org/stable/modules/preprocessing.html\n",
      "Please also refer to the documentation for alternative solver options:\n",
      "    https://scikit-learn.org/stable/modules/linear_model.html#logistic-regression\n",
      "  n_iter_i = _check_optimize_result(\n",
      "d:\\statistics\\jofe\\causal-targeting-main\\venv\\Lib\\site-packages\\sklearn\\linear_model\\_logistic.py:473: ConvergenceWarning: lbfgs failed to converge after 300 iteration(s) (status=1):\n",
      "STOP: TOTAL NO. OF ITERATIONS REACHED LIMIT\n",
      "\n",
      "Increase the number of iterations to improve the convergence (max_iter=300).\n",
      "You might also want to scale the data as shown in:\n",
      "    https://scikit-learn.org/stable/modules/preprocessing.html\n",
      "Please also refer to the documentation for alternative solver options:\n",
      "    https://scikit-learn.org/stable/modules/linear_model.html#logistic-regression\n",
      "  n_iter_i = _check_optimize_result(\n",
      "d:\\statistics\\jofe\\causal-targeting-main\\venv\\Lib\\site-packages\\sklearn\\linear_model\\_logistic.py:473: ConvergenceWarning: lbfgs failed to converge after 300 iteration(s) (status=1):\n",
      "STOP: TOTAL NO. OF ITERATIONS REACHED LIMIT\n",
      "\n",
      "Increase the number of iterations to improve the convergence (max_iter=300).\n",
      "You might also want to scale the data as shown in:\n",
      "    https://scikit-learn.org/stable/modules/preprocessing.html\n",
      "Please also refer to the documentation for alternative solver options:\n",
      "    https://scikit-learn.org/stable/modules/linear_model.html#logistic-regression\n",
      "  n_iter_i = _check_optimize_result(\n",
      "d:\\statistics\\jofe\\causal-targeting-main\\venv\\Lib\\site-packages\\sklearn\\linear_model\\_logistic.py:473: ConvergenceWarning: lbfgs failed to converge after 300 iteration(s) (status=1):\n",
      "STOP: TOTAL NO. OF ITERATIONS REACHED LIMIT\n",
      "\n",
      "Increase the number of iterations to improve the convergence (max_iter=300).\n",
      "You might also want to scale the data as shown in:\n",
      "    https://scikit-learn.org/stable/modules/preprocessing.html\n",
      "Please also refer to the documentation for alternative solver options:\n",
      "    https://scikit-learn.org/stable/modules/linear_model.html#logistic-regression\n",
      "  n_iter_i = _check_optimize_result(\n",
      "d:\\statistics\\jofe\\causal-targeting-main\\venv\\Lib\\site-packages\\sklearn\\linear_model\\_logistic.py:473: ConvergenceWarning: lbfgs failed to converge after 300 iteration(s) (status=1):\n",
      "STOP: TOTAL NO. OF ITERATIONS REACHED LIMIT\n",
      "\n",
      "Increase the number of iterations to improve the convergence (max_iter=300).\n",
      "You might also want to scale the data as shown in:\n",
      "    https://scikit-learn.org/stable/modules/preprocessing.html\n",
      "Please also refer to the documentation for alternative solver options:\n",
      "    https://scikit-learn.org/stable/modules/linear_model.html#logistic-regression\n",
      "  n_iter_i = _check_optimize_result(\n",
      "d:\\statistics\\jofe\\causal-targeting-main\\venv\\Lib\\site-packages\\sklearn\\linear_model\\_logistic.py:473: ConvergenceWarning: lbfgs failed to converge after 300 iteration(s) (status=1):\n",
      "STOP: TOTAL NO. OF ITERATIONS REACHED LIMIT\n",
      "\n",
      "Increase the number of iterations to improve the convergence (max_iter=300).\n",
      "You might also want to scale the data as shown in:\n",
      "    https://scikit-learn.org/stable/modules/preprocessing.html\n",
      "Please also refer to the documentation for alternative solver options:\n",
      "    https://scikit-learn.org/stable/modules/linear_model.html#logistic-regression\n",
      "  n_iter_i = _check_optimize_result(\n",
      "d:\\statistics\\jofe\\causal-targeting-main\\venv\\Lib\\site-packages\\sklearn\\linear_model\\_logistic.py:473: ConvergenceWarning: lbfgs failed to converge after 300 iteration(s) (status=1):\n",
      "STOP: TOTAL NO. OF ITERATIONS REACHED LIMIT\n",
      "\n",
      "Increase the number of iterations to improve the convergence (max_iter=300).\n",
      "You might also want to scale the data as shown in:\n",
      "    https://scikit-learn.org/stable/modules/preprocessing.html\n",
      "Please also refer to the documentation for alternative solver options:\n",
      "    https://scikit-learn.org/stable/modules/linear_model.html#logistic-regression\n",
      "  n_iter_i = _check_optimize_result(\n",
      "d:\\statistics\\jofe\\causal-targeting-main\\venv\\Lib\\site-packages\\sklearn\\linear_model\\_logistic.py:473: ConvergenceWarning: lbfgs failed to converge after 300 iteration(s) (status=1):\n",
      "STOP: TOTAL NO. OF ITERATIONS REACHED LIMIT\n",
      "\n",
      "Increase the number of iterations to improve the convergence (max_iter=300).\n",
      "You might also want to scale the data as shown in:\n",
      "    https://scikit-learn.org/stable/modules/preprocessing.html\n",
      "Please also refer to the documentation for alternative solver options:\n",
      "    https://scikit-learn.org/stable/modules/linear_model.html#logistic-regression\n",
      "  n_iter_i = _check_optimize_result(\n",
      "d:\\statistics\\jofe\\causal-targeting-main\\venv\\Lib\\site-packages\\sklearn\\linear_model\\_logistic.py:473: ConvergenceWarning: lbfgs failed to converge after 300 iteration(s) (status=1):\n",
      "STOP: TOTAL NO. OF ITERATIONS REACHED LIMIT\n",
      "\n",
      "Increase the number of iterations to improve the convergence (max_iter=300).\n",
      "You might also want to scale the data as shown in:\n",
      "    https://scikit-learn.org/stable/modules/preprocessing.html\n",
      "Please also refer to the documentation for alternative solver options:\n",
      "    https://scikit-learn.org/stable/modules/linear_model.html#logistic-regression\n",
      "  n_iter_i = _check_optimize_result(\n",
      "d:\\statistics\\jofe\\causal-targeting-main\\venv\\Lib\\site-packages\\sklearn\\linear_model\\_logistic.py:473: ConvergenceWarning: lbfgs failed to converge after 300 iteration(s) (status=1):\n",
      "STOP: TOTAL NO. OF ITERATIONS REACHED LIMIT\n",
      "\n",
      "Increase the number of iterations to improve the convergence (max_iter=300).\n",
      "You might also want to scale the data as shown in:\n",
      "    https://scikit-learn.org/stable/modules/preprocessing.html\n",
      "Please also refer to the documentation for alternative solver options:\n",
      "    https://scikit-learn.org/stable/modules/linear_model.html#logistic-regression\n",
      "  n_iter_i = _check_optimize_result(\n",
      "d:\\statistics\\jofe\\causal-targeting-main\\venv\\Lib\\site-packages\\sklearn\\linear_model\\_logistic.py:473: ConvergenceWarning: lbfgs failed to converge after 300 iteration(s) (status=1):\n",
      "STOP: TOTAL NO. OF ITERATIONS REACHED LIMIT\n",
      "\n",
      "Increase the number of iterations to improve the convergence (max_iter=300).\n",
      "You might also want to scale the data as shown in:\n",
      "    https://scikit-learn.org/stable/modules/preprocessing.html\n",
      "Please also refer to the documentation for alternative solver options:\n",
      "    https://scikit-learn.org/stable/modules/linear_model.html#logistic-regression\n",
      "  n_iter_i = _check_optimize_result(\n",
      "d:\\statistics\\jofe\\causal-targeting-main\\venv\\Lib\\site-packages\\sklearn\\linear_model\\_logistic.py:473: ConvergenceWarning: lbfgs failed to converge after 300 iteration(s) (status=1):\n",
      "STOP: TOTAL NO. OF ITERATIONS REACHED LIMIT\n",
      "\n",
      "Increase the number of iterations to improve the convergence (max_iter=300).\n",
      "You might also want to scale the data as shown in:\n",
      "    https://scikit-learn.org/stable/modules/preprocessing.html\n",
      "Please also refer to the documentation for alternative solver options:\n",
      "    https://scikit-learn.org/stable/modules/linear_model.html#logistic-regression\n",
      "  n_iter_i = _check_optimize_result(\n",
      "d:\\statistics\\jofe\\causal-targeting-main\\venv\\Lib\\site-packages\\sklearn\\linear_model\\_logistic.py:473: ConvergenceWarning: lbfgs failed to converge after 300 iteration(s) (status=1):\n",
      "STOP: TOTAL NO. OF ITERATIONS REACHED LIMIT\n",
      "\n",
      "Increase the number of iterations to improve the convergence (max_iter=300).\n",
      "You might also want to scale the data as shown in:\n",
      "    https://scikit-learn.org/stable/modules/preprocessing.html\n",
      "Please also refer to the documentation for alternative solver options:\n",
      "    https://scikit-learn.org/stable/modules/linear_model.html#logistic-regression\n",
      "  n_iter_i = _check_optimize_result(\n",
      "d:\\statistics\\jofe\\causal-targeting-main\\venv\\Lib\\site-packages\\sklearn\\linear_model\\_logistic.py:473: ConvergenceWarning: lbfgs failed to converge after 300 iteration(s) (status=1):\n",
      "STOP: TOTAL NO. OF ITERATIONS REACHED LIMIT\n",
      "\n",
      "Increase the number of iterations to improve the convergence (max_iter=300).\n",
      "You might also want to scale the data as shown in:\n",
      "    https://scikit-learn.org/stable/modules/preprocessing.html\n",
      "Please also refer to the documentation for alternative solver options:\n",
      "    https://scikit-learn.org/stable/modules/linear_model.html#logistic-regression\n",
      "  n_iter_i = _check_optimize_result(\n",
      "d:\\statistics\\jofe\\causal-targeting-main\\venv\\Lib\\site-packages\\sklearn\\linear_model\\_logistic.py:473: ConvergenceWarning: lbfgs failed to converge after 300 iteration(s) (status=1):\n",
      "STOP: TOTAL NO. OF ITERATIONS REACHED LIMIT\n",
      "\n",
      "Increase the number of iterations to improve the convergence (max_iter=300).\n",
      "You might also want to scale the data as shown in:\n",
      "    https://scikit-learn.org/stable/modules/preprocessing.html\n",
      "Please also refer to the documentation for alternative solver options:\n",
      "    https://scikit-learn.org/stable/modules/linear_model.html#logistic-regression\n",
      "  n_iter_i = _check_optimize_result(\n",
      "d:\\statistics\\jofe\\causal-targeting-main\\venv\\Lib\\site-packages\\sklearn\\linear_model\\_logistic.py:473: ConvergenceWarning: lbfgs failed to converge after 300 iteration(s) (status=1):\n",
      "STOP: TOTAL NO. OF ITERATIONS REACHED LIMIT\n",
      "\n",
      "Increase the number of iterations to improve the convergence (max_iter=300).\n",
      "You might also want to scale the data as shown in:\n",
      "    https://scikit-learn.org/stable/modules/preprocessing.html\n",
      "Please also refer to the documentation for alternative solver options:\n",
      "    https://scikit-learn.org/stable/modules/linear_model.html#logistic-regression\n",
      "  n_iter_i = _check_optimize_result(\n",
      "d:\\statistics\\jofe\\causal-targeting-main\\venv\\Lib\\site-packages\\sklearn\\linear_model\\_logistic.py:473: ConvergenceWarning: lbfgs failed to converge after 300 iteration(s) (status=1):\n",
      "STOP: TOTAL NO. OF ITERATIONS REACHED LIMIT\n",
      "\n",
      "Increase the number of iterations to improve the convergence (max_iter=300).\n",
      "You might also want to scale the data as shown in:\n",
      "    https://scikit-learn.org/stable/modules/preprocessing.html\n",
      "Please also refer to the documentation for alternative solver options:\n",
      "    https://scikit-learn.org/stable/modules/linear_model.html#logistic-regression\n",
      "  n_iter_i = _check_optimize_result(\n",
      "d:\\statistics\\jofe\\causal-targeting-main\\venv\\Lib\\site-packages\\sklearn\\linear_model\\_logistic.py:473: ConvergenceWarning: lbfgs failed to converge after 300 iteration(s) (status=1):\n",
      "STOP: TOTAL NO. OF ITERATIONS REACHED LIMIT\n",
      "\n",
      "Increase the number of iterations to improve the convergence (max_iter=300).\n",
      "You might also want to scale the data as shown in:\n",
      "    https://scikit-learn.org/stable/modules/preprocessing.html\n",
      "Please also refer to the documentation for alternative solver options:\n",
      "    https://scikit-learn.org/stable/modules/linear_model.html#logistic-regression\n",
      "  n_iter_i = _check_optimize_result(\n",
      "d:\\statistics\\jofe\\causal-targeting-main\\venv\\Lib\\site-packages\\sklearn\\linear_model\\_logistic.py:473: ConvergenceWarning: lbfgs failed to converge after 300 iteration(s) (status=1):\n",
      "STOP: TOTAL NO. OF ITERATIONS REACHED LIMIT\n",
      "\n",
      "Increase the number of iterations to improve the convergence (max_iter=300).\n",
      "You might also want to scale the data as shown in:\n",
      "    https://scikit-learn.org/stable/modules/preprocessing.html\n",
      "Please also refer to the documentation for alternative solver options:\n",
      "    https://scikit-learn.org/stable/modules/linear_model.html#logistic-regression\n",
      "  n_iter_i = _check_optimize_result(\n",
      "d:\\statistics\\jofe\\causal-targeting-main\\venv\\Lib\\site-packages\\sklearn\\linear_model\\_logistic.py:473: ConvergenceWarning: lbfgs failed to converge after 300 iteration(s) (status=1):\n",
      "STOP: TOTAL NO. OF ITERATIONS REACHED LIMIT\n",
      "\n",
      "Increase the number of iterations to improve the convergence (max_iter=300).\n",
      "You might also want to scale the data as shown in:\n",
      "    https://scikit-learn.org/stable/modules/preprocessing.html\n",
      "Please also refer to the documentation for alternative solver options:\n",
      "    https://scikit-learn.org/stable/modules/linear_model.html#logistic-regression\n",
      "  n_iter_i = _check_optimize_result(\n",
      "d:\\statistics\\jofe\\causal-targeting-main\\venv\\Lib\\site-packages\\sklearn\\linear_model\\_logistic.py:473: ConvergenceWarning: lbfgs failed to converge after 300 iteration(s) (status=1):\n",
      "STOP: TOTAL NO. OF ITERATIONS REACHED LIMIT\n",
      "\n",
      "Increase the number of iterations to improve the convergence (max_iter=300).\n",
      "You might also want to scale the data as shown in:\n",
      "    https://scikit-learn.org/stable/modules/preprocessing.html\n",
      "Please also refer to the documentation for alternative solver options:\n",
      "    https://scikit-learn.org/stable/modules/linear_model.html#logistic-regression\n",
      "  n_iter_i = _check_optimize_result(\n",
      "d:\\statistics\\jofe\\causal-targeting-main\\venv\\Lib\\site-packages\\sklearn\\linear_model\\_logistic.py:473: ConvergenceWarning: lbfgs failed to converge after 300 iteration(s) (status=1):\n",
      "STOP: TOTAL NO. OF ITERATIONS REACHED LIMIT\n",
      "\n",
      "Increase the number of iterations to improve the convergence (max_iter=300).\n",
      "You might also want to scale the data as shown in:\n",
      "    https://scikit-learn.org/stable/modules/preprocessing.html\n",
      "Please also refer to the documentation for alternative solver options:\n",
      "    https://scikit-learn.org/stable/modules/linear_model.html#logistic-regression\n",
      "  n_iter_i = _check_optimize_result(\n",
      "d:\\statistics\\jofe\\causal-targeting-main\\venv\\Lib\\site-packages\\sklearn\\linear_model\\_logistic.py:473: ConvergenceWarning: lbfgs failed to converge after 300 iteration(s) (status=1):\n",
      "STOP: TOTAL NO. OF ITERATIONS REACHED LIMIT\n",
      "\n",
      "Increase the number of iterations to improve the convergence (max_iter=300).\n",
      "You might also want to scale the data as shown in:\n",
      "    https://scikit-learn.org/stable/modules/preprocessing.html\n",
      "Please also refer to the documentation for alternative solver options:\n",
      "    https://scikit-learn.org/stable/modules/linear_model.html#logistic-regression\n",
      "  n_iter_i = _check_optimize_result(\n",
      "d:\\statistics\\jofe\\causal-targeting-main\\venv\\Lib\\site-packages\\sklearn\\linear_model\\_logistic.py:473: ConvergenceWarning: lbfgs failed to converge after 300 iteration(s) (status=1):\n",
      "STOP: TOTAL NO. OF ITERATIONS REACHED LIMIT\n",
      "\n",
      "Increase the number of iterations to improve the convergence (max_iter=300).\n",
      "You might also want to scale the data as shown in:\n",
      "    https://scikit-learn.org/stable/modules/preprocessing.html\n",
      "Please also refer to the documentation for alternative solver options:\n",
      "    https://scikit-learn.org/stable/modules/linear_model.html#logistic-regression\n",
      "  n_iter_i = _check_optimize_result(\n",
      "d:\\statistics\\jofe\\causal-targeting-main\\venv\\Lib\\site-packages\\sklearn\\linear_model\\_logistic.py:473: ConvergenceWarning: lbfgs failed to converge after 300 iteration(s) (status=1):\n",
      "STOP: TOTAL NO. OF ITERATIONS REACHED LIMIT\n",
      "\n",
      "Increase the number of iterations to improve the convergence (max_iter=300).\n",
      "You might also want to scale the data as shown in:\n",
      "    https://scikit-learn.org/stable/modules/preprocessing.html\n",
      "Please also refer to the documentation for alternative solver options:\n",
      "    https://scikit-learn.org/stable/modules/linear_model.html#logistic-regression\n",
      "  n_iter_i = _check_optimize_result(\n",
      "d:\\statistics\\jofe\\causal-targeting-main\\venv\\Lib\\site-packages\\sklearn\\linear_model\\_logistic.py:473: ConvergenceWarning: lbfgs failed to converge after 300 iteration(s) (status=1):\n",
      "STOP: TOTAL NO. OF ITERATIONS REACHED LIMIT\n",
      "\n",
      "Increase the number of iterations to improve the convergence (max_iter=300).\n",
      "You might also want to scale the data as shown in:\n",
      "    https://scikit-learn.org/stable/modules/preprocessing.html\n",
      "Please also refer to the documentation for alternative solver options:\n",
      "    https://scikit-learn.org/stable/modules/linear_model.html#logistic-regression\n",
      "  n_iter_i = _check_optimize_result(\n"
     ]
    },
    {
     "data": {
      "text/html": [
       "<div>\n",
       "<style scoped>\n",
       "    .dataframe tbody tr th:only-of-type {\n",
       "        vertical-align: middle;\n",
       "    }\n",
       "\n",
       "    .dataframe tbody tr th {\n",
       "        vertical-align: top;\n",
       "    }\n",
       "\n",
       "    .dataframe thead th {\n",
       "        text-align: right;\n",
       "    }\n",
       "</style>\n",
       "<table border=\"1\" class=\"dataframe\">\n",
       "  <thead>\n",
       "    <tr style=\"text-align: right;\">\n",
       "      <th></th>\n",
       "      <th>0.5</th>\n",
       "      <th>0.4</th>\n",
       "      <th>0.3</th>\n",
       "      <th>0.2</th>\n",
       "      <th>0.1</th>\n",
       "      <th>max</th>\n",
       "      <th>mean</th>\n",
       "    </tr>\n",
       "  </thead>\n",
       "  <tbody>\n",
       "    <tr>\n",
       "      <th>strat_2</th>\n",
       "      <td>-0.03</td>\n",
       "      <td>-0.03</td>\n",
       "      <td>-0.02</td>\n",
       "      <td>-0.02</td>\n",
       "      <td>-0.02</td>\n",
       "      <td>0.03</td>\n",
       "      <td>0.02</td>\n",
       "    </tr>\n",
       "    <tr>\n",
       "      <th>strat_3</th>\n",
       "      <td>-0.02</td>\n",
       "      <td>-0.03</td>\n",
       "      <td>-0.03</td>\n",
       "      <td>-0.03</td>\n",
       "      <td>-0.04</td>\n",
       "      <td>0.04</td>\n",
       "      <td>0.03</td>\n",
       "    </tr>\n",
       "    <tr>\n",
       "      <th>strat_4</th>\n",
       "      <td>-0.01</td>\n",
       "      <td>-0.01</td>\n",
       "      <td>-0.02</td>\n",
       "      <td>-0.02</td>\n",
       "      <td>-0.01</td>\n",
       "      <td>0.02</td>\n",
       "      <td>0.01</td>\n",
       "    </tr>\n",
       "    <tr>\n",
       "      <th>strat_5</th>\n",
       "      <td>0.00</td>\n",
       "      <td>0.00</td>\n",
       "      <td>0.00</td>\n",
       "      <td>0.00</td>\n",
       "      <td>0.00</td>\n",
       "      <td>0.00</td>\n",
       "      <td>0.00</td>\n",
       "    </tr>\n",
       "    <tr>\n",
       "      <th>strat_6</th>\n",
       "      <td>0.00</td>\n",
       "      <td>0.00</td>\n",
       "      <td>0.00</td>\n",
       "      <td>0.00</td>\n",
       "      <td>0.00</td>\n",
       "      <td>0.00</td>\n",
       "      <td>0.00</td>\n",
       "    </tr>\n",
       "    <tr>\n",
       "      <th>...</th>\n",
       "      <td>...</td>\n",
       "      <td>...</td>\n",
       "      <td>...</td>\n",
       "      <td>...</td>\n",
       "      <td>...</td>\n",
       "      <td>...</td>\n",
       "      <td>...</td>\n",
       "    </tr>\n",
       "    <tr>\n",
       "      <th>camp_short</th>\n",
       "      <td>-0.00</td>\n",
       "      <td>-0.00</td>\n",
       "      <td>-0.00</td>\n",
       "      <td>-0.00</td>\n",
       "      <td>-0.01</td>\n",
       "      <td>0.01</td>\n",
       "      <td>0.00</td>\n",
       "    </tr>\n",
       "    <tr>\n",
       "      <th>htefa</th>\n",
       "      <td>-0.00</td>\n",
       "      <td>0.01</td>\n",
       "      <td>0.02</td>\n",
       "      <td>0.03</td>\n",
       "      <td>0.05</td>\n",
       "      <td>0.05</td>\n",
       "      <td>0.02</td>\n",
       "    </tr>\n",
       "    <tr>\n",
       "      <th>htebal</th>\n",
       "      <td>0.01</td>\n",
       "      <td>0.01</td>\n",
       "      <td>0.00</td>\n",
       "      <td>-0.00</td>\n",
       "      <td>-0.01</td>\n",
       "      <td>0.01</td>\n",
       "      <td>0.01</td>\n",
       "    </tr>\n",
       "    <tr>\n",
       "      <th>awareness</th>\n",
       "      <td>0.00</td>\n",
       "      <td>0.00</td>\n",
       "      <td>0.00</td>\n",
       "      <td>0.00</td>\n",
       "      <td>0.01</td>\n",
       "      <td>0.01</td>\n",
       "      <td>0.00</td>\n",
       "    </tr>\n",
       "    <tr>\n",
       "      <th>creditcard</th>\n",
       "      <td>-0.00</td>\n",
       "      <td>-0.00</td>\n",
       "      <td>0.00</td>\n",
       "      <td>0.01</td>\n",
       "      <td>0.01</td>\n",
       "      <td>0.01</td>\n",
       "      <td>0.00</td>\n",
       "    </tr>\n",
       "  </tbody>\n",
       "</table>\n",
       "<p>328 rows × 7 columns</p>\n",
       "</div>"
      ],
      "text/plain": [
       "             0.5   0.4   0.3   0.2   0.1   max  mean\n",
       "strat_2    -0.03 -0.03 -0.02 -0.02 -0.02  0.03  0.02\n",
       "strat_3    -0.02 -0.03 -0.03 -0.03 -0.04  0.04  0.03\n",
       "strat_4    -0.01 -0.01 -0.02 -0.02 -0.01  0.02  0.01\n",
       "strat_5     0.00  0.00  0.00  0.00  0.00  0.00  0.00\n",
       "strat_6     0.00  0.00  0.00  0.00  0.00  0.00  0.00\n",
       "...          ...   ...   ...   ...   ...   ...   ...\n",
       "camp_short -0.00 -0.00 -0.00 -0.00 -0.01  0.01  0.00\n",
       "htefa      -0.00  0.01  0.02  0.03  0.05  0.05  0.02\n",
       "htebal      0.01  0.01  0.00 -0.00 -0.01  0.01  0.01\n",
       "awareness   0.00  0.00  0.00  0.00  0.01  0.01  0.00\n",
       "creditcard -0.00 -0.00  0.00  0.01  0.01  0.01  0.00\n",
       "\n",
       "[328 rows x 7 columns]"
      ]
     },
     "execution_count": 14,
     "metadata": {},
     "output_type": "execute_result"
    }
   ],
   "source": [
    "log_coef_df = get_feature_importance_scores(top_ensemble, \"log_coef\", \n",
    "                                            q_values, features, dir_neg)\n",
    "log_coef_df.round(2)"
   ]
  },
  {
   "cell_type": "markdown",
   "metadata": {},
   "source": [
    "We rank the features by taking the mean over the scores for q=0.1 and q=0.2."
   ]
  },
  {
   "cell_type": "code",
   "execution_count": null,
   "metadata": {},
   "outputs": [],
   "source": [
    "qs = [0.1, 0.2]\n",
    "df2 = pd.DataFrame(log_coef_df[qs].mean(1), columns=[\"mean\"])\n",
    "df1 = pd.DataFrame(mean_difference_df[qs].mean(1), columns=[\"mean\"])\n",
    "\n",
    "q_pick = \"mean\"\n",
    "\n",
    "df2[q_pick] = np.abs(df2[q_pick])\n",
    "df2 = df2.sort_values(q_pick, ascending=False)\n",
    "\n",
    "df1[q_pick] = np.abs(df1[q_pick])\n",
    "df1 = df1.reindex(df2.index)"
   ]
  },
  {
   "cell_type": "code",
   "execution_count": 16,
   "metadata": {},
   "outputs": [
    {
     "name": "stdout",
     "output_type": "stream",
     "text": [
      "Top features are: ['assets' 'debt' 'deposits' 'htefa' 'minbal' 'paymentmean' 'strat_103'\n",
      " 'strat_23' 'strat_241' 'strat_3' 'strat_63' 'strat_83' 'strat_86']\n",
      "Num top features: 13\n"
     ]
    }
   ],
   "source": [
    "mean_difference_top = df1.sort_values(q_pick, ascending = False)[:8]\n",
    "log_coef_top = df2.sort_values(q_pick, ascending = False)[:8]\n",
    "\n",
    "top_features = np.unique(np.hstack((mean_difference_top.index, log_coef_top.index)))\n",
    "print(\"Top features are:\", top_features)\n",
    "print(\"Num top features:\", len(top_features))"
   ]
  },
  {
   "cell_type": "markdown",
   "metadata": {},
   "source": [
    "Let's now plot the scores."
   ]
  },
  {
   "cell_type": "code",
   "execution_count": 17,
   "metadata": {},
   "outputs": [],
   "source": [
    "# Plot style settings\n",
    "plt.style.use(\"fivethirtyeight\")\n",
    "label_size = 22\n",
    "mpl.rcParams['xtick.labelsize'] = label_size \n",
    "mpl.rcParams['ytick.labelsize'] = label_size \n",
    "mpl.rcParams['axes.labelsize'] = label_size\n",
    "mpl.rcParams['axes.titlesize'] = label_size\n",
    "mpl.rcParams['figure.titlesize'] = label_size\n",
    "mpl.rcParams['lines.markersize'] = 10\n",
    "mpl.rcParams['grid.linewidth'] = 2.5\n",
    "mpl.rcParams['legend.fontsize'] = 20\n",
    "pylab.rcParams['xtick.major.pad'] = 5\n",
    "pylab.rcParams['ytick.major.pad'] = 5\n",
    "mpl.rcParams[\"figure.figsize\"] = [8, 6]\n",
    "mpl.rcParams['savefig.transparent'] = True\n",
    "\n",
    "\n",
    "plt.rcParams['figure.facecolor'] = 'white'\n",
    "plt.rcParams['figure.edgecolor'] = 'black'\n",
    "# plt.rcParams['patch.edgecolor'] = 'white'\n",
    "plt.rcParams['axes.facecolor'] = 'white'\n",
    "# plt.rcParams['grid.color'] = 'black'\n",
    "\n",
    "colors = plt.rcParams['axes.prop_cycle'].by_key()['color']\n",
    "\n",
    "SAVE_PATH  = f\"output/figures/{outcome}/\""
   ]
  },
  {
   "cell_type": "code",
   "execution_count": 18,
   "metadata": {},
   "outputs": [],
   "source": [
    "imp_type =  [\"Logistic\"]*8\n",
    "imp_type += [\"Difference\"]*8"
   ]
  },
  {
   "cell_type": "code",
   "execution_count": 19,
   "metadata": {},
   "outputs": [],
   "source": [
    "d = {'values': np.hstack((mean_difference_top.values.T[0]/sum(mean_difference_top.values), \n",
    "                          log_coef_top.values.T[0]/sum(log_coef_top.values))),\n",
    "     \"feature\" : np.hstack((mean_difference_top.index, log_coef_top.index)),\n",
    "     'type': imp_type}\n",
    "#joblib.dump(d, \"data_files/GI/GI_feat_imp\")"
   ]
  },
  {
   "cell_type": "code",
   "execution_count": null,
   "metadata": {},
   "outputs": [
    {
     "data": {
      "image/png": "[encoded data removed]",
      "text/plain": [
       "<Figure size 1200x800 with 1 Axes>"
      ]
     },
     "metadata": {},
     "output_type": "display_data"
    }
   ],
   "source": [
    "savfig = False\n",
    "temp_df = pd.DataFrame(d)\n",
    "fig, ax = plt.subplots(figsize=[12, 8])\n",
    "sns.barplot(y='feature', x='values', hue='type', data=temp_df,  orient='h', ax=ax, alpha=0.9)\n",
    "ax.set_ylabel('')\n",
    "plt.title(\"Feature importance scores\")\n",
    "plt.tight_layout()\n",
    "if savfig:\n",
    "    plt.savefig(SAVE_PATH + f\"{outcome}_feat_imp.pdf\")\n",
    "plt.show()"
   ]
  },
  {
   "cell_type": "markdown",
   "metadata": {},
   "source": [
    "## 2. Cell search"
   ]
  },
  {
   "cell_type": "markdown",
   "metadata": {},
   "source": [
    "A description of the cell search algorithm can be found in the paper.\n",
    "\n",
    "In this section, we perform multiple runs of cell search, by varying the training fold used to train  \n",
    "the estimator. Furthermore, in cell search, there is an option to randomize the algorithm by choosing  \n",
    "randomly from among a list of top cells. In the multiple runs, we also vary the random seed used to do  \n",
    "this."
   ]
  },
  {
   "cell_type": "code",
   "execution_count": 6,
   "metadata": {},
   "outputs": [],
   "source": [
    "# Options for cell search\n",
    "outcome = \"fausebal\"\n",
    "q_values = [0.1, 0.2]\n",
    "n_cells = 3\n",
    "max_features = 3\n",
    "n_reps = 5\n",
    "penalty = 1\n",
    "tol = 0.05\n",
    "min_support = 0.001\n",
    "# dir_neg already set from setup\n",
    "trainval_df = pd.read_csv(f\"output/analysis/{outcome}/trainval_data.csv\")"
   ]
  },
  {
   "cell_type": "code",
   "execution_count": 7,
   "metadata": {},
   "outputs": [
    {
     "name": "stderr",
     "output_type": "stream",
     "text": [
      "  0%|          | 0/12 [00:00<?, ?it/s]\n"
     ]
    },
    {
     "ename": "ValueError",
     "evalue": "Shape of passed values is (108000, 328), indices imply (108000, 321)",
     "output_type": "error",
     "traceback": [
      "\u001b[31m---------------------------------------------------------------------------\u001b[39m",
      "\u001b[31mValueError\u001b[39m                                Traceback (most recent call last)",
      "\u001b[36mCell\u001b[39m\u001b[36m \u001b[39m\u001b[32mIn[7]\u001b[39m\u001b[32m, line 2\u001b[39m\n\u001b[32m      1\u001b[39m \u001b[38;5;66;03m# Run cell search\u001b[39;00m\n\u001b[32m----> \u001b[39m\u001b[32m2\u001b[39m search_results_df = \u001b[43mget_cell_search_results\u001b[49m\u001b[43m(\u001b[49m\u001b[43mtop_ensemble\u001b[49m\u001b[43m,\u001b[49m\u001b[43m \u001b[49m\u001b[43mfeatures\u001b[49m\u001b[43m,\u001b[49m\u001b[43m \u001b[49m\u001b[43mtop_features\u001b[49m\u001b[43m,\u001b[49m\u001b[43m \u001b[49m\n\u001b[32m      3\u001b[39m \u001b[43m                            \u001b[49m\u001b[43mq_values\u001b[49m\u001b[43m,\u001b[49m\u001b[43m \u001b[49m\u001b[43mn_cells\u001b[49m\u001b[43m,\u001b[49m\u001b[43m \u001b[49m\u001b[43mmax_features\u001b[49m\u001b[43m,\u001b[49m\u001b[43m \u001b[49m\u001b[43mn_reps\u001b[49m\u001b[43m,\u001b[49m\u001b[43m \u001b[49m\u001b[43mpenalty\u001b[49m\u001b[43m,\u001b[49m\u001b[43m \u001b[49m\n\u001b[32m      4\u001b[39m \u001b[43m                            \u001b[49m\u001b[43mtol\u001b[49m\u001b[43m,\u001b[49m\u001b[43m \u001b[49m\u001b[43mmin_support\u001b[49m\u001b[43m,\u001b[49m\u001b[43m \u001b[49m\u001b[43mdir_neg\u001b[49m\u001b[43m)\u001b[49m\n",
      "\u001b[36mFile \u001b[39m\u001b[32md:\\statistics\\jofe\\causal-targeting-main\\methods\\cell_search.py:556\u001b[39m, in \u001b[36mget_cell_search_results\u001b[39m\u001b[34m(CATE_estimator, all_features, top_features, q_values, n_cells, max_features, n_reps, penalty, tol, min_support, dir_neg)\u001b[39m\n\u001b[32m    554\u001b[39m \u001b[38;5;28;01mfor\u001b[39;00m fold \u001b[38;5;129;01min\u001b[39;00m tqdm(\u001b[38;5;28mrange\u001b[39m(CATE_estimator.n_splits)):\n\u001b[32m    555\u001b[39m     \u001b[38;5;28;01mfor\u001b[39;00m q \u001b[38;5;129;01min\u001b[39;00m q_values:\n\u001b[32m--> \u001b[39m\u001b[32m556\u001b[39m         cell_search_run = \u001b[43mCellSearch\u001b[49m\u001b[43m(\u001b[49m\u001b[43mCATE_estimator\u001b[49m\u001b[43m,\u001b[49m\u001b[43m \u001b[49m\u001b[43mfold\u001b[49m\u001b[43m,\u001b[49m\u001b[43m \u001b[49m\u001b[43mall_features\u001b[49m\u001b[43m,\u001b[49m\u001b[43m \u001b[49m\n\u001b[32m    557\u001b[39m \u001b[43m                                     \u001b[49m\u001b[43mtop_features\u001b[49m\u001b[43m,\u001b[49m\u001b[43m \u001b[49m\u001b[43mq\u001b[49m\u001b[43m,\u001b[49m\u001b[43m \u001b[49m\u001b[43mdir_neg\u001b[49m\u001b[43m,\u001b[49m\u001b[43m \u001b[49m\u001b[43mmin_support\u001b[49m\u001b[43m)\u001b[49m\n\u001b[32m    558\u001b[39m         \u001b[38;5;28;01mfor\u001b[39;00m b \u001b[38;5;129;01min\u001b[39;00m \u001b[38;5;28mrange\u001b[39m(n_reps):\n\u001b[32m    559\u001b[39m             cell_search_run.refresh()\n",
      "\u001b[36mFile \u001b[39m\u001b[32md:\\statistics\\jofe\\causal-targeting-main\\methods\\cell_search.py:285\u001b[39m, in \u001b[36mCellSearch.__init__\u001b[39m\u001b[34m(self, CATE_estimator, fold, all_features, top_features, q, dir_neg, min_support)\u001b[39m\n\u001b[32m    281\u001b[39m \u001b[38;5;28mself\u001b[39m.active_set_indicator = np.array([\u001b[38;5;28;01mTrue\u001b[39;00m] * \u001b[38;5;28mself\u001b[39m.n_samples)\n\u001b[32m    282\u001b[39m \u001b[38;5;28mself\u001b[39m.min_support = min_support\n\u001b[32m--> \u001b[39m\u001b[32m285\u001b[39m \u001b[38;5;28mself\u001b[39m.data_df = \u001b[43mpd\u001b[49m\u001b[43m.\u001b[49m\u001b[43mDataFrame\u001b[49m\u001b[43m(\u001b[49m\u001b[43mCATE_estimator\u001b[49m\u001b[43m.\u001b[49m\u001b[43mX\u001b[49m\u001b[43m,\u001b[49m\u001b[43m \u001b[49m\n\u001b[32m    286\u001b[39m \u001b[43m                            \u001b[49m\u001b[43mcolumns\u001b[49m\u001b[43m \u001b[49m\u001b[43m=\u001b[49m\u001b[43m \u001b[49m\u001b[43mall_features\u001b[49m\u001b[43m)\u001b[49m[top_features]\n\u001b[32m    287\u001b[39m \u001b[38;5;28mself\u001b[39m.te_df = CellSearch.recode_samples_for_fpgrowth(\u001b[38;5;28mself\u001b[39m.data_df)\n",
      "\u001b[36mFile \u001b[39m\u001b[32md:\\statistics\\jofe\\causal-targeting-main\\venv\\Lib\\site-packages\\pandas\\core\\frame.py:827\u001b[39m, in \u001b[36mDataFrame.__init__\u001b[39m\u001b[34m(self, data, index, columns, dtype, copy)\u001b[39m\n\u001b[32m    816\u001b[39m         mgr = dict_to_mgr(\n\u001b[32m    817\u001b[39m             \u001b[38;5;66;03m# error: Item \"ndarray\" of \"Union[ndarray, Series, Index]\" has no\u001b[39;00m\n\u001b[32m    818\u001b[39m             \u001b[38;5;66;03m# attribute \"name\"\u001b[39;00m\n\u001b[32m   (...)\u001b[39m\u001b[32m    824\u001b[39m             copy=_copy,\n\u001b[32m    825\u001b[39m         )\n\u001b[32m    826\u001b[39m     \u001b[38;5;28;01melse\u001b[39;00m:\n\u001b[32m--> \u001b[39m\u001b[32m827\u001b[39m         mgr = \u001b[43mndarray_to_mgr\u001b[49m\u001b[43m(\u001b[49m\n\u001b[32m    828\u001b[39m \u001b[43m            \u001b[49m\u001b[43mdata\u001b[49m\u001b[43m,\u001b[49m\n\u001b[32m    829\u001b[39m \u001b[43m            \u001b[49m\u001b[43mindex\u001b[49m\u001b[43m,\u001b[49m\n\u001b[32m    830\u001b[39m \u001b[43m            \u001b[49m\u001b[43mcolumns\u001b[49m\u001b[43m,\u001b[49m\n\u001b[32m    831\u001b[39m \u001b[43m            \u001b[49m\u001b[43mdtype\u001b[49m\u001b[43m=\u001b[49m\u001b[43mdtype\u001b[49m\u001b[43m,\u001b[49m\n\u001b[32m    832\u001b[39m \u001b[43m            \u001b[49m\u001b[43mcopy\u001b[49m\u001b[43m=\u001b[49m\u001b[43mcopy\u001b[49m\u001b[43m,\u001b[49m\n\u001b[32m    833\u001b[39m \u001b[43m            \u001b[49m\u001b[43mtyp\u001b[49m\u001b[43m=\u001b[49m\u001b[43mmanager\u001b[49m\u001b[43m,\u001b[49m\n\u001b[32m    834\u001b[39m \u001b[43m        \u001b[49m\u001b[43m)\u001b[49m\n\u001b[32m    836\u001b[39m \u001b[38;5;66;03m# For data is list-like, or Iterable (will consume into list)\u001b[39;00m\n\u001b[32m    837\u001b[39m \u001b[38;5;28;01melif\u001b[39;00m is_list_like(data):\n",
      "\u001b[36mFile \u001b[39m\u001b[32md:\\statistics\\jofe\\causal-targeting-main\\venv\\Lib\\site-packages\\pandas\\core\\internals\\construction.py:336\u001b[39m, in \u001b[36mndarray_to_mgr\u001b[39m\u001b[34m(values, index, columns, dtype, copy, typ)\u001b[39m\n\u001b[32m    331\u001b[39m \u001b[38;5;66;03m# _prep_ndarraylike ensures that values.ndim == 2 at this point\u001b[39;00m\n\u001b[32m    332\u001b[39m index, columns = _get_axes(\n\u001b[32m    333\u001b[39m     values.shape[\u001b[32m0\u001b[39m], values.shape[\u001b[32m1\u001b[39m], index=index, columns=columns\n\u001b[32m    334\u001b[39m )\n\u001b[32m--> \u001b[39m\u001b[32m336\u001b[39m \u001b[43m_check_values_indices_shape_match\u001b[49m\u001b[43m(\u001b[49m\u001b[43mvalues\u001b[49m\u001b[43m,\u001b[49m\u001b[43m \u001b[49m\u001b[43mindex\u001b[49m\u001b[43m,\u001b[49m\u001b[43m \u001b[49m\u001b[43mcolumns\u001b[49m\u001b[43m)\u001b[49m\n\u001b[32m    338\u001b[39m \u001b[38;5;28;01mif\u001b[39;00m typ == \u001b[33m\"\u001b[39m\u001b[33marray\u001b[39m\u001b[33m\"\u001b[39m:\n\u001b[32m    339\u001b[39m     \u001b[38;5;28;01mif\u001b[39;00m \u001b[38;5;28missubclass\u001b[39m(values.dtype.type, \u001b[38;5;28mstr\u001b[39m):\n",
      "\u001b[36mFile \u001b[39m\u001b[32md:\\statistics\\jofe\\causal-targeting-main\\venv\\Lib\\site-packages\\pandas\\core\\internals\\construction.py:420\u001b[39m, in \u001b[36m_check_values_indices_shape_match\u001b[39m\u001b[34m(values, index, columns)\u001b[39m\n\u001b[32m    418\u001b[39m passed = values.shape\n\u001b[32m    419\u001b[39m implied = (\u001b[38;5;28mlen\u001b[39m(index), \u001b[38;5;28mlen\u001b[39m(columns))\n\u001b[32m--> \u001b[39m\u001b[32m420\u001b[39m \u001b[38;5;28;01mraise\u001b[39;00m \u001b[38;5;167;01mValueError\u001b[39;00m(\u001b[33mf\u001b[39m\u001b[33m\"\u001b[39m\u001b[33mShape of passed values is \u001b[39m\u001b[38;5;132;01m{\u001b[39;00mpassed\u001b[38;5;132;01m}\u001b[39;00m\u001b[33m, indices imply \u001b[39m\u001b[38;5;132;01m{\u001b[39;00mimplied\u001b[38;5;132;01m}\u001b[39;00m\u001b[33m\"\u001b[39m)\n",
      "\u001b[31mValueError\u001b[39m: Shape of passed values is (108000, 328), indices imply (108000, 321)"
     ]
    }
   ],
   "source": [
    "# Run cell search\n",
    "search_results_df = get_cell_search_results(top_ensemble, features, top_features, \n",
    "                            q_values, n_cells, max_features, n_reps, penalty, \n",
    "                            tol, min_support, dir_neg)"
   ]
  },
  {
   "cell_type": "code",
   "execution_count": null,
   "metadata": {},
   "outputs": [
    {
     "data": {
      "text/html": [
       "['data_files/GI/GI_cell_search_results']"
      ],
      "text/plain": [
       "['data_files/GI/GI_cell_search_results']"
      ]
     },
     "execution_count": 9,
     "metadata": {},
     "output_type": "execute_result"
    }
   ],
   "source": [
    "joblib.dump(search_results_df, Path(FILE_PATH) / f\"{outcome}_cell_search_results.joblib\")"
   ]
  },
  {
   "cell_type": "code",
   "execution_count": 20,
   "metadata": {},
   "outputs": [
    {
     "ename": "NameError",
     "evalue": "name 'trainval_df' is not defined",
     "output_type": "error",
     "traceback": [
      "\u001b[31m---------------------------------------------------------------------------\u001b[39m",
      "\u001b[31mNameError\u001b[39m                                 Traceback (most recent call last)",
      "\u001b[36mCell\u001b[39m\u001b[36m \u001b[39m\u001b[32mIn[20]\u001b[39m\u001b[32m, line 1\u001b[39m\n\u001b[32m----> \u001b[39m\u001b[32m1\u001b[39m aggregated_results_df = aggregate_cell_search_results(search_results_df, \u001b[43mtrainval_df\u001b[49m[features], \n\u001b[32m      2\u001b[39m                                                       collapse_cells = \u001b[38;5;28;01mTrue\u001b[39;00m).round(\u001b[32m2\u001b[39m)\n\u001b[32m      3\u001b[39m aggregated_results_df[:\u001b[32m20\u001b[39m]\n",
      "\u001b[31mNameError\u001b[39m: name 'trainval_df' is not defined"
     ]
    }
   ],
   "source": [
    "aggregated_results_df = aggregate_cell_search_results(search_results_df, trainval_df[features], \n",
    "                                                      collapse_cells = True).round(2)\n",
    "aggregated_results_df[:20]"
   ]
  },
  {
   "cell_type": "markdown",
   "metadata": {},
   "source": [
    "Here, we have aggregated the cell search results, with the `collapse_cells` flag set to `True`.  \n",
    "This means that to the count of each cell, we also add the count of sub-cells that occur, weighted  \n",
    "by their size (in terms of number of samples) relative to that of the super-cell."
   ]
  },
  {
   "cell_type": "code",
   "execution_count": 14,
   "metadata": {},
   "outputs": [],
   "source": [
    "# aggregated_results_df = aggregate_cell_search_results(search_results_df, trainval_df, \n",
    "#                                                       collapse_cells = False).round(2)\n",
    "# aggregated_results_df"
   ]
  },
  {
   "cell_type": "markdown",
   "metadata": {},
   "source": [
    "We now simplify this table for display in the paper. We rank the cells according to their \"mean\",  \n",
    "i.e. the mean of the frequency with which they were selected for each q value."
   ]
  },
  {
   "cell_type": "code",
   "execution_count": 21,
   "metadata": {},
   "outputs": [
    {
     "ename": "NameError",
     "evalue": "name 'aggregated_results_df' is not defined",
     "output_type": "error",
     "traceback": [
      "\u001b[31m---------------------------------------------------------------------------\u001b[39m",
      "\u001b[31mNameError\u001b[39m                                 Traceback (most recent call last)",
      "\u001b[36mCell\u001b[39m\u001b[36m \u001b[39m\u001b[32mIn[21]\u001b[39m\u001b[32m, line 1\u001b[39m\n\u001b[32m----> \u001b[39m\u001b[32m1\u001b[39m agg_results = \u001b[43maggregated_results_df\u001b[49m[[\u001b[33m\"\u001b[39m\u001b[33mq=\u001b[39m\u001b[38;5;132;01m%.1f\u001b[39;00m\u001b[33m\"\u001b[39m%q \u001b[38;5;28;01mfor\u001b[39;00m q \u001b[38;5;129;01min\u001b[39;00m q_values] + [\u001b[33m\"\u001b[39m\u001b[33mtotal frequency\u001b[39m\u001b[33m\"\u001b[39m]] \\\n\u001b[32m      2\u001b[39m                                 .rename(columns={\u001b[33m\"\u001b[39m\u001b[33mtotal frequency\u001b[39m\u001b[33m\"\u001b[39m:\u001b[33m\"\u001b[39m\u001b[33mmean\u001b[39m\u001b[33m\"\u001b[39m})[:\u001b[32m20\u001b[39m]\n\u001b[32m      3\u001b[39m \u001b[38;5;28;01mfor\u001b[39;00m q \u001b[38;5;129;01min\u001b[39;00m q_values:\n\u001b[32m      4\u001b[39m     agg_results[\u001b[33m\"\u001b[39m\u001b[33mq=\u001b[39m\u001b[38;5;132;01m%.1f\u001b[39;00m\u001b[33m\"\u001b[39m%q] /= aggregated_results_df[\u001b[33m\"\u001b[39m\u001b[33mnum runs\u001b[39m\u001b[33m\"\u001b[39m]\n",
      "\u001b[31mNameError\u001b[39m: name 'aggregated_results_df' is not defined"
     ]
    }
   ],
   "source": [
    "agg_results = aggregated_results_df[[\"q=%.1f\"%q for q in q_values] + [\"total frequency\"]] \\\n",
    "                                .rename(columns={\"total frequency\":\"mean\"})[:20]\n",
    "for q in q_values:\n",
    "    agg_results[\"q=%.1f\"%q] /= aggregated_results_df[\"num runs\"]\n",
    "\n",
    "for column in agg_results.keys():\n",
    "    agg_results[column] *= 100\n",
    "agg_results = agg_results.round(0).astype(int)\n",
    "agg_results"
   ]
  },
  {
   "cell_type": "code",
   "execution_count": 22,
   "metadata": {},
   "outputs": [
    {
     "ename": "NameError",
     "evalue": "name 'agg_results' is not defined",
     "output_type": "error",
     "traceback": [
      "\u001b[31m---------------------------------------------------------------------------\u001b[39m",
      "\u001b[31mNameError\u001b[39m                                 Traceback (most recent call last)",
      "\u001b[36mCell\u001b[39m\u001b[36m \u001b[39m\u001b[32mIn[22]\u001b[39m\u001b[32m, line 1\u001b[39m\n\u001b[32m----> \u001b[39m\u001b[32m1\u001b[39m top_cells = \u001b[38;5;28mlist\u001b[39m(\u001b[43magg_results\u001b[49m.index[:\u001b[32m3\u001b[39m])\n",
      "\u001b[31mNameError\u001b[39m: name 'agg_results' is not defined"
     ]
    }
   ],
   "source": [
    "top_cells = list(agg_results.index[:3])"
   ]
  },
  {
   "cell_type": "markdown",
   "metadata": {},
   "source": [
    "We manually format this table for the paper."
   ]
  },
  {
   "cell_type": "code",
   "execution_count": 16,
   "metadata": {},
   "outputs": [],
   "source": [
    "#agg_table = agg_results.to_latex()"
   ]
  },
  {
   "cell_type": "code",
   "execution_count": 31,
   "metadata": {},
   "outputs": [],
   "source": [
    "# format_table = ''\n",
    "# j = 0\n",
    "# while(j<len(agg_table)):\n",
    "#     s = agg_table[j]\n",
    "#     if s == '(':\n",
    "#         format_table += \"\\{\"\n",
    "#         j+=1\n",
    "#     elif s== ')':\n",
    "#         format_table += \"\\}\"\n",
    "#         j+=1\n",
    "#     elif agg_table[j:j+5] == 'white':\n",
    "#         format_table += \"WHITE\"\n",
    "#         j+=5\n",
    "#     elif agg_table[j:j+6] == 'smoker':\n",
    "#         format_table += \"SMOKE\"\n",
    "#         j+=6\n",
    "#     elif agg_table[j:j+16] == \"elderly\\_65\\_adj\":\n",
    "#         format_table += \"ELDERLY\"\n",
    "#         j+=16\n",
    "#     elif agg_table[j:j+19] =='PUB\\_PRIOR\\_HISTORY':\n",
    "#         format_table += \"PPH\"\n",
    "#         j+=19\n",
    "#     elif agg_table[j:j+7] =='drinker':\n",
    "#         format_table += \"DRINK\"\n",
    "#         j+=7\n",
    "#     elif agg_table[j:j+10] =='overweight':\n",
    "#         format_table += \"OVERWEIGHT\"\n",
    "#         j+=10\n",
    "#     elif agg_table[j:j+5] =='obese':\n",
    "#         format_table += \"OBESE\"\n",
    "#         j+=5\n",
    "#     elif agg_table[j:j+4] =='male':\n",
    "#         format_table += \"MALE\"\n",
    "#         j+=4\n",
    "#     elif agg_table[j:j+3] =='\\_1':\n",
    "#         format_table += \"=1\"\n",
    "#         j+=3\n",
    "#     elif agg_table[j:j+3] =='\\_0':\n",
    "#         format_table += \"=0\"\n",
    "#         j+=3\n",
    "#     else:\n",
    "#         format_table += s\n",
    "#         j+=1\n",
    "# print(format_table)"
   ]
  },
  {
   "cell_type": "markdown",
   "metadata": {},
   "source": [
    "## 3. Examining cell search results"
   ]
  },
  {
   "cell_type": "code",
   "execution_count": 23,
   "metadata": {},
   "outputs": [
    {
     "name": "stdout",
     "output_type": "stream",
     "text": [
      "The cells selected are: \n"
     ]
    },
    {
     "ename": "NameError",
     "evalue": "name 'top_cells' is not defined",
     "output_type": "error",
     "traceback": [
      "\u001b[31m---------------------------------------------------------------------------\u001b[39m",
      "\u001b[31mNameError\u001b[39m                                 Traceback (most recent call last)",
      "\u001b[36mCell\u001b[39m\u001b[36m \u001b[39m\u001b[32mIn[23]\u001b[39m\u001b[32m, line 2\u001b[39m\n\u001b[32m      1\u001b[39m \u001b[38;5;28mprint\u001b[39m(\u001b[33m\"\u001b[39m\u001b[33mThe cells selected are: \u001b[39m\u001b[33m\"\u001b[39m)\n\u001b[32m----> \u001b[39m\u001b[32m2\u001b[39m \u001b[38;5;28;01mfor\u001b[39;00m idx, cell \u001b[38;5;129;01min\u001b[39;00m \u001b[38;5;28menumerate\u001b[39m(\u001b[43mtop_cells\u001b[49m):\n\u001b[32m      3\u001b[39m     \u001b[38;5;28mprint\u001b[39m(\u001b[33mf\u001b[39m\u001b[33m\"\u001b[39m\u001b[38;5;132;01m{\u001b[39;00midx+\u001b[32m1\u001b[39m\u001b[38;5;132;01m}\u001b[39;00m\u001b[33m.\u001b[39m\u001b[33m\"\u001b[39m, cell)\n",
      "\u001b[31mNameError\u001b[39m: name 'top_cells' is not defined"
     ]
    }
   ],
   "source": [
    "print(\"The cells selected are: \")\n",
    "for idx, cell in enumerate(top_cells):\n",
    "    print(f\"{idx+1}.\", cell)"
   ]
  },
  {
   "cell_type": "markdown",
   "metadata": {},
   "source": [
    "### 3.1. Coverage of quantile-based top subgroups by cell union"
   ]
  },
  {
   "cell_type": "markdown",
   "metadata": {},
   "source": [
    "This first table shows the coverage statistics of the cells selected with respect to various q values."
   ]
  },
  {
   "cell_type": "code",
   "execution_count": 24,
   "metadata": {},
   "outputs": [
    {
     "ename": "NameError",
     "evalue": "name 'top_cells' is not defined",
     "output_type": "error",
     "traceback": [
      "\u001b[31m---------------------------------------------------------------------------\u001b[39m",
      "\u001b[31mNameError\u001b[39m                                 Traceback (most recent call last)",
      "\u001b[36mCell\u001b[39m\u001b[36m \u001b[39m\u001b[32mIn[24]\u001b[39m\u001b[32m, line 1\u001b[39m\n\u001b[32m----> \u001b[39m\u001b[32m1\u001b[39m coverage_results_df = get_coverage_results(\u001b[43mtop_cells\u001b[49m, trainval_df, top_ensemble, \n\u001b[32m      2\u001b[39m                                            [\u001b[32m0.1\u001b[39m, \u001b[32m0.2\u001b[39m, \u001b[32m0.3\u001b[39m, \u001b[32m0.4\u001b[39m, \u001b[32m0.5\u001b[39m], dir_neg)\n\u001b[32m      3\u001b[39m coverage_results_df.round(\u001b[32m2\u001b[39m)\n",
      "\u001b[31mNameError\u001b[39m: name 'top_cells' is not defined"
     ]
    }
   ],
   "source": [
    "coverage_results_df = get_coverage_results(top_cells, trainval_df, top_ensemble, \n",
    "                                           [0.1, 0.2, 0.3, 0.4, 0.5], dir_neg)\n",
    "coverage_results_df.round(2)"
   ]
  },
  {
   "cell_type": "markdown",
   "metadata": {},
   "source": [
    "### 3.2. Significance of selected cells"
   ]
  },
  {
   "cell_type": "markdown",
   "metadata": {},
   "source": [
    "The next two tables display the CATE, $t$-statistic and relative risk of the selected cells as well as their union."
   ]
  },
  {
   "cell_type": "code",
   "execution_count": 25,
   "metadata": {},
   "outputs": [
    {
     "ename": "NameError",
     "evalue": "name 'trainval_df' is not defined",
     "output_type": "error",
     "traceback": [
      "\u001b[31m---------------------------------------------------------------------------\u001b[39m",
      "\u001b[31mNameError\u001b[39m                                 Traceback (most recent call last)",
      "\u001b[36mCell\u001b[39m\u001b[36m \u001b[39m\u001b[32mIn[25]\u001b[39m\u001b[32m, line 2\u001b[39m\n\u001b[32m      1\u001b[39m \u001b[38;5;66;03m# Use the imputed trainval_df aligned with 02\u001b[39;00m\n\u001b[32m----> \u001b[39m\u001b[32m2\u001b[39m trainval_df = \u001b[43mtrainval_df\u001b[49m.copy()\n",
      "\u001b[31mNameError\u001b[39m: name 'trainval_df' is not defined"
     ]
    }
   ],
   "source": [
    "# Use the imputed trainval_df aligned with 02\n",
    "trainval_df = trainval_df.copy()"
   ]
  },
  {
   "cell_type": "code",
   "execution_count": 26,
   "metadata": {},
   "outputs": [
    {
     "ename": "NameError",
     "evalue": "name 'top_cells' is not defined",
     "output_type": "error",
     "traceback": [
      "\u001b[31m---------------------------------------------------------------------------\u001b[39m",
      "\u001b[31mNameError\u001b[39m                                 Traceback (most recent call last)",
      "\u001b[36mCell\u001b[39m\u001b[36m \u001b[39m\u001b[32mIn[26]\u001b[39m\u001b[32m, line 1\u001b[39m\n\u001b[32m----> \u001b[39m\u001b[32m1\u001b[39m sig_cate = get_cell_significance_results(\u001b[43mtop_cells\u001b[49m, trainval_df[outcome_name].values, \n\u001b[32m      2\u001b[39m                                          trainval_df[\u001b[33m\"\u001b[39m\u001b[33mTREATED\u001b[39m\u001b[33m\"\u001b[39m].values, trainval_df[features], \n\u001b[32m      3\u001b[39m                                          top_ensemble)\n\u001b[32m      4\u001b[39m sig_cate.round(\u001b[32m3\u001b[39m)\n",
      "\u001b[31mNameError\u001b[39m: name 'top_cells' is not defined"
     ]
    }
   ],
   "source": [
    "sig_cate = get_cell_significance_results(top_cells, trainval_df[outcome_name].values, \n",
    "                                         trainval_df[\"TREATED\"].values, trainval_df[features], \n",
    "                                         top_ensemble)\n",
    "sig_cate.round(3)"
   ]
  },
  {
   "cell_type": "code",
   "execution_count": 27,
   "metadata": {},
   "outputs": [
    {
     "ename": "NameError",
     "evalue": "name 'top_cells' is not defined",
     "output_type": "error",
     "traceback": [
      "\u001b[31m---------------------------------------------------------------------------\u001b[39m",
      "\u001b[31mNameError\u001b[39m                                 Traceback (most recent call last)",
      "\u001b[36mCell\u001b[39m\u001b[36m \u001b[39m\u001b[32mIn[27]\u001b[39m\u001b[32m, line 1\u001b[39m\n\u001b[32m----> \u001b[39m\u001b[32m1\u001b[39m get_RR_results(\u001b[43mtop_cells\u001b[49m, trainval_df[outcome_name].values, trainval_df[\u001b[33m\"\u001b[39m\u001b[33mTREATED\u001b[39m\u001b[33m\"\u001b[39m].values, trainval_df[features]).round(\u001b[32m2\u001b[39m)\n",
      "\u001b[31mNameError\u001b[39m: name 'top_cells' is not defined"
     ]
    }
   ],
   "source": [
    "get_RR_results(top_cells, trainval_df[outcome_name].values, trainval_df[\"TREATED\"].values, trainval_df[features]).round(2)"
   ]
  },
  {
   "cell_type": "markdown",
   "metadata": {},
   "source": [
    "### 3.3. Significance of selected cells w.r.t. cardiovascular outcome"
   ]
  },
  {
   "cell_type": "code",
   "execution_count": 28,
   "metadata": {},
   "outputs": [
    {
     "ename": "SystemExit",
     "evalue": "Skip cross-outcome significance: not applicable for current dataset setup.",
     "output_type": "error",
     "traceback": [
      "An exception has occurred, use %tb to see the full traceback.\n",
      "\u001b[31mSystemExit\u001b[39m\u001b[31m:\u001b[39m Skip cross-outcome significance: not applicable for current dataset setup.\n"
     ]
    },
    {
     "name": "stderr",
     "output_type": "stream",
     "text": [
      "d:\\statistics\\jofe\\causal-targeting-main\\venv\\Lib\\site-packages\\IPython\\core\\interactiveshell.py:3707: UserWarning: To exit: use 'exit', 'quit', or Ctrl-D.\n",
      "  warn(\"To exit: use 'exit', 'quit', or Ctrl-D.\", stacklevel=1)\n"
     ]
    }
   ],
   "source": [
    "# Legacy cross-outcome section disabled for current dataset\n",
    "raise SystemExit(\"Skip cross-outcome significance: not applicable for current dataset setup.\")"
   ]
  },
  {
   "cell_type": "code",
   "execution_count": 29,
   "metadata": {},
   "outputs": [
    {
     "ename": "NameError",
     "evalue": "name 'top_cells' is not defined",
     "output_type": "error",
     "traceback": [
      "\u001b[31m---------------------------------------------------------------------------\u001b[39m",
      "\u001b[31mNameError\u001b[39m                                 Traceback (most recent call last)",
      "\u001b[36mCell\u001b[39m\u001b[36m \u001b[39m\u001b[32mIn[29]\u001b[39m\u001b[32m, line 1\u001b[39m\n\u001b[32m----> \u001b[39m\u001b[32m1\u001b[39m cross_cate_train = get_cell_significance_results(\u001b[43mtop_cells\u001b[49m, \n\u001b[32m      2\u001b[39m                     cfd_cardio, top_ensemble.t, trainval_df, top_ensemble).round(\u001b[32m3\u001b[39m)\n\u001b[32m      3\u001b[39m cross_cate_train\n",
      "\u001b[31mNameError\u001b[39m: name 'top_cells' is not defined"
     ]
    }
   ],
   "source": [
    "cross_cate_train = get_cell_significance_results(top_cells, \n",
    "                    cfd_cardio, top_ensemble.t, trainval_df, top_ensemble).round(3)\n",
    "cross_cate_train"
   ]
  },
  {
   "cell_type": "code",
   "execution_count": 30,
   "metadata": {},
   "outputs": [
    {
     "ename": "NameError",
     "evalue": "name 'top_cells' is not defined",
     "output_type": "error",
     "traceback": [
      "\u001b[31m---------------------------------------------------------------------------\u001b[39m",
      "\u001b[31mNameError\u001b[39m                                 Traceback (most recent call last)",
      "\u001b[36mCell\u001b[39m\u001b[36m \u001b[39m\u001b[32mIn[30]\u001b[39m\u001b[32m, line 1\u001b[39m\n\u001b[32m----> \u001b[39m\u001b[32m1\u001b[39m get_RR_results(\u001b[43mtop_cells\u001b[49m, cfd_cardio, top_ensemble.t, trainval_df).round(\u001b[32m2\u001b[39m)\n",
      "\u001b[31mNameError\u001b[39m: name 'top_cells' is not defined"
     ]
    }
   ],
   "source": [
    "get_RR_results(top_cells, cfd_cardio, top_ensemble.t, trainval_df).round(2)"
   ]
  },
  {
   "cell_type": "markdown",
   "metadata": {},
   "source": [
    "### 3.4. Similarity of selected cells"
   ]
  },
  {
   "cell_type": "markdown",
   "metadata": {},
   "source": [
    "The following two heat maps show how similar the selected cells are to each other, in terms of intersection size and cosine similarity."
   ]
  },
  {
   "cell_type": "code",
   "execution_count": 31,
   "metadata": {},
   "outputs": [],
   "source": [
    "# Plot style settings\n",
    "plt.style.use(\"fivethirtyeight\")\n",
    "label_size = 22\n",
    "mpl.rcParams['xtick.labelsize'] = label_size \n",
    "mpl.rcParams['ytick.labelsize'] = label_size \n",
    "mpl.rcParams['axes.labelsize'] = label_size\n",
    "mpl.rcParams['axes.titlesize'] = label_size\n",
    "mpl.rcParams['figure.titlesize'] = label_size\n",
    "mpl.rcParams['lines.markersize'] = 10\n",
    "mpl.rcParams['grid.linewidth'] = 2.5\n",
    "mpl.rcParams['legend.fontsize'] = 20\n",
    "pylab.rcParams['xtick.major.pad'] = 5\n",
    "pylab.rcParams['ytick.major.pad'] = 5\n",
    "mpl.rcParams[\"figure.figsize\"] = [8, 6]\n",
    "mpl.rcParams['savefig.transparent'] = True\n",
    "\n",
    "plt.rcParams['figure.facecolor'] = 'white'\n",
    "plt.rcParams['figure.edgecolor'] = 'black'\n",
    "# plt.rcParams['patch.edgecolor'] = 'white'\n",
    "plt.rcParams['axes.facecolor'] = 'white'\n",
    "# plt.rcParams['grid.color'] = 'black'\n",
    "SAVE_PATH  = f\"figs/{outcome_name}/\""
   ]
  },
  {
   "cell_type": "code",
   "execution_count": 32,
   "metadata": {},
   "outputs": [
    {
     "ename": "NameError",
     "evalue": "name 'top_cells' is not defined",
     "output_type": "error",
     "traceback": [
      "\u001b[31m---------------------------------------------------------------------------\u001b[39m",
      "\u001b[31mNameError\u001b[39m                                 Traceback (most recent call last)",
      "\u001b[36mCell\u001b[39m\u001b[36m \u001b[39m\u001b[32mIn[32]\u001b[39m\u001b[32m, line 2\u001b[39m\n\u001b[32m      1\u001b[39m savfig = \u001b[38;5;28;01mFalse\u001b[39;00m\n\u001b[32m----> \u001b[39m\u001b[32m2\u001b[39m intersection_mat = get_cell_overlap_results(\u001b[43mtop_cells\u001b[49m, trainval_df, \n\u001b[32m      3\u001b[39m                                             \u001b[33m\"\u001b[39m\u001b[33mintersection_size\u001b[39m\u001b[33m\"\u001b[39m)\n\u001b[32m      4\u001b[39m joblib.dump(intersection_mat, FILE_PATH + \u001b[33mf\u001b[39m\u001b[33m\"\u001b[39m\u001b[38;5;132;01m{\u001b[39;00moutcome_name\u001b[38;5;132;01m}\u001b[39;00m\u001b[33m_cell_overlap_mat\u001b[39m\u001b[33m\"\u001b[39m)\n\u001b[32m      5\u001b[39m c = intersection_mat.shape[\u001b[32m0\u001b[39m]\n",
      "\u001b[31mNameError\u001b[39m: name 'top_cells' is not defined"
     ]
    }
   ],
   "source": [
    "savfig = False\n",
    "intersection_mat = get_cell_overlap_results(top_cells, trainval_df, \n",
    "                                            \"intersection_size\")\n",
    "joblib.dump(intersection_mat, FILE_PATH + f\"{outcome_name}_cell_overlap_mat\")\n",
    "c = intersection_mat.shape[0]\n",
    "plt.figure(figsize=[8, 6])\n",
    "sns.heatmap(intersection_mat, annot = True, fmt = \"d\", \n",
    "            cmap = sns.color_palette(\"Blues\"), annot_kws={'size':20},\n",
    "            vmin = 0, vmax = intersection_mat.values.max())\n",
    "cell_ticks = [r'$\\mathbb{C}_{%d}$'%(j+1) for j in range(c)]\n",
    "plt.xticks(np.arange(3)+0.5, cell_ticks)\n",
    "plt.yticks(np.arange(3)+0.5, cell_ticks, rotation=0)\n",
    "plt.title(f\"{outcome_name} cells overlap matrix\")\n",
    "plt.tight_layout()\n",
    "\n",
    "if savfig:\n",
    "    plt.savefig(SAVE_PATH + f\"{outcome_name}_cell_heatmap.pdf\")\n",
    "plt.show()"
   ]
  },
  {
   "cell_type": "code",
   "execution_count": 33,
   "metadata": {},
   "outputs": [
    {
     "ename": "NameError",
     "evalue": "name 'top_cells' is not defined",
     "output_type": "error",
     "traceback": [
      "\u001b[31m---------------------------------------------------------------------------\u001b[39m",
      "\u001b[31mNameError\u001b[39m                                 Traceback (most recent call last)",
      "\u001b[36mCell\u001b[39m\u001b[36m \u001b[39m\u001b[32mIn[33]\u001b[39m\u001b[32m, line 1\u001b[39m\n\u001b[32m----> \u001b[39m\u001b[32m1\u001b[39m cosine_sim_mat = get_cell_overlap_results(\u001b[43mtop_cells\u001b[49m, trainval_df, \u001b[33m\"\u001b[39m\u001b[33mcosine_sim\u001b[39m\u001b[33m\"\u001b[39m)\n\u001b[32m      2\u001b[39m plt.figure()\n\u001b[32m      3\u001b[39m sns.heatmap(cosine_sim_mat, annot = \u001b[38;5;28;01mTrue\u001b[39;00m, cmap = sns.color_palette(\u001b[33m\"\u001b[39m\u001b[33mBlues\u001b[39m\u001b[33m\"\u001b[39m),\n\u001b[32m      4\u001b[39m             annot_kws={\u001b[33m'\u001b[39m\u001b[33msize\u001b[39m\u001b[33m'\u001b[39m:\u001b[32m20\u001b[39m}, vmin = \u001b[32m0\u001b[39m, vmax = \u001b[32m1\u001b[39m)\n",
      "\u001b[31mNameError\u001b[39m: name 'top_cells' is not defined"
     ]
    }
   ],
   "source": [
    "cosine_sim_mat = get_cell_overlap_results(top_cells, trainval_df, \"cosine_sim\")\n",
    "plt.figure()\n",
    "sns.heatmap(cosine_sim_mat, annot = True, cmap = sns.color_palette(\"Blues\"),\n",
    "            annot_kws={'size':20}, vmin = 0, vmax = 1)\n",
    "plt.show()"
   ]
  },
  {
   "cell_type": "markdown",
   "metadata": {},
   "source": [
    "# 4. Results on test Set "
   ]
  },
  {
   "cell_type": "markdown",
   "metadata": {},
   "source": [
    "### 4.1. Significance of selected cells (Train only for current dataset)"
   ]
  },
  {
   "cell_type": "code",
   "execution_count": null,
   "metadata": {},
   "outputs": [],
   "source": [
    "# Use the imputed trainval_df only; no separate external test split available\n",
    "# Keeping trainval_df from setup cell"
   ]
  },
  {
   "cell_type": "code",
   "execution_count": 34,
   "metadata": {},
   "outputs": [
    {
     "name": "stdout",
     "output_type": "stream",
     "text": [
      "Train\n"
     ]
    },
    {
     "ename": "NameError",
     "evalue": "name 'sig_cate' is not defined",
     "output_type": "error",
     "traceback": [
      "\u001b[31m---------------------------------------------------------------------------\u001b[39m",
      "\u001b[31mNameError\u001b[39m                                 Traceback (most recent call last)",
      "\u001b[36mCell\u001b[39m\u001b[36m \u001b[39m\u001b[32mIn[34]\u001b[39m\u001b[32m, line 2\u001b[39m\n\u001b[32m      1\u001b[39m \u001b[38;5;28mprint\u001b[39m(\u001b[33m\"\u001b[39m\u001b[33mTrain\u001b[39m\u001b[33m\"\u001b[39m)\n\u001b[32m----> \u001b[39m\u001b[32m2\u001b[39m \u001b[43msig_cate\u001b[49m.round(\u001b[32m3\u001b[39m)\n",
      "\u001b[31mNameError\u001b[39m: name 'sig_cate' is not defined"
     ]
    }
   ],
   "source": [
    "print(\"Train\")\n",
    "sig_cate.round(3)"
   ]
  },
  {
   "cell_type": "code",
   "execution_count": 35,
   "metadata": {},
   "outputs": [
    {
     "name": "stdout",
     "output_type": "stream",
     "text": [
      "Test\n",
      "Skipping: no separate test split in current dataset\n"
     ]
    }
   ],
   "source": [
    "print(\"Test\")\n",
    "print(\"Skipping: no separate test split in current dataset\")\n",
    "test_cate = None"
   ]
  },
  {
   "cell_type": "markdown",
   "metadata": {},
   "source": [
    "Let's combine both tables together."
   ]
  },
  {
   "cell_type": "code",
   "execution_count": 36,
   "metadata": {},
   "outputs": [
    {
     "ename": "NameError",
     "evalue": "name 'sig_cate' is not defined",
     "output_type": "error",
     "traceback": [
      "\u001b[31m---------------------------------------------------------------------------\u001b[39m",
      "\u001b[31mNameError\u001b[39m                                 Traceback (most recent call last)",
      "\u001b[36mCell\u001b[39m\u001b[36m \u001b[39m\u001b[32mIn[36]\u001b[39m\u001b[32m, line 10\u001b[39m\n\u001b[32m      8\u001b[39m     cate_join[cols].round(\u001b[32m3\u001b[39m)\n\u001b[32m      9\u001b[39m \u001b[38;5;28;01melse\u001b[39;00m:\n\u001b[32m---> \u001b[39m\u001b[32m10\u001b[39m     \u001b[43msig_cate\u001b[49m.round(\u001b[32m3\u001b[39m)\n",
      "\u001b[31mNameError\u001b[39m: name 'sig_cate' is not defined"
     ]
    }
   ],
   "source": [
    "# Join only if test_cate is available\n",
    "if test_cate is not None:\n",
    "    cate_join = sig_cate.join(test_cate, how='outer', lsuffix=\"_train\", rsuffix=\"_test\")\n",
    "    cols = ['num_evts_train', 'size_train', 'num_evts_test', 'size_test', \n",
    "            'CATE_train', 'CATE_std_train', 'CATE_test', 'CATE_std_test', \n",
    "            't-stat (overall)_train', 't-stat (overall)_test', \n",
    "            't-stat (val) mean', 't-stat (val) std']\n",
    "    cate_join[cols].round(3)\n",
    "else:\n",
    "    sig_cate.round(3)"
   ]
  },
  {
   "cell_type": "markdown",
   "metadata": {},
   "source": [
    "For reference, we generate the ATE over train and test sets."
   ]
  },
  {
   "cell_type": "code",
   "execution_count": 37,
   "metadata": {},
   "outputs": [
    {
     "ename": "NameError",
     "evalue": "name 'trainval_df' is not defined",
     "output_type": "error",
     "traceback": [
      "\u001b[31m---------------------------------------------------------------------------\u001b[39m",
      "\u001b[31mNameError\u001b[39m                                 Traceback (most recent call last)",
      "\u001b[36mCell\u001b[39m\u001b[36m \u001b[39m\u001b[32mIn[37]\u001b[39m\u001b[32m, line 2\u001b[39m\n\u001b[32m      1\u001b[39m ATE_df = pd.DataFrame(columns = [\u001b[33m\"\u001b[39m\u001b[33msize\u001b[39m\u001b[33m\"\u001b[39m, \u001b[33m\"\u001b[39m\u001b[33mnum events\u001b[39m\u001b[33m\"\u001b[39m, \u001b[33m\"\u001b[39m\u001b[33mATE\u001b[39m\u001b[33m\"\u001b[39m, \u001b[33m\"\u001b[39m\u001b[33mATE std\u001b[39m\u001b[33m\"\u001b[39m])\n\u001b[32m----> \u001b[39m\u001b[32m2\u001b[39m size = \u001b[43mtrainval_df\u001b[49m.shape[\u001b[32m0\u001b[39m]\n\u001b[32m      3\u001b[39m num_events = trainval_df[outcome_name].sum()\n\u001b[32m      4\u001b[39m ATE = get_Neyman_ATE(trainval_df[outcome_name], trainval_df[\u001b[33m\"\u001b[39m\u001b[33mTREATED\u001b[39m\u001b[33m\"\u001b[39m])\n",
      "\u001b[31mNameError\u001b[39m: name 'trainval_df' is not defined"
     ]
    }
   ],
   "source": [
    "ATE_df = pd.DataFrame(columns = [\"size\", \"num events\", \"ATE\", \"ATE std\"])\n",
    "size = trainval_df.shape[0]\n",
    "num_events = trainval_df[outcome_name].sum()\n",
    "ATE = get_Neyman_ATE(trainval_df[outcome_name], trainval_df[\"TREATED\"])\n",
    "ATE_std = np.sqrt(get_Neyman_var(trainval_df[outcome_name], trainval_df[\"TREATED\"]))\n",
    "ATE_df = ATE_df.append(pd.Series({\"size\" : size, \"num events\" : num_events, \n",
    "                                  \"ATE\" : ATE, \"ATE std\" : ATE_std}, \n",
    "                                 name = \"train\"))"
   ]
  },
  {
   "cell_type": "code",
   "execution_count": 62,
   "metadata": {},
   "outputs": [
    {
     "data": {
      "text/html": [
       "<div>\n",
       "<style scoped>\n",
       "    .dataframe tbody tr th:only-of-type {\n",
       "        vertical-align: middle;\n",
       "    }\n",
       "\n",
       "    .dataframe tbody tr th {\n",
       "        vertical-align: top;\n",
       "    }\n",
       "\n",
       "    .dataframe thead th {\n",
       "        text-align: right;\n",
       "    }\n",
       "</style>\n",
       "<table border=\"1\" class=\"dataframe\">\n",
       "  <thead>\n",
       "    <tr style=\"text-align: right;\">\n",
       "      <th></th>\n",
       "      <th>size</th>\n",
       "      <th>num events</th>\n",
       "      <th>ATE</th>\n",
       "      <th>ATE std</th>\n",
       "    </tr>\n",
       "  </thead>\n",
       "  <tbody>\n",
       "    <tr>\n",
       "      <th>train</th>\n",
       "      <td>6460.0</td>\n",
       "      <td>142.0</td>\n",
       "      <td>-0.016</td>\n",
       "      <td>0.004</td>\n",
       "    </tr>\n",
       "    <tr>\n",
       "      <th>test</th>\n",
       "      <td>1616.0</td>\n",
       "      <td>35.0</td>\n",
       "      <td>-0.016</td>\n",
       "      <td>0.007</td>\n",
       "    </tr>\n",
       "  </tbody>\n",
       "</table>\n",
       "</div>"
      ],
      "text/plain": [
       "         size  num events    ATE  ATE std\n",
       "train  6460.0       142.0 -0.016    0.004\n",
       "test   1616.0        35.0 -0.016    0.007"
      ]
     },
     "execution_count": 62,
     "metadata": {},
     "output_type": "execute_result"
    }
   ],
   "source": [
    "ATE_df.round(3)"
   ]
  },
  {
   "cell_type": "markdown",
   "metadata": {},
   "source": [
    "### 4.2. Significance of selected cells w.r.t. TC outcome  "
   ]
  },
  {
   "cell_type": "code",
   "execution_count": null,
   "metadata": {},
   "outputs": [],
   "source": [
    "# Skipped: cross outcome on train/test split not present in current dataset\n",
    "raise SystemExit(\"Skip cross-outcome test split section.\")"
   ]
  },
  {
   "cell_type": "code",
   "execution_count": 44,
   "metadata": {},
   "outputs": [
    {
     "name": "stdout",
     "output_type": "stream",
     "text": [
      "train cfd_cardio on GI split\n"
     ]
    },
    {
     "data": {
      "text/html": [
       "<div>\n",
       "<style scoped>\n",
       "    .dataframe tbody tr th:only-of-type {\n",
       "        vertical-align: middle;\n",
       "    }\n",
       "\n",
       "    .dataframe tbody tr th {\n",
       "        vertical-align: top;\n",
       "    }\n",
       "\n",
       "    .dataframe thead th {\n",
       "        text-align: right;\n",
       "    }\n",
       "</style>\n",
       "<table border=\"1\" class=\"dataframe\">\n",
       "  <thead>\n",
       "    <tr style=\"text-align: right;\">\n",
       "      <th></th>\n",
       "      <th>size</th>\n",
       "      <th>num_evts</th>\n",
       "      <th>CATE</th>\n",
       "      <th>CATE_std</th>\n",
       "      <th>t-stat (overall)</th>\n",
       "      <th>t-stat (val) mean</th>\n",
       "      <th>t-stat (val) std</th>\n",
       "    </tr>\n",
       "  </thead>\n",
       "  <tbody>\n",
       "    <tr>\n",
       "      <th>PUB_PRIOR_HISTORY==1</th>\n",
       "      <td>501</td>\n",
       "      <td>2</td>\n",
       "      <td>-0.008</td>\n",
       "      <td>0.006</td>\n",
       "      <td>-2.724</td>\n",
       "      <td>-1.677</td>\n",
       "      <td>0.216</td>\n",
       "    </tr>\n",
       "    <tr>\n",
       "      <th>PSTRDS==1 &amp; HYPGRP==1</th>\n",
       "      <td>1008</td>\n",
       "      <td>11</td>\n",
       "      <td>0.010</td>\n",
       "      <td>0.007</td>\n",
       "      <td>0.410</td>\n",
       "      <td>0.136</td>\n",
       "      <td>0.239</td>\n",
       "    </tr>\n",
       "    <tr>\n",
       "      <th>PSTRDS==1 &amp; elderly_65_adj==1</th>\n",
       "      <td>894</td>\n",
       "      <td>14</td>\n",
       "      <td>0.019</td>\n",
       "      <td>0.008</td>\n",
       "      <td>1.495</td>\n",
       "      <td>0.549</td>\n",
       "      <td>0.327</td>\n",
       "    </tr>\n",
       "    <tr>\n",
       "      <th>union</th>\n",
       "      <td>1905</td>\n",
       "      <td>19</td>\n",
       "      <td>0.009</td>\n",
       "      <td>0.005</td>\n",
       "      <td>0.481</td>\n",
       "      <td>0.149</td>\n",
       "      <td>0.278</td>\n",
       "    </tr>\n",
       "  </tbody>\n",
       "</table>\n",
       "</div>"
      ],
      "text/plain": [
       "                               size  num_evts   CATE  CATE_std  \\\n",
       "PUB_PRIOR_HISTORY==1            501         2 -0.008     0.006   \n",
       "PSTRDS==1 & HYPGRP==1          1008        11  0.010     0.007   \n",
       "PSTRDS==1 & elderly_65_adj==1   894        14  0.019     0.008   \n",
       "union                          1905        19  0.009     0.005   \n",
       "\n",
       "                               t-stat (overall)  t-stat (val) mean  \\\n",
       "PUB_PRIOR_HISTORY==1                     -2.724             -1.677   \n",
       "PSTRDS==1 & HYPGRP==1                     0.410              0.136   \n",
       "PSTRDS==1 & elderly_65_adj==1             1.495              0.549   \n",
       "union                                     0.481              0.149   \n",
       "\n",
       "                               t-stat (val) std  \n",
       "PUB_PRIOR_HISTORY==1                      0.216  \n",
       "PSTRDS==1 & HYPGRP==1                     0.239  \n",
       "PSTRDS==1 & elderly_65_adj==1             0.327  \n",
       "union                                     0.278  "
      ]
     },
     "execution_count": 44,
     "metadata": {},
     "output_type": "execute_result"
    }
   ],
   "source": [
    "print(f\"train {cross_outcome} on {outcome_name} split\")\n",
    "cross_cate_train"
   ]
  },
  {
   "cell_type": "code",
   "execution_count": 45,
   "metadata": {},
   "outputs": [
    {
     "name": "stdout",
     "output_type": "stream",
     "text": [
      "test cfd_cardio on GI split\n"
     ]
    },
    {
     "data": {
      "text/html": [
       "<div>\n",
       "<style scoped>\n",
       "    .dataframe tbody tr th:only-of-type {\n",
       "        vertical-align: middle;\n",
       "    }\n",
       "\n",
       "    .dataframe tbody tr th {\n",
       "        vertical-align: top;\n",
       "    }\n",
       "\n",
       "    .dataframe thead th {\n",
       "        text-align: right;\n",
       "    }\n",
       "</style>\n",
       "<table border=\"1\" class=\"dataframe\">\n",
       "  <thead>\n",
       "    <tr style=\"text-align: right;\">\n",
       "      <th></th>\n",
       "      <th>size</th>\n",
       "      <th>num_evts</th>\n",
       "      <th>CATE</th>\n",
       "      <th>CATE_std</th>\n",
       "      <th>t-stat (overall)</th>\n",
       "    </tr>\n",
       "  </thead>\n",
       "  <tbody>\n",
       "    <tr>\n",
       "      <th>PUB_PRIOR_HISTORY==1</th>\n",
       "      <td>129</td>\n",
       "      <td>0</td>\n",
       "      <td>0.0</td>\n",
       "      <td>0.000</td>\n",
       "      <td>0.385</td>\n",
       "    </tr>\n",
       "    <tr>\n",
       "      <th>PSTRDS==1 &amp; HYPGRP==1</th>\n",
       "      <td>238</td>\n",
       "      <td>0</td>\n",
       "      <td>0.0</td>\n",
       "      <td>0.000</td>\n",
       "      <td>0.385</td>\n",
       "    </tr>\n",
       "    <tr>\n",
       "      <th>PSTRDS==1 &amp; elderly_65_adj==1</th>\n",
       "      <td>227</td>\n",
       "      <td>2</td>\n",
       "      <td>-0.0</td>\n",
       "      <td>0.012</td>\n",
       "      <td>0.093</td>\n",
       "    </tr>\n",
       "    <tr>\n",
       "      <th>union</th>\n",
       "      <td>471</td>\n",
       "      <td>2</td>\n",
       "      <td>0.0</td>\n",
       "      <td>0.006</td>\n",
       "      <td>0.252</td>\n",
       "    </tr>\n",
       "  </tbody>\n",
       "</table>\n",
       "</div>"
      ],
      "text/plain": [
       "                               size  num_evts  CATE  CATE_std  \\\n",
       "PUB_PRIOR_HISTORY==1            129         0   0.0     0.000   \n",
       "PSTRDS==1 & HYPGRP==1           238         0   0.0     0.000   \n",
       "PSTRDS==1 & elderly_65_adj==1   227         2  -0.0     0.012   \n",
       "union                           471         2   0.0     0.006   \n",
       "\n",
       "                               t-stat (overall)  \n",
       "PUB_PRIOR_HISTORY==1                      0.385  \n",
       "PSTRDS==1 & HYPGRP==1                     0.385  \n",
       "PSTRDS==1 & elderly_65_adj==1             0.093  \n",
       "union                                     0.252  "
      ]
     },
     "execution_count": 45,
     "metadata": {},
     "output_type": "execute_result"
    }
   ],
   "source": [
    "print(f\"test {cross_outcome} on {outcome_name} split\")\n",
    "cross_test_cate = get_cell_significance_results(top_cells, \n",
    "                cross_test_df[cross_outcome], cross_test_df[\"TREATED\"], \n",
    "                cross_test_df[features], on_trainval = False)\n",
    "cross_test_cate.round(3)"
   ]
  },
  {
   "cell_type": "markdown",
   "metadata": {},
   "source": [
    "Let's combine both tables together."
   ]
  },
  {
   "cell_type": "code",
   "execution_count": 122,
   "metadata": {},
   "outputs": [
    {
     "data": {
      "text/html": [
       "<div>\n",
       "<style scoped>\n",
       "    .dataframe tbody tr th:only-of-type {\n",
       "        vertical-align: middle;\n",
       "    }\n",
       "\n",
       "    .dataframe tbody tr th {\n",
       "        vertical-align: top;\n",
       "    }\n",
       "\n",
       "    .dataframe thead th {\n",
       "        text-align: right;\n",
       "    }\n",
       "</style>\n",
       "<table border=\"1\" class=\"dataframe\">\n",
       "  <thead>\n",
       "    <tr style=\"text-align: right;\">\n",
       "      <th></th>\n",
       "      <th>num_evts_train</th>\n",
       "      <th>size_train</th>\n",
       "      <th>num_evts_test</th>\n",
       "      <th>size_test</th>\n",
       "      <th>CATE_train</th>\n",
       "      <th>CATE_std_train</th>\n",
       "      <th>CATE_test</th>\n",
       "      <th>CATE_std_test</th>\n",
       "      <th>t-stat (overall)_train</th>\n",
       "      <th>t-stat (overall)_test</th>\n",
       "      <th>t-stat (val) mean</th>\n",
       "      <th>t-stat (val) std</th>\n",
       "    </tr>\n",
       "  </thead>\n",
       "  <tbody>\n",
       "    <tr>\n",
       "      <th>PUB_PRIOR_HISTORY==1</th>\n",
       "      <td>2</td>\n",
       "      <td>501</td>\n",
       "      <td>0</td>\n",
       "      <td>129</td>\n",
       "      <td>-0.008</td>\n",
       "      <td>0.006</td>\n",
       "      <td>0.0</td>\n",
       "      <td>0.000</td>\n",
       "      <td>-2.724</td>\n",
       "      <td>0.385</td>\n",
       "      <td>-1.677</td>\n",
       "      <td>0.216</td>\n",
       "    </tr>\n",
       "    <tr>\n",
       "      <th>PSTRDS==1 &amp; HYPGRP==1</th>\n",
       "      <td>11</td>\n",
       "      <td>1008</td>\n",
       "      <td>0</td>\n",
       "      <td>238</td>\n",
       "      <td>0.010</td>\n",
       "      <td>0.007</td>\n",
       "      <td>0.0</td>\n",
       "      <td>0.000</td>\n",
       "      <td>0.410</td>\n",
       "      <td>0.385</td>\n",
       "      <td>0.136</td>\n",
       "      <td>0.239</td>\n",
       "    </tr>\n",
       "    <tr>\n",
       "      <th>PSTRDS==1 &amp; elderly_65_adj==1</th>\n",
       "      <td>14</td>\n",
       "      <td>894</td>\n",
       "      <td>2</td>\n",
       "      <td>227</td>\n",
       "      <td>0.019</td>\n",
       "      <td>0.008</td>\n",
       "      <td>-0.0</td>\n",
       "      <td>0.012</td>\n",
       "      <td>1.495</td>\n",
       "      <td>0.093</td>\n",
       "      <td>0.549</td>\n",
       "      <td>0.327</td>\n",
       "    </tr>\n",
       "    <tr>\n",
       "      <th>union</th>\n",
       "      <td>19</td>\n",
       "      <td>1905</td>\n",
       "      <td>2</td>\n",
       "      <td>471</td>\n",
       "      <td>0.009</td>\n",
       "      <td>0.005</td>\n",
       "      <td>0.0</td>\n",
       "      <td>0.006</td>\n",
       "      <td>0.481</td>\n",
       "      <td>0.252</td>\n",
       "      <td>0.149</td>\n",
       "      <td>0.278</td>\n",
       "    </tr>\n",
       "  </tbody>\n",
       "</table>\n",
       "</div>"
      ],
      "text/plain": [
       "                               num_evts_train  size_train  num_evts_test  \\\n",
       "PUB_PRIOR_HISTORY==1                        2         501              0   \n",
       "PSTRDS==1 & HYPGRP==1                      11        1008              0   \n",
       "PSTRDS==1 & elderly_65_adj==1              14         894              2   \n",
       "union                                      19        1905              2   \n",
       "\n",
       "                               size_test  CATE_train  CATE_std_train  \\\n",
       "PUB_PRIOR_HISTORY==1                 129      -0.008           0.006   \n",
       "PSTRDS==1 & HYPGRP==1                238       0.010           0.007   \n",
       "PSTRDS==1 & elderly_65_adj==1        227       0.019           0.008   \n",
       "union                                471       0.009           0.005   \n",
       "\n",
       "                               CATE_test  CATE_std_test  \\\n",
       "PUB_PRIOR_HISTORY==1                 0.0          0.000   \n",
       "PSTRDS==1 & HYPGRP==1                0.0          0.000   \n",
       "PSTRDS==1 & elderly_65_adj==1       -0.0          0.012   \n",
       "union                                0.0          0.006   \n",
       "\n",
       "                               t-stat (overall)_train  t-stat (overall)_test  \\\n",
       "PUB_PRIOR_HISTORY==1                           -2.724                  0.385   \n",
       "PSTRDS==1 & HYPGRP==1                           0.410                  0.385   \n",
       "PSTRDS==1 & elderly_65_adj==1                   1.495                  0.093   \n",
       "union                                           0.481                  0.252   \n",
       "\n",
       "                               t-stat (val) mean  t-stat (val) std  \n",
       "PUB_PRIOR_HISTORY==1                      -1.677             0.216  \n",
       "PSTRDS==1 & HYPGRP==1                      0.136             0.239  \n",
       "PSTRDS==1 & elderly_65_adj==1              0.549             0.327  \n",
       "union                                      0.149             0.278  "
      ]
     },
     "execution_count": 122,
     "metadata": {},
     "output_type": "execute_result"
    }
   ],
   "source": [
    "cross_join = cross_cate_train.join(cross_test_cate,\n",
    "                        how='outer', lsuffix=\"_train\", rsuffix=\"_test\")\n",
    "\n",
    "cross_join[['num_evts_train', 'size_train', 'num_evts_test', 'size_test', \n",
    "            'CATE_train', 'CATE_std_train', 'CATE_test', 'CATE_std_test', \n",
    "            't-stat (overall)_train', 't-stat (overall)_test', \"t-stat (val) mean\", \n",
    "            \"t-stat (val) std\"]].round(3)"
   ]
  },
  {
   "cell_type": "markdown",
   "metadata": {},
   "source": [
    "For reference, we generate the ATE over train and test sets."
   ]
  },
  {
   "cell_type": "code",
   "execution_count": 68,
   "metadata": {},
   "outputs": [],
   "source": [
    "ATE_df = pd.DataFrame(columns = [\"size\", \"num events\", \"ATE\", \"ATE std\"])\n",
    "for name, df in zip([\"train\", \"test\"], [cross_train_df, cross_test_df]):\n",
    "    size = df.shape[0]\n",
    "    num_events = df[cross_outcome].sum()\n",
    "    ATE = get_Neyman_ATE(df[cross_outcome], df[\"TREATED\"])\n",
    "    ATE_std = np.sqrt(get_Neyman_var(df[cross_outcome], df[\"TREATED\"]))\n",
    "    ATE_df = ATE_df.append(pd.Series({\"size\" : size, \"num events\" : num_events, \n",
    "                                      \"ATE\" : ATE, \"ATE std\" : ATE_std}, \n",
    "                                     name = name))"
   ]
  },
  {
   "cell_type": "code",
   "execution_count": 69,
   "metadata": {},
   "outputs": [
    {
     "data": {
      "text/html": [
       "<div>\n",
       "<style scoped>\n",
       "    .dataframe tbody tr th:only-of-type {\n",
       "        vertical-align: middle;\n",
       "    }\n",
       "\n",
       "    .dataframe tbody tr th {\n",
       "        vertical-align: top;\n",
       "    }\n",
       "\n",
       "    .dataframe thead th {\n",
       "        text-align: right;\n",
       "    }\n",
       "</style>\n",
       "<table border=\"1\" class=\"dataframe\">\n",
       "  <thead>\n",
       "    <tr style=\"text-align: right;\">\n",
       "      <th></th>\n",
       "      <th>size</th>\n",
       "      <th>num events</th>\n",
       "      <th>ATE</th>\n",
       "      <th>ATE std</th>\n",
       "    </tr>\n",
       "  </thead>\n",
       "  <tbody>\n",
       "    <tr>\n",
       "      <th>train</th>\n",
       "      <td>6460.0</td>\n",
       "      <td>52.0</td>\n",
       "      <td>0.007</td>\n",
       "      <td>0.002</td>\n",
       "    </tr>\n",
       "    <tr>\n",
       "      <th>test</th>\n",
       "      <td>1616.0</td>\n",
       "      <td>7.0</td>\n",
       "      <td>-0.001</td>\n",
       "      <td>0.003</td>\n",
       "    </tr>\n",
       "  </tbody>\n",
       "</table>\n",
       "</div>"
      ],
      "text/plain": [
       "         size  num events    ATE  ATE std\n",
       "train  6460.0        52.0  0.007    0.002\n",
       "test   1616.0         7.0 -0.001    0.003"
      ]
     },
     "execution_count": 69,
     "metadata": {},
     "output_type": "execute_result"
    }
   ],
   "source": [
    "ATE_df.round(3)"
   ]
  },
  {
   "cell_type": "markdown",
   "metadata": {},
   "source": [
    "### 4.3. Significance of selected cells w.r.t. TC outcome, on TC-based split"
   ]
  },
  {
   "cell_type": "code",
   "execution_count": null,
   "metadata": {},
   "outputs": [],
   "source": [
    "# Skipped: cross-outcome significance on TC-based split\n",
    "raise SystemExit(\"Skip cross-outcome on TC-based split.\")"
   ]
  },
  {
   "cell_type": "code",
   "execution_count": 71,
   "metadata": {},
   "outputs": [
    {
     "name": "stdout",
     "output_type": "stream",
     "text": [
      "train cfd_cardio on cfd_cardio split\n"
     ]
    },
    {
     "data": {
      "text/html": [
       "<div>\n",
       "<style scoped>\n",
       "    .dataframe tbody tr th:only-of-type {\n",
       "        vertical-align: middle;\n",
       "    }\n",
       "\n",
       "    .dataframe tbody tr th {\n",
       "        vertical-align: top;\n",
       "    }\n",
       "\n",
       "    .dataframe thead th {\n",
       "        text-align: right;\n",
       "    }\n",
       "</style>\n",
       "<table border=\"1\" class=\"dataframe\">\n",
       "  <thead>\n",
       "    <tr style=\"text-align: right;\">\n",
       "      <th></th>\n",
       "      <th>size</th>\n",
       "      <th>num_evts</th>\n",
       "      <th>CATE</th>\n",
       "      <th>CATE_std</th>\n",
       "      <th>t-stat (overall)</th>\n",
       "    </tr>\n",
       "  </thead>\n",
       "  <tbody>\n",
       "    <tr>\n",
       "      <th>PUB_PRIOR_HISTORY==1</th>\n",
       "      <td>506</td>\n",
       "      <td>1</td>\n",
       "      <td>-0.004</td>\n",
       "      <td>0.004</td>\n",
       "      <td>-2.338</td>\n",
       "    </tr>\n",
       "    <tr>\n",
       "      <th>PSTRDS==1 &amp; HYPGRP==1</th>\n",
       "      <td>976</td>\n",
       "      <td>8</td>\n",
       "      <td>0.008</td>\n",
       "      <td>0.006</td>\n",
       "      <td>0.369</td>\n",
       "    </tr>\n",
       "    <tr>\n",
       "      <th>PSTRDS==1 &amp; elderly_65_adj==1</th>\n",
       "      <td>887</td>\n",
       "      <td>12</td>\n",
       "      <td>0.013</td>\n",
       "      <td>0.008</td>\n",
       "      <td>1.104</td>\n",
       "    </tr>\n",
       "    <tr>\n",
       "      <th>union</th>\n",
       "      <td>1879</td>\n",
       "      <td>15</td>\n",
       "      <td>0.007</td>\n",
       "      <td>0.004</td>\n",
       "      <td>0.375</td>\n",
       "    </tr>\n",
       "  </tbody>\n",
       "</table>\n",
       "</div>"
      ],
      "text/plain": [
       "                               size  num_evts   CATE  CATE_std  \\\n",
       "PUB_PRIOR_HISTORY==1            506         1 -0.004     0.004   \n",
       "PSTRDS==1 & HYPGRP==1           976         8  0.008     0.006   \n",
       "PSTRDS==1 & elderly_65_adj==1   887        12  0.013     0.008   \n",
       "union                          1879        15  0.007     0.004   \n",
       "\n",
       "                               t-stat (overall)  \n",
       "PUB_PRIOR_HISTORY==1                     -2.338  \n",
       "PSTRDS==1 & HYPGRP==1                     0.369  \n",
       "PSTRDS==1 & elderly_65_adj==1             1.104  \n",
       "union                                     0.375  "
      ]
     },
     "execution_count": 71,
     "metadata": {},
     "output_type": "execute_result"
    }
   ],
   "source": [
    "print(f\"train {cross_outcome} on {cross_outcome} split\")\n",
    "new_cross_train_cate = get_cell_significance_results(top_cells, \n",
    "                        new_cross_train_df[cross_outcome], new_cross_train_df[\"TREATED\"], \n",
    "                            new_cross_train_df[features], on_trainval = False)\n",
    "new_cross_train_cate.round(3)"
   ]
  },
  {
   "cell_type": "code",
   "execution_count": 72,
   "metadata": {},
   "outputs": [
    {
     "name": "stdout",
     "output_type": "stream",
     "text": [
      "test cfd_cardio on cfd_cardio split\n"
     ]
    },
    {
     "data": {
      "text/html": [
       "<div>\n",
       "<style scoped>\n",
       "    .dataframe tbody tr th:only-of-type {\n",
       "        vertical-align: middle;\n",
       "    }\n",
       "\n",
       "    .dataframe tbody tr th {\n",
       "        vertical-align: top;\n",
       "    }\n",
       "\n",
       "    .dataframe thead th {\n",
       "        text-align: right;\n",
       "    }\n",
       "</style>\n",
       "<table border=\"1\" class=\"dataframe\">\n",
       "  <thead>\n",
       "    <tr style=\"text-align: right;\">\n",
       "      <th></th>\n",
       "      <th>size</th>\n",
       "      <th>num_evts</th>\n",
       "      <th>CATE</th>\n",
       "      <th>CATE_std</th>\n",
       "      <th>t-stat (overall)</th>\n",
       "    </tr>\n",
       "  </thead>\n",
       "  <tbody>\n",
       "    <tr>\n",
       "      <th>PUB_PRIOR_HISTORY==1</th>\n",
       "      <td>124</td>\n",
       "      <td>1</td>\n",
       "      <td>-0.016</td>\n",
       "      <td>0.016</td>\n",
       "      <td>-1.369</td>\n",
       "    </tr>\n",
       "    <tr>\n",
       "      <th>PSTRDS==1 &amp; HYPGRP==1</th>\n",
       "      <td>270</td>\n",
       "      <td>3</td>\n",
       "      <td>0.008</td>\n",
       "      <td>0.013</td>\n",
       "      <td>0.261</td>\n",
       "    </tr>\n",
       "    <tr>\n",
       "      <th>PSTRDS==1 &amp; elderly_65_adj==1</th>\n",
       "      <td>234</td>\n",
       "      <td>4</td>\n",
       "      <td>0.020</td>\n",
       "      <td>0.018</td>\n",
       "      <td>0.950</td>\n",
       "    </tr>\n",
       "    <tr>\n",
       "      <th>union</th>\n",
       "      <td>497</td>\n",
       "      <td>6</td>\n",
       "      <td>0.009</td>\n",
       "      <td>0.010</td>\n",
       "      <td>0.499</td>\n",
       "    </tr>\n",
       "  </tbody>\n",
       "</table>\n",
       "</div>"
      ],
      "text/plain": [
       "                               size  num_evts   CATE  CATE_std  \\\n",
       "PUB_PRIOR_HISTORY==1            124         1 -0.016     0.016   \n",
       "PSTRDS==1 & HYPGRP==1           270         3  0.008     0.013   \n",
       "PSTRDS==1 & elderly_65_adj==1   234         4  0.020     0.018   \n",
       "union                           497         6  0.009     0.010   \n",
       "\n",
       "                               t-stat (overall)  \n",
       "PUB_PRIOR_HISTORY==1                     -1.369  \n",
       "PSTRDS==1 & HYPGRP==1                     0.261  \n",
       "PSTRDS==1 & elderly_65_adj==1             0.950  \n",
       "union                                     0.499  "
      ]
     },
     "execution_count": 72,
     "metadata": {},
     "output_type": "execute_result"
    }
   ],
   "source": [
    "print(f\"test {cross_outcome} on {cross_outcome} split\")\n",
    "new_cross_test_cate = get_cell_significance_results(top_cells, \n",
    "                                new_cross_test_df[cross_outcome], \n",
    "                    new_cross_test_df[\"TREATED\"], new_cross_test_df[features], \n",
    "                                                    on_trainval = False)\n",
    "new_cross_test_cate.round(3)"
   ]
  },
  {
   "cell_type": "markdown",
   "metadata": {},
   "source": [
    "Let's combine both tables together."
   ]
  },
  {
   "cell_type": "code",
   "execution_count": 77,
   "metadata": {},
   "outputs": [
    {
     "name": "stdout",
     "output_type": "stream",
     "text": [
      "Cross: cfd_cardio on cfd_cardio split\n"
     ]
    },
    {
     "data": {
      "text/html": [
       "<div>\n",
       "<style scoped>\n",
       "    .dataframe tbody tr th:only-of-type {\n",
       "        vertical-align: middle;\n",
       "    }\n",
       "\n",
       "    .dataframe tbody tr th {\n",
       "        vertical-align: top;\n",
       "    }\n",
       "\n",
       "    .dataframe thead th {\n",
       "        text-align: right;\n",
       "    }\n",
       "</style>\n",
       "<table border=\"1\" class=\"dataframe\">\n",
       "  <thead>\n",
       "    <tr style=\"text-align: right;\">\n",
       "      <th></th>\n",
       "      <th>num_evts_train</th>\n",
       "      <th>size_train</th>\n",
       "      <th>num_evts_test</th>\n",
       "      <th>size_test</th>\n",
       "      <th>CATE_train</th>\n",
       "      <th>CATE_std_train</th>\n",
       "      <th>CATE_test</th>\n",
       "      <th>CATE_std_test</th>\n",
       "      <th>t-stat (overall)_train</th>\n",
       "      <th>t-stat (overall)_test</th>\n",
       "    </tr>\n",
       "  </thead>\n",
       "  <tbody>\n",
       "    <tr>\n",
       "      <th>PUB_PRIOR_HISTORY==1</th>\n",
       "      <td>1</td>\n",
       "      <td>506</td>\n",
       "      <td>1</td>\n",
       "      <td>124</td>\n",
       "      <td>-0.004</td>\n",
       "      <td>0.004</td>\n",
       "      <td>-0.016</td>\n",
       "      <td>0.016</td>\n",
       "      <td>-2.338</td>\n",
       "      <td>-1.369</td>\n",
       "    </tr>\n",
       "    <tr>\n",
       "      <th>PSTRDS==1 &amp; HYPGRP==1</th>\n",
       "      <td>8</td>\n",
       "      <td>976</td>\n",
       "      <td>3</td>\n",
       "      <td>270</td>\n",
       "      <td>0.008</td>\n",
       "      <td>0.006</td>\n",
       "      <td>0.008</td>\n",
       "      <td>0.013</td>\n",
       "      <td>0.369</td>\n",
       "      <td>0.261</td>\n",
       "    </tr>\n",
       "    <tr>\n",
       "      <th>PSTRDS==1 &amp; elderly_65_adj==1</th>\n",
       "      <td>12</td>\n",
       "      <td>887</td>\n",
       "      <td>4</td>\n",
       "      <td>234</td>\n",
       "      <td>0.013</td>\n",
       "      <td>0.008</td>\n",
       "      <td>0.020</td>\n",
       "      <td>0.018</td>\n",
       "      <td>1.104</td>\n",
       "      <td>0.950</td>\n",
       "    </tr>\n",
       "    <tr>\n",
       "      <th>union</th>\n",
       "      <td>15</td>\n",
       "      <td>1879</td>\n",
       "      <td>6</td>\n",
       "      <td>497</td>\n",
       "      <td>0.007</td>\n",
       "      <td>0.004</td>\n",
       "      <td>0.009</td>\n",
       "      <td>0.010</td>\n",
       "      <td>0.375</td>\n",
       "      <td>0.499</td>\n",
       "    </tr>\n",
       "  </tbody>\n",
       "</table>\n",
       "</div>"
      ],
      "text/plain": [
       "                               num_evts_train  size_train  num_evts_test  \\\n",
       "PUB_PRIOR_HISTORY==1                        1         506              1   \n",
       "PSTRDS==1 & HYPGRP==1                       8         976              3   \n",
       "PSTRDS==1 & elderly_65_adj==1              12         887              4   \n",
       "union                                      15        1879              6   \n",
       "\n",
       "                               size_test  CATE_train  CATE_std_train  \\\n",
       "PUB_PRIOR_HISTORY==1                 124      -0.004           0.004   \n",
       "PSTRDS==1 & HYPGRP==1                270       0.008           0.006   \n",
       "PSTRDS==1 & elderly_65_adj==1        234       0.013           0.008   \n",
       "union                                497       0.007           0.004   \n",
       "\n",
       "                               CATE_test  CATE_std_test  \\\n",
       "PUB_PRIOR_HISTORY==1              -0.016          0.016   \n",
       "PSTRDS==1 & HYPGRP==1              0.008          0.013   \n",
       "PSTRDS==1 & elderly_65_adj==1      0.020          0.018   \n",
       "union                              0.009          0.010   \n",
       "\n",
       "                               t-stat (overall)_train  t-stat (overall)_test  \n",
       "PUB_PRIOR_HISTORY==1                           -2.338                 -1.369  \n",
       "PSTRDS==1 & HYPGRP==1                           0.369                  0.261  \n",
       "PSTRDS==1 & elderly_65_adj==1                   1.104                  0.950  \n",
       "union                                           0.375                  0.499  "
      ]
     },
     "execution_count": 77,
     "metadata": {},
     "output_type": "execute_result"
    }
   ],
   "source": [
    "new_cross_join = new_cross_train_cate.join(new_cross_test_cate,\n",
    "                        how='outer', lsuffix=\"_train\", rsuffix=\"_test\")\n",
    "\n",
    "print(f\"Cross: {cross_outcome} on {cross_outcome} split\")\n",
    "new_cross_join[['num_evts_train', 'size_train', 'num_evts_test', 'size_test', \n",
    "                'CATE_train', 'CATE_std_train', 'CATE_test', 'CATE_std_test', \n",
    "                't-stat (overall)_train', 't-stat (overall)_test']].round(3)"
   ]
  },
  {
   "cell_type": "markdown",
   "metadata": {},
   "source": [
    "For reference, we generate the ATE over train and test sets."
   ]
  },
  {
   "cell_type": "code",
   "execution_count": 75,
   "metadata": {},
   "outputs": [],
   "source": [
    "ATE_df = pd.DataFrame(columns = [\"size\", \"num events\", \"ATE\", \"ATE std\"])\n",
    "for name, df in zip([\"train\", \"test\"], [new_cross_train_df, new_cross_test_df]):\n",
    "    size = df.shape[0]\n",
    "    num_events = df[cross_outcome].sum()\n",
    "    ATE = get_Neyman_ATE(df[cross_outcome], df[\"TREATED\"])\n",
    "    ATE_std = np.sqrt(get_Neyman_var(df[cross_outcome], df[\"TREATED\"]))\n",
    "    ATE_df = ATE_df.append(pd.Series({\"size\" : size, \"num events\" : num_events, \n",
    "                                      \"ATE\" : ATE, \"ATE std\" : ATE_std}, \n",
    "                                     name = name))"
   ]
  },
  {
   "cell_type": "code",
   "execution_count": 76,
   "metadata": {},
   "outputs": [
    {
     "data": {
      "text/html": [
       "<div>\n",
       "<style scoped>\n",
       "    .dataframe tbody tr th:only-of-type {\n",
       "        vertical-align: middle;\n",
       "    }\n",
       "\n",
       "    .dataframe tbody tr th {\n",
       "        vertical-align: top;\n",
       "    }\n",
       "\n",
       "    .dataframe thead th {\n",
       "        text-align: right;\n",
       "    }\n",
       "</style>\n",
       "<table border=\"1\" class=\"dataframe\">\n",
       "  <thead>\n",
       "    <tr style=\"text-align: right;\">\n",
       "      <th></th>\n",
       "      <th>size</th>\n",
       "      <th>num events</th>\n",
       "      <th>ATE</th>\n",
       "      <th>ATE std</th>\n",
       "    </tr>\n",
       "  </thead>\n",
       "  <tbody>\n",
       "    <tr>\n",
       "      <th>train</th>\n",
       "      <td>6460.0</td>\n",
       "      <td>47.0</td>\n",
       "      <td>0.006</td>\n",
       "      <td>0.002</td>\n",
       "    </tr>\n",
       "    <tr>\n",
       "      <th>test</th>\n",
       "      <td>1616.0</td>\n",
       "      <td>12.0</td>\n",
       "      <td>0.005</td>\n",
       "      <td>0.004</td>\n",
       "    </tr>\n",
       "  </tbody>\n",
       "</table>\n",
       "</div>"
      ],
      "text/plain": [
       "         size  num events    ATE  ATE std\n",
       "train  6460.0        47.0  0.006    0.002\n",
       "test   1616.0        12.0  0.005    0.004"
      ]
     },
     "execution_count": 76,
     "metadata": {},
     "output_type": "execute_result"
    }
   ],
   "source": [
    "ATE_df.round(3)"
   ]
  },
  {
   "cell_type": "markdown",
   "metadata": {},
   "source": [
    "### 4.4. Significance of selected cells w.r.t. TC outcome, on all data"
   ]
  },
  {
   "cell_type": "code",
   "execution_count": null,
   "metadata": {},
   "outputs": [],
   "source": [
    "# Skipped: all-data cross-outcome analysis\n",
    "raise SystemExit(\"Skip all-data cross-outcome analysis.\")"
   ]
  },
  {
   "cell_type": "code",
   "execution_count": 88,
   "metadata": {},
   "outputs": [
    {
     "name": "stdout",
     "output_type": "stream",
     "text": [
      "cfd_cardio on all data\n"
     ]
    },
    {
     "data": {
      "text/html": [
       "<div>\n",
       "<style scoped>\n",
       "    .dataframe tbody tr th:only-of-type {\n",
       "        vertical-align: middle;\n",
       "    }\n",
       "\n",
       "    .dataframe tbody tr th {\n",
       "        vertical-align: top;\n",
       "    }\n",
       "\n",
       "    .dataframe thead th {\n",
       "        text-align: right;\n",
       "    }\n",
       "</style>\n",
       "<table border=\"1\" class=\"dataframe\">\n",
       "  <thead>\n",
       "    <tr style=\"text-align: right;\">\n",
       "      <th></th>\n",
       "      <th>size</th>\n",
       "      <th>num_evts</th>\n",
       "      <th>CATE</th>\n",
       "      <th>CATE_std</th>\n",
       "      <th>t-stat (overall)</th>\n",
       "    </tr>\n",
       "  </thead>\n",
       "  <tbody>\n",
       "    <tr>\n",
       "      <th>PUB_PRIOR_HISTORY==1</th>\n",
       "      <td>630</td>\n",
       "      <td>2</td>\n",
       "      <td>-0.006</td>\n",
       "      <td>0.004</td>\n",
       "      <td>-2.657</td>\n",
       "    </tr>\n",
       "    <tr>\n",
       "      <th>PSTRDS==1 &amp; HYPGRP==1</th>\n",
       "      <td>1246</td>\n",
       "      <td>11</td>\n",
       "      <td>0.008</td>\n",
       "      <td>0.005</td>\n",
       "      <td>0.437</td>\n",
       "    </tr>\n",
       "    <tr>\n",
       "      <th>PSTRDS==1 &amp; elderly_65_adj==1</th>\n",
       "      <td>1121</td>\n",
       "      <td>16</td>\n",
       "      <td>0.015</td>\n",
       "      <td>0.007</td>\n",
       "      <td>1.422</td>\n",
       "    </tr>\n",
       "    <tr>\n",
       "      <th>union</th>\n",
       "      <td>2376</td>\n",
       "      <td>21</td>\n",
       "      <td>0.007</td>\n",
       "      <td>0.004</td>\n",
       "      <td>0.552</td>\n",
       "    </tr>\n",
       "  </tbody>\n",
       "</table>\n",
       "</div>"
      ],
      "text/plain": [
       "                               size  num_evts   CATE  CATE_std  \\\n",
       "PUB_PRIOR_HISTORY==1            630         2 -0.006     0.004   \n",
       "PSTRDS==1 & HYPGRP==1          1246        11  0.008     0.005   \n",
       "PSTRDS==1 & elderly_65_adj==1  1121        16  0.015     0.007   \n",
       "union                          2376        21  0.007     0.004   \n",
       "\n",
       "                               t-stat (overall)  \n",
       "PUB_PRIOR_HISTORY==1                     -2.657  \n",
       "PSTRDS==1 & HYPGRP==1                     0.437  \n",
       "PSTRDS==1 & elderly_65_adj==1             1.422  \n",
       "union                                     0.552  "
      ]
     },
     "execution_count": 88,
     "metadata": {},
     "output_type": "execute_result"
    }
   ],
   "source": [
    "print(f\"{cross_outcome} on all data\")\n",
    "all_cross_cate = get_cell_significance_results(top_cells, \n",
    "                all_df[cross_outcome], all_df[\"TREATED\"], \n",
    "                all_df[features], on_trainval = False)\n",
    "all_cross_cate.round(3)"
   ]
  },
  {
   "cell_type": "code",
   "execution_count": 92,
   "metadata": {},
   "outputs": [
    {
     "name": "stdout",
     "output_type": "stream",
     "text": [
      "The ATE for TC on all the data is: 0.006 (0.002)\n",
      "The total number of events is: 59\n"
     ]
    }
   ],
   "source": [
    "ATE = get_Neyman_ATE(all_df[cross_outcome], all_df[\"TREATED\"])\n",
    "ATE_std = np.sqrt(get_Neyman_var(all_df[cross_outcome], all_df[\"TREATED\"]))\n",
    "print(f\"The ATE for TC on all the data is: {ATE:.3f} ({ATE_std:.3f})\")\n",
    "print(\"The total number of events is:\", all_df[cross_outcome].sum())"
   ]
  }
 ],
 "metadata": {
  "kernelspec": {
   "display_name": "venv",
   "language": "python",
   "name": "python3"
  },
  "language_info": {
   "codemirror_mode": {
    "name": "ipython",
    "version": 3
   },
   "file_extension": ".py",
   "mimetype": "text/x-python",
   "name": "python",
   "nbconvert_exporter": "python",
   "pygments_lexer": "ipython3",
   "version": "3.11.9"
  }
 },
 "nbformat": 4,
 "nbformat_minor": 2
}
