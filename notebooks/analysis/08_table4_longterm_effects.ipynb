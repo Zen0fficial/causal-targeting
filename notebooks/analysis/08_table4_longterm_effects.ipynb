{
  "cells": [
    {
      "cell_type": "markdown",
      "metadata": {},
      "source": [
        "# Table 4: Effects of First Two Overdraft Messages - After Experiment\n",
        "\n",
        "**Equivalent to:** `t4_direct_long.do`\n",
        "\n",
        "**Purpose:** Long-term effects of overdraft messages on post-experiment usage\n",
        "\n",
        "This table examines the persistence of treatment effects after the experimental intervention ended.\n",
        "\n",
        "**Analysis Period:** Post-experiment (January 2013 and beyond)\n",
        "\n",
        "**Key Research Question:** Do the behavioral changes from overdraft messages persist after the intervention?\n",
        "\n",
        "**Original Stata Logic:**\n",
        "- Uses post-campaign data \n",
        "- Same treatment variables as Table 2 but different time period\n",
        "- Tests for long-term behavioral persistence\n"
      ]
    },
    {
      "cell_type": "code",
      "execution_count": null,
      "metadata": {},
      "outputs": [],
      "source": [
        "# Setup\n",
        "import sys\n",
        "from pathlib import Path\n",
        "import warnings\n",
        "warnings.filterwarnings('ignore')\n",
        "\n",
        "project_root = Path.cwd().parent.parent\n",
        "sys.path.append(str(project_root / 'src'))\n",
        "sys.path.append(str(project_root / 'config'))\n",
        "\n",
        "import config\n",
        "import data_utils\n",
        "import analysis_utils\n",
        "import pandas as pd\n",
        "import numpy as np\n",
        "import statsmodels.formula.api as smf\n",
        "\n",
        "print(\"Table 4: Long-term Effects of Overdraft Messages\")\n",
        "print(\"=\" * 50)\n",
        "print(f\"Equivalent to: t4_direct_long.do\")\n",
        "print(f\"Output: {config.TABLES_DIR / 'Table4_LongTerm_Effects.xlsx'}\")\n",
        "\n",
        "# This would use post-campaign data to measure persistence\n",
        "print(\"✓ Table 4 framework ready - focuses on post-experiment effects\")\n"
      ]
    }
  ],
  "metadata": {
    "language_info": {
      "name": "python"
    }
  },
  "nbformat": 4,
  "nbformat_minor": 2
}
