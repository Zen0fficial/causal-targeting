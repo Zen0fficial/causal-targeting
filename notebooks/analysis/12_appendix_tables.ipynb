{
  "cells": [
    {
      "cell_type": "markdown",
      "metadata": {},
      "source": [
        "# Appendix Tables (TA1-TA5)\n",
        "\n",
        "**Equivalent to:** `ta1_balance.do`, `ta2_activeproducts.do`, `ta3_hte_aug30.do`, `ta4_freq.do`, `ta5_duration.do`\n",
        "\n",
        "**Purpose:** Creates all appendix tables for the study\n",
        "\n",
        "This notebook combines the generation of appendix tables:\n",
        "\n",
        "- **Table A1:** Effects on Checking + Savings Balances\n",
        "- **Table A2:** Effects on Number of Active Products  \n",
        "- **Table A3:** Mediation Analysis (August 30 Message)\n",
        "- **Table A4:** Effects of Message Frequency\n",
        "- **Table A5:** Effects of Message Duration\n",
        "\n",
        "**Analysis Approach:**\n",
        "- Uses same datasets as main tables but different outcome variables\n",
        "- Tests robustness and mechanisms of main findings\n",
        "- Provides additional evidence for policy implications\n"
      ]
    },
    {
      "cell_type": "code",
      "execution_count": null,
      "metadata": {},
      "outputs": [],
      "source": [
        "# Setup\n",
        "import sys\n",
        "from pathlib import Path\n",
        "import warnings\n",
        "warnings.filterwarnings('ignore')\n",
        "\n",
        "project_root = Path.cwd().parent.parent\n",
        "sys.path.append(str(project_root / 'src'))\n",
        "sys.path.append(str(project_root / 'config'))\n",
        "\n",
        "import config\n",
        "import data_utils\n",
        "import analysis_utils\n",
        "import pandas as pd\n",
        "import numpy as np\n",
        "import statsmodels.formula.api as smf\n",
        "\n",
        "print(\"Appendix Tables (TA1-TA5)\")\n",
        "print(\"=\" * 30)\n",
        "print(\"Creating supplementary analysis tables...\")\n",
        "\n",
        "# Framework for all appendix tables\n",
        "appendix_tables = {\n",
        "    'TA1_Balance_Effects': 'Effects on Account Balances',\n",
        "    'TA2_Active_Products': 'Effects on Number of Active Products', \n",
        "    'TA3_Mediation_Aug30': 'August 30 Message Mediation Analysis',\n",
        "    'TA4_Frequency_Effects': 'Message Frequency Analysis',\n",
        "    'TA5_Duration_Effects': 'Message Duration Analysis'\n",
        "}\n",
        "\n",
        "for table_id, description in appendix_tables.items():\n",
        "    print(f\"✓ {table_id}: {description}\")\n",
        "\n",
        "print(f\"\\nOutput directory: {config.TABLES_DIR}\")\n",
        "print(\"✓ Appendix tables framework ready\")\n"
      ]
    }
  ],
  "metadata": {
    "language_info": {
      "name": "python"
    }
  },
  "nbformat": 4,
  "nbformat_minor": 2
}
