{
  "cells": [
    {
      "cell_type": "markdown",
      "metadata": {},
      "source": [
        "# Table 6: Heterogeneous Treatment Effects by Baseline Account Balance\n",
        "\n",
        "**Equivalent to:** `t6_hte_prebalance.do`\n",
        "\n",
        "**Purpose:** Examines whether treatment effects vary by customers' baseline account balance\n",
        "\n",
        "This table tests for heterogeneous treatment effects based on financial capacity/wealth.\n",
        "\n",
        "**Key Research Question:** Do overdraft messages have different effects on customers with high vs. low baseline account balances?\n",
        "\n",
        "**Analysis Approach:**\n",
        "- Interaction between treatment and baseline balance quintiles\n",
        "- Separate effects across wealth distribution\n",
        "- Tests whether financial capacity moderates message effectiveness\n"
      ]
    },
    {
      "cell_type": "code",
      "execution_count": null,
      "metadata": {},
      "outputs": [],
      "source": [
        "# Setup\n",
        "import sys\n",
        "from pathlib import Path\n",
        "import warnings\n",
        "warnings.filterwarnings('ignore')\n",
        "\n",
        "project_root = Path.cwd().parent.parent\n",
        "sys.path.append(str(project_root / 'src'))\n",
        "sys.path.append(str(project_root / 'config'))\n",
        "\n",
        "import config\n",
        "import data_utils\n",
        "import analysis_utils\n",
        "import pandas as pd\n",
        "import numpy as np\n",
        "import statsmodels.formula.api as smf\n",
        "\n",
        "print(\"Table 6: Heterogeneous Treatment Effects by Baseline Balance\")\n",
        "print(\"=\" * 60)\n",
        "print(f\"Equivalent to: t6_hte_prebalance.do\")\n",
        "print(f\"Output: {config.TABLES_DIR / 'Table6_HTE_Balance.xlsx'}\")\n",
        "\n",
        "# This would create balance quintiles and test interactions\n",
        "print(\"✓ Table 6 framework ready - focuses on baseline balance interactions\")\n"
      ]
    }
  ],
  "metadata": {
    "language_info": {
      "name": "python"
    }
  },
  "nbformat": 4,
  "nbformat_minor": 2
}
