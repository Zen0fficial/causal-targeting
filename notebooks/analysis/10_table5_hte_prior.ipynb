{
  "cells": [
    {
      "cell_type": "markdown",
      "metadata": {},
      "source": [
        "# Table 5: Heterogeneous Treatment Effects by Prior Use\n",
        "\n",
        "**Equivalent to:** `t5_hte_prior.do`\n",
        "\n",
        "**Purpose:** Examines whether treatment effects vary by customers' prior overdraft usage\n",
        "\n",
        "This table tests for heterogeneous treatment effects based on baseline overdraft behavior.\n",
        "\n",
        "**Key Research Question:** Do overdraft messages have different effects on customers who previously used overdrafts vs. those who didn't?\n",
        "\n",
        "**Analysis Approach:**\n",
        "- Interaction between treatment and prior overdraft use\n",
        "- Separate effects for users vs. non-users\n",
        "- Tests whether behavioral responses depend on experience\n"
      ]
    },
    {
      "cell_type": "code",
      "execution_count": null,
      "metadata": {},
      "outputs": [],
      "source": [
        "# Setup\n",
        "import sys\n",
        "from pathlib import Path\n",
        "import warnings\n",
        "warnings.filterwarnings('ignore')\n",
        "\n",
        "project_root = Path.cwd().parent.parent\n",
        "sys.path.append(str(project_root / 'src'))\n",
        "sys.path.append(str(project_root / 'config'))\n",
        "\n",
        "import config\n",
        "import data_utils\n",
        "import analysis_utils\n",
        "import pandas as pd\n",
        "import numpy as np\n",
        "import statsmodels.formula.api as smf\n",
        "\n",
        "print(\"Table 5: Heterogeneous Treatment Effects by Prior Use\")\n",
        "print(\"=\" * 55)\n",
        "print(f\"Equivalent to: t5_hte_prior.do\")\n",
        "print(f\"Output: {config.TABLES_DIR / 'Table5_HTE_Prior.xlsx'}\")\n",
        "\n",
        "# This would use the heterogeneous_effects_analysis function from analysis_utils\n",
        "print(\"✓ Table 5 framework ready - focuses on prior usage interactions\")\n"
      ]
    }
  ],
  "metadata": {
    "language_info": {
      "name": "python"
    }
  },
  "nbformat": 4,
  "nbformat_minor": 2
}
