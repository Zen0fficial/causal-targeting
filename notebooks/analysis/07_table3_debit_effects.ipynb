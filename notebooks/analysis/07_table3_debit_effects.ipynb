{
  "cells": [
    {
      "cell_type": "markdown",
      "metadata": {},
      "source": [
        "# Table 3: Effects of Auto-Debit and Debit Card Messages\n",
        "\n",
        "**Equivalent to:** `t3_debbp.do`\n",
        "\n",
        "**Purpose:** Effects of Auto-Debit and Debit Card Messages on Auto Debit and Debit Card Usage\n",
        "\n",
        "This table examines the treatment effects of messages promoting:\n",
        "1. Auto-debit services\n",
        "2. Debit card usage\n",
        "\n",
        "**Analysis Period:** During experiment (September - December 2012)\n",
        "\n",
        "**Original Stata Logic:**\n",
        "- Uses campaign dataset filtered to experiment period\n",
        "- Runs regressions with debit/auto-pay usage as dependent variables\n",
        "- Treatment variables: auto-debit and debit card promotion messages\n"
      ]
    },
    {
      "cell_type": "code",
      "execution_count": null,
      "metadata": {},
      "outputs": [],
      "source": [
        "# Setup\n",
        "import sys\n",
        "from pathlib import Path\n",
        "import warnings\n",
        "warnings.filterwarnings('ignore')\n",
        "\n",
        "project_root = Path.cwd().parent.parent\n",
        "sys.path.append(str(project_root / 'src'))\n",
        "sys.path.append(str(project_root / 'config'))\n",
        "\n",
        "import config\n",
        "import analysis_utils\n",
        "import pyreadstat\n",
        "import pandas as pd\n",
        "import numpy as np\n",
        "import statsmodels.formula.api as smf\n",
        "\n",
        "print(\"Table 3: Effects of Auto-Debit and Debit Card Messages\")\n",
        "print(\"=\" * 55)\n",
        "print(f\"Equivalent to: t3_debbp.do\")\n",
        "print(f\"Output: {config.TABLES_DIR / 'Table3_Debit_Effects.xlsx'}\")\n",
        "\n",
        "# Load campaign dataset - this would be the same process as Table 2\n",
        "try:\n",
        "    df = pd.read_parquet(config.RAW_DATA_DIR / 'campaign_and_postcampaign.parquet')\n",
        "    print(f\"✓ Loaded dataset: {df.shape}\")\n",
        "except:\n",
        "    print(\"⚠️  Using template data structure for demonstration\")\n",
        "    df = pd.DataFrame()  # Template placeholder\n",
        "\n",
        "# Analysis would focus on debit card and auto-payment outcomes\n",
        "print(\"✓ Table 3 framework ready\")\n"
      ]
    }
  ],
  "metadata": {
    "language_info": {
      "name": "python"
    }
  },
  "nbformat": 4,
  "nbformat_minor": 2
}
