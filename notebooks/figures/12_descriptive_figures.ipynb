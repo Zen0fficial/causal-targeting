{
  "cells": [
    {
      "cell_type": "markdown",
      "metadata": {},
      "source": [
        "# Descriptive Figures\n",
        "\n",
        "**Equivalent to:** `Describe_Control.do`\n",
        "\n",
        "**Purpose:** Creates descriptive figures showing overdraft usage patterns\n",
        "\n",
        "This notebook generates key descriptive figures:\n",
        "\n",
        "- **Figure 2a:** Average Overdraft Amount Used Over Time\n",
        "- **Figure 2b:** Overdraft Usage Rates Over Time\n",
        "\n",
        "**Analysis Approach:**\n",
        "- Uses control group data to show baseline patterns\n",
        "- Time series plots showing seasonal and trend patterns\n",
        "- Provides context for understanding treatment effects\n"
      ]
    },
    {
      "cell_type": "code",
      "execution_count": null,
      "metadata": {},
      "outputs": [],
      "source": [
        "# Setup\n",
        "import sys\n",
        "from pathlib import Path\n",
        "import warnings\n",
        "warnings.filterwarnings('ignore')\n",
        "\n",
        "project_root = Path.cwd().parent.parent\n",
        "sys.path.append(str(project_root / 'src'))\n",
        "sys.path.append(str(project_root / 'config'))\n",
        "\n",
        "import config\n",
        "import data_utils\n",
        "import pandas as pd\n",
        "import numpy as np\n",
        "import matplotlib.pyplot as plt\n",
        "import seaborn as sns\n",
        "\n",
        "print(\"Descriptive Figures\")\n",
        "print(\"=\" * 20)\n",
        "print(\"Creating Figure 2a: Average Overdraft Amount Used Over Time\")\n",
        "print(\"Creating Figure 2b: Overdraft Usage Rates Over Time\")\n",
        "\n",
        "# Set plotting style\n",
        "plt.style.use('seaborn-v0_8')\n",
        "sns.set_palette(\"husl\")\n",
        "\n",
        "# Figure output settings\n",
        "fig_format = 'png'\n",
        "dpi = 300\n",
        "figsize = (12, 8)\n",
        "\n",
        "print(f\"✓ Figure settings: {fig_format}, {dpi} DPI, {figsize} size\")\n",
        "print(f\"✓ Output directory: {config.FIGURES_DIR}\")\n",
        "print(\"✓ Descriptive figures framework ready\")\n"
      ]
    }
  ],
  "metadata": {
    "language_info": {
      "name": "python"
    }
  },
  "nbformat": 4,
  "nbformat_minor": 2
}
