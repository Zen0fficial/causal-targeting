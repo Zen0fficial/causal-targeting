{
  "cells": [
    {
      "cell_type": "markdown",
      "metadata": {},
      "source": [
        "# Appendix Figures\n",
        "\n",
        "**Purpose:** Creates supplementary figures for the appendix\n",
        "\n",
        "This notebook generates additional figures referenced in the analysis:\n",
        "\n",
        "- **Appendix Figure 1a:** Distribution of Effect of Overdraft Mention\n",
        "- **Appendix Figure 1b:** Distribution of Effect of Interest Discount  \n",
        "- **Figure 3a:** Effect of Overdraft Availability Message, Post-Experiment\n",
        "- **Figure 3b:** Effect of Overdraft Interest Discount, Post-Experiment\n",
        "\n",
        "**Analysis Approach:**\n",
        "- Distribution plots for heterogeneity analysis\n",
        "- Time series plots for post-experiment effects\n",
        "- Robustness and sensitivity analysis figures\n"
      ]
    },
    {
      "cell_type": "code",
      "execution_count": null,
      "metadata": {},
      "outputs": [],
      "source": [
        "# Setup\n",
        "import sys\n",
        "from pathlib import Path\n",
        "import warnings\n",
        "warnings.filterwarnings('ignore')\n",
        "\n",
        "project_root = Path.cwd().parent.parent\n",
        "sys.path.append(str(project_root / 'src'))\n",
        "sys.path.append(str(project_root / 'config'))\n",
        "\n",
        "import config\n",
        "import data_utils\n",
        "import pandas as pd\n",
        "import numpy as np\n",
        "import matplotlib.pyplot as plt\n",
        "import seaborn as sns\n",
        "from scipy import stats\n",
        "\n",
        "print(\"Appendix Figures\")\n",
        "print(\"=\" * 17)\n",
        "\n",
        "appendix_figures = {\n",
        "    'AppendixFig1a_Overdraft_Distribution': 'Distribution of Overdraft Mention Effects',\n",
        "    'AppendixFig1b_Discount_Distribution': 'Distribution of Interest Discount Effects',\n",
        "    'Figure3a_PostExp_Availability': 'Post-Experiment Overdraft Availability Effects',\n",
        "    'Figure3b_PostExp_Discount': 'Post-Experiment Interest Discount Effects'\n",
        "}\n",
        "\n",
        "for fig_id, description in appendix_figures.items():\n",
        "    print(f\"✓ {fig_id}: {description}\")\n",
        "\n",
        "# Advanced plotting capabilities\n",
        "plt.style.use('seaborn-v0_8')\n",
        "print(f\"\\n✓ Output directory: {config.FIGURES_DIR}\")\n",
        "print(\"✓ Appendix figures framework ready\")\n"
      ]
    }
  ],
  "metadata": {
    "language_info": {
      "name": "python"
    }
  },
  "nbformat": 4,
  "nbformat_minor": 2
}
