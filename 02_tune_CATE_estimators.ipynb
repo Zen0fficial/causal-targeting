{
 "cells": [
  {
   "cell_type": "markdown",
   "metadata": {},
   "source": [
    "# 02 Tune CATE estimators\n",
    "\n",
    "In this notebook, we will tune the hyperparemeters for our CATE methods."
   ]
  },
  {
   "cell_type": "markdown",
   "metadata": {},
   "source": [
    "### Contents:\n",
    "1. Description of estimator library  \n",
    "2. Setting up  \n",
    "3. Actual tuning"
   ]
  },
  {
   "cell_type": "markdown",
   "metadata": {},
   "source": [
    "## 1. Description of estimator library"
   ]
  },
  {
   "cell_type": "markdown",
   "metadata": {},
   "source": [
    "We will consider the following estimators:\n",
    "\n",
    "1. S-learner:  \n",
    "A. RF  \n",
    "B. XGB\n",
    "2. T-learner:  \n",
    "A. Lasso  \n",
    "B. logistic  \n",
    "C. RF  \n",
    "D. XGB\n",
    "3. X-learner:  \n",
    "A. Outcome_learner: lasso, effect_learner: lasso  \n",
    "B. Outcome_learner: logistic, effect_learner: lasso  \n",
    "C. Outcome_learner: RF, effect_learner: lasso  \n",
    "D. Outcome_learner: XGB, effect_learner: lasso\n",
    "4. R-learner:  \n",
    "A. Outcome_learner: lasso, effect_learner: lasso  \n",
    "B. Outcome_learner: lasso, effect_learner: XGB  \n",
    "C. Outcome_learner: RF, effect_learner: lasso  \n",
    "E. Outcome_learner: RF, effect_learner: RF\n",
    "\n",
    "R-learner base learner types were chosen independently at random from {lasso, RF, XGB}"
   ]
  },
  {
   "cell_type": "markdown",
   "metadata": {},
   "source": [
    "We will tune the models for the 4 outcomes: GI, cardio, hypertension, severe GI, without perturbations."
   ]
  },
  {
   "cell_type": "markdown",
   "metadata": {},
   "source": [
    "## 2. Setting up"
   ]
  },
  {
   "cell_type": "code",
   "execution_count": 1,
   "metadata": {},
   "outputs": [
    {
     "name": "stderr",
     "output_type": "stream",
     "text": [
      "Failed to import duecredit due to No module named 'duecredit'\n"
     ]
    }
   ],
   "source": [
    "# Standard imports\n",
    "import numpy as np\n",
    "import pandas as pd\n",
    "import sys\n",
    "import copy\n",
    "import random\n",
    "import joblib\n",
    "import pickle\n",
    "\n",
    "# Import sklearn methods\n",
    "from xgboost import XGBRegressor\n",
    "from sklearn.ensemble import RandomForestRegressor\n",
    "from sklearn.linear_model import Lasso, LogisticRegression\n",
    "from sklearn.model_selection import StratifiedKFold\n",
    "\n",
    "# Import own methods\n",
    "from methods.cate_estimator_validation import make_estimator_library"
   ]
  },
  {
   "cell_type": "code",
   "execution_count": 2,
   "metadata": {},
   "outputs": [],
   "source": [
    "# Cap BLAS/OpenMP threads to avoid oversubscription with parallel CV\n",
    "import os\n",
    "os.environ[\"OMP_NUM_THREADS\"] = \"1\"\n",
    "os.environ[\"MKL_NUM_THREADS\"] = \"1\"\n",
    "os.environ[\"OPENBLAS_NUM_THREADS\"] = \"1\"\n"
   ]
  },
  {
   "cell_type": "code",
   "execution_count": 3,
   "metadata": {},
   "outputs": [
    {
     "name": "stdout",
     "output_type": "stream",
     "text": [
      "Loaded analysis dataset: 108000 rows, 519 columns\n",
      "Processed dataset: 36020 rows\n",
      "Detected treatment_var='message_fa'\n",
      "Propensity score is 0.4990838423098279\n",
      "Feature matrix: 330 columns\n",
      "Outcomes to tune: ['fausebal']\n"
     ]
    }
   ],
   "source": [
    "# Load pre-saved analysis dataset from Analysis.ipynb\n",
    "import pandas as pd\n",
    "import numpy as np\n",
    "from pathlib import Path\n",
    "\n",
    "ANALYSIS_CSV = Path(\"data/analysis/analysis_df.csv\")\n",
    "if not ANALYSIS_CSV.exists():\n",
    "    raise FileNotFoundError(f\"Expected CSV not found at {ANALYSIS_CSV}. Run Analysis.ipynb to generate it.\")\n",
    "\n",
    "trainval_df = pd.read_csv(ANALYSIS_CSV)\n",
    "print(f\"Loaded analysis dataset: {trainval_df.shape[0]} rows, {trainval_df.shape[1]} columns\")\n",
    "\n",
    "# Filter to units with message == 1 and drop 'message' column\n",
    "if \"message\" in trainval_df.columns:\n",
    "    trainval_df = trainval_df.loc[(trainval_df[\"message\"] == 1) & (trainval_df[\"billpayfa\"] == 0) & (trainval_df[\"debitfa\"] == 0)].copy()\n",
    "\n",
    "# Define outcomes available in this dataset\n",
    "outcomes = [\"fausebal\"]\n",
    "\n",
    "# Choose treatment variable (do not include auxiliary 'message' as a feature)\n",
    "treatment_var = \"message_fa\"\n",
    "\n",
    "# Build a comprehensive feature set:\n",
    "strat_vars = [c for c in trainval_df.columns if c.startswith(\"strat_\")]\n",
    "\n",
    "# low-cardinality categoricals (exclude outcomes/treatment/id and obvious non-features like 'group')\n",
    "cat_candidates = ['reminder_freq', 'reminder_infreq', 'camp_short', 'htefa', 'htebal', 'message']\n",
    "\n",
    "# Build missing indicators ONLY for categorical candidates that actually contain NaNs\n",
    "available_cats = [c for c in cat_candidates if c in trainval_df.columns]\n",
    "_cat_df = trainval_df[available_cats].copy()\n",
    "missing_cats = [c for c in available_cats if _cat_df[c].isna().any()]\n",
    "if missing_cats:\n",
    "    cat_missing_indicators = _cat_df[missing_cats].isna().astype(int)\n",
    "    cat_missing_indicators.columns = [f\"{c}_missing\" for c in missing_cats]\n",
    "else:\n",
    "    cat_missing_indicators = pd.DataFrame(index=_cat_df.index)\n",
    "\n",
    "# Sentinel fill before concatenation\n",
    "_cat_df = _cat_df.fillna(0)\n",
    "cat_dummies = pd.concat([_cat_df, cat_missing_indicators], axis=1)\n",
    "\n",
    "# assemble design matrix (avoid duplicates)\n",
    "numeric_vars = [c for c in [\"assets\", \"deposits\", \"paymentmean\", \"debt\", \"minbal\", \"creditcard\"] if c in trainval_df.columns]\n",
    "X_numeric = trainval_df[numeric_vars].copy()\n",
    "\n",
    "# Create missing indicators for numeric variables (no binning)\n",
    "num_missing_cols = [c for c in X_numeric.columns if X_numeric[c].isna().any()]\n",
    "if num_missing_cols:\n",
    "    num_missing_indicators = X_numeric[num_missing_cols].isna().astype(int)\n",
    "    num_missing_indicators.columns = [f\"{c}_missing\" for c in num_missing_cols]\n",
    "else:\n",
    "    num_missing_indicators = pd.DataFrame(index=trainval_df.index)\n",
    "\n",
    "# Simple imputation for numerics after adding indicators\n",
    "X_numeric = X_numeric.apply(pd.to_numeric, errors='coerce').fillna(0)\n",
    "\n",
    "X_strat = trainval_df[strat_vars].copy()\n",
    "\n",
    "# Keep continuous numerics and add missing indicators\n",
    "X_design = pd.concat([X_strat, cat_dummies, num_missing_indicators, X_numeric], axis=1)\n",
    "X_design = X_design.loc[:, ~X_design.columns.duplicated()].copy()\n",
    "\n",
    "# Track full feature set\n",
    "features = list(X_design.columns)\n",
    "\n",
    "# Filter \n",
    "full_df = pd.concat([X_design, trainval_df[[treatment_var] + outcomes]], axis=1)\n",
    "\n",
    "print(f\"Processed dataset: {full_df.shape[0]} rows\")\n",
    "print(f\"Detected treatment_var='{treatment_var}'\")\n",
    "print(f\"Propensity score is {full_df[treatment_var].mean()}\")\n",
    "print(f\"Feature matrix: {X_design.shape[1]} columns\")\n",
    "print(f\"Outcomes to tune: {outcomes}\")\n"
   ]
  },
  {
   "cell_type": "markdown",
   "metadata": {},
   "source": [
    "### Hold out\n",
    "Randomly sample 20% from each treatment group to form a holdout set. Remaining 80% is used for model building and tuning."
   ]
  },
  {
   "cell_type": "code",
   "execution_count": 4,
   "metadata": {},
   "outputs": [
    {
     "name": "stdout",
     "output_type": "stream",
     "text": [
      "{'n_total': 36020, 'n_holdout': 7204, 'n_build': 28816, 'holdout_treated_share': 0.4990283176013326, 'build_treated_share': 0.4990977234869517}\n"
     ]
    }
   ],
   "source": [
    "# Build a stratified 20% holdout set by treatment\n",
    "from sklearn.model_selection import StratifiedShuffleSplit\n",
    "\n",
    "# Ensure target columns exist\n",
    "assert treatment_var in full_df.columns\n",
    "\n",
    "splitter = StratifiedShuffleSplit(n_splits=1, test_size=0.2, random_state=405)\n",
    "mask = np.ones(len(full_df), dtype=bool)\n",
    "for holdout_idx, build_idx in splitter.split(full_df, full_df[treatment_var].values):\n",
    "    mask[holdout_idx] = False\n",
    "\n",
    "full_df[\"is_holdout\"] = mask\n",
    "holdout_df = full_df.loc[full_df[\"is_holdout\"]].copy()\n",
    "model_df = full_df.loc[~full_df[\"is_holdout\"]].copy()\n",
    "\n",
    "print({\n",
    "    \"n_total\": int(len(full_df)),\n",
    "    \"n_holdout\": int(len(holdout_df)),\n",
    "    \"n_build\": int(len(model_df)),\n",
    "    \"holdout_treated_share\": float(holdout_df[treatment_var].mean()),\n",
    "    \"build_treated_share\": float(model_df[treatment_var].mean()),\n",
    "})"
   ]
  },
  {
   "cell_type": "markdown",
   "metadata": {},
   "source": [
    "### 2.3. Feature selection\n",
    "We select features on the entire sample by fitting:\n",
    "- Lasso models for the outcome y ~ X|t=1 and y ~ X|t=0, and\n",
    "- rank features by absolute coefficients.\n"
   ]
  },
  {
   "cell_type": "code",
   "execution_count": 5,
   "metadata": {},
   "outputs": [
    {
     "name": "stdout",
     "output_type": "stream",
     "text": [
      "{'merged_count': 15}\n",
      "✓ Updated dataset -> output\\analysis\\fausebal\\trainval_data.csv\n"
     ]
    }
   ],
   "source": [
    "# Merge top-10 covariates from treated and control groups, update dataset\n",
    "import numpy as np\n",
    "import pandas as pd\n",
    "from sklearn.linear_model import LassoCV\n",
    "from sklearn.preprocessing import StandardScaler\n",
    "from sklearn.pipeline import make_pipeline\n",
    "from pathlib import Path\n",
    "import pickle\n",
    "\n",
    "rv = outcomes[0]\n",
    "\n",
    "# Ensure 'TREATED' exists\n",
    "if 'TREATED' not in model_df.columns and treatment_var in model_df.columns:\n",
    "    model_df = model_df.rename(columns={treatment_var: 'TREATED'})\n",
    "\n",
    "cols_needed = [c for c in features] + ['TREATED', rv]\n",
    "df_subset = model_df.dropna(subset=[rv]).loc[:, cols_needed].copy()\n",
    "X_df = df_subset[features].copy().apply(pd.to_numeric, errors='coerce').fillna(0.0)\n",
    "y = df_subset[rv].values.astype(float)\n",
    "t = df_subset['TREATED'].values.astype(int)\n",
    "\n",
    "mask_t = (t == 1)\n",
    "mask_c = (t == 0)\n",
    "\n",
    "mk_lasso = lambda: make_pipeline(StandardScaler(with_mean=True, with_std=True), LassoCV(cv=5, random_state=405, max_iter=5000))\n",
    "\n",
    "lasso_treated = mk_lasso(); lasso_treated.fit(X_df.values[mask_t], y[mask_t])\n",
    "lasso_control = mk_lasso(); lasso_control.fit(X_df.values[mask_c], y[mask_c])\n",
    "\n",
    "coef_treated = np.abs(lasso_treated.named_steps['lassocv'].coef_.ravel())\n",
    "coef_control = np.abs(lasso_control.named_steps['lassocv'].coef_.ravel())\n",
    "\n",
    "df_treated = pd.DataFrame({'feature': features, 'value': coef_treated})\n",
    "df_control = pd.DataFrame({'feature': features, 'value': coef_control})\n",
    "\n",
    "# Top-10 by absolute coefficient per group\n",
    "top10_treated = df_treated.nlargest(10, 'value')['feature'].tolist()\n",
    "top10_control = df_control.nlargest(10, 'value')['feature'].tolist()\n",
    "merged = set(top10_treated) | set(top10_control)\n",
    "\n",
    "# Preserve original feature order\n",
    "selected_features = [c for c in features if c in merged]\n",
    "print({'merged_count': len(selected_features)})\n",
    "\n",
    "# Update in-memory features and model_df\n",
    "if len(selected_features) > 0:\n",
    "    features = selected_features\n",
    "\n",
    "static_cols = [c for c in ['TREATED'] + outcomes if c in model_df.columns]\n",
    "model_df = pd.concat([model_df[features], model_df[static_cols]], axis=1)\n",
    "\n",
    "# Persist with same filenames for downstream tuning\n",
    "OUTPUT_ANALYSIS_DIR = Path(f\"output/analysis/{rv}\")\n",
    "OUTPUT_PARAMS_DIR = Path(f\"output/params/{rv}\")\n",
    "OUTPUT_ANALYSIS_DIR.mkdir(parents=True, exist_ok=True)\n",
    "OUTPUT_PARAMS_DIR.mkdir(parents=True, exist_ok=True)\n",
    "MODEL_CSV = OUTPUT_ANALYSIS_DIR / \"trainval_data.csv\"\n",
    "MODEL_CSV_META = OUTPUT_PARAMS_DIR / \"analysis_imputation_meta.pkl\"\n",
    "\n",
    "meta = {\"features\": features, \"treatment_var\": 'TREATED', \"outcomes\": outcomes}\n",
    "with open(MODEL_CSV_META, 'wb') as f:\n",
    "    pickle.dump(meta, f)\n",
    "model_df.to_csv(MODEL_CSV, index=False)\n",
    "print(f\"✓ Updated dataset -> {MODEL_CSV}\")\n"
   ]
  },
  {
   "cell_type": "code",
   "execution_count": 6,
   "metadata": {},
   "outputs": [
    {
     "data": {
      "image/png": "[encoded data removed]",
      "text/plain": [
       "<Figure size 1600x800 with 2 Axes>"
      ]
     },
     "metadata": {},
     "output_type": "display_data"
    }
   ],
   "source": [
    "# Separate Lasso plots for treated vs control\n",
    "import numpy as np\n",
    "import pandas as pd\n",
    "import matplotlib.pyplot as plt\n",
    "import seaborn as sns\n",
    "from sklearn.linear_model import LassoCV\n",
    "from sklearn.preprocessing import StandardScaler\n",
    "from sklearn.pipeline import make_pipeline\n",
    "\n",
    "rv = outcomes[0]\n",
    "\n",
    "# Ensure 'TREATED' exists\n",
    "if 'TREATED' not in model_df.columns and treatment_var in model_df.columns:\n",
    "    model_df = model_df.rename(columns={treatment_var: 'TREATED'})\n",
    "\n",
    "cols_needed = [c for c in features] + ['TREATED', rv]\n",
    "df_subset = model_df.dropna(subset=[rv]).loc[:, cols_needed].copy()\n",
    "X_df = df_subset[features].copy().apply(pd.to_numeric, errors='coerce').fillna(0.0)\n",
    "y = df_subset[rv].values.astype(float)\n",
    "t = df_subset['TREATED'].values.astype(int)\n",
    "\n",
    "mask_t = (t == 1)\n",
    "mask_c = (t == 0)\n",
    "\n",
    "# Pipelines\n",
    "mk_lasso = lambda: make_pipeline(StandardScaler(with_mean=True, with_std=True), LassoCV(cv=5, random_state=405, max_iter=5000))\n",
    "\n",
    "lasso_treated = mk_lasso()\n",
    "lasso_control = mk_lasso()\n",
    "\n",
    "lasso_treated.fit(X_df.values[mask_t], y[mask_t])\n",
    "lasso_control.fit(X_df.values[mask_c], y[mask_c])\n",
    "\n",
    "coef_treated = np.abs(lasso_treated.named_steps['lassocv'].coef_.ravel())\n",
    "coef_control = np.abs(lasso_control.named_steps['lassocv'].coef_.ravel())\n",
    "\n",
    "df_treated = pd.DataFrame({'feature': features, 'value': coef_treated})\n",
    "df_control = pd.DataFrame({'feature': features, 'value': coef_control})\n",
    "\n",
    "k = 10\n",
    "plot_treated = df_treated.nlargest(k, 'value').copy()\n",
    "plot_control = df_control.nlargest(k, 'value').copy()\n",
    "\n",
    "plt.figure(figsize=(16, 8))\n",
    "plt.suptitle('Whole-sample |Lasso coef| by group')\n",
    "\n",
    "ax1 = plt.subplot(1, 2, 1)\n",
    "sns.barplot(data=plot_treated, y='feature', x='value', orient='h', alpha=0.9, color='#4c78a8', ax=ax1)\n",
    "ax1.set_title('Treated')\n",
    "ax1.set_ylabel('')\n",
    "\n",
    "ax2 = plt.subplot(1, 2, 2)\n",
    "sns.barplot(data=plot_control, y='feature', x='value', orient='h', alpha=0.9, color='#f58518', ax=ax2)\n",
    "ax2.set_title('Control')\n",
    "ax2.set_ylabel('')\n",
    "\n",
    "xmax = float(max(\n",
    "    plot_treated['value'].max() if len(plot_treated) else 0.0,\n",
    "    plot_control['value'].max() if len(plot_control) else 0.0\n",
    "))\n",
    "ax1.set_xlim(0, xmax)\n",
    "ax2.set_xlim(0, xmax)\n",
    "\n",
    "plt.tight_layout(rect=(0, 0.03, 1, 0.95))\n",
    "plt.show()\n"
   ]
  },
  {
   "cell_type": "markdown",
   "metadata": {},
   "source": [
    "### 2.2. Defining parameter grids and base learners"
   ]
  },
  {
   "cell_type": "code",
   "execution_count": 7,
   "metadata": {},
   "outputs": [],
   "source": [
    "cv = StratifiedKFold(n_splits = 4, shuffle = True, random_state = 405)\n",
    "lasso_grid = {\"alpha\" : np.logspace(-5,5,500) }\n",
    "logistic_grid = {\"penalty\" : [\"l1\", \"l2\"], \n",
    "                 \"C\" : np.logspace(-5,5,500)}\n",
    "rf_grid = {'min_samples_leaf': [50,100,200,300,400,500],\n",
    "           'max_depth': [3,4,5,6,7,8],\n",
    "           'bootstrap': [False, True],\n",
    "           'n_estimators': [100,200,300,400,500]}\n",
    "xgb_grid = {'max_depth': [5,6,7,8,9,10,11,12],\n",
    "            'gamma': [0, 0.1, 0.2, 0.3, 0.4],\n",
    "            'subsample': [0.7, 0.75, 0.8,1],\n",
    "            'reg_lambda': [100,150,200,250, 300, 350, 400],\n",
    "            'n_estimators': [200, 300, 400, 500, 600, 700, 800, 900, 1000],\n",
    "            'min_child_weight': [4,5,6,7,8,9,10],\n",
    "            'learning_rate': [0.1,0.125,0.15,0.175,0.2,0.225,0.25]}\n",
    "\n",
    "base_learners = {\"lasso\" : Lasso(),\n",
    "                 \"logistic\" : LogisticRegression(solver = \"liblinear\", \n",
    "                                                 max_iter = 500),\n",
    "                 \"rf\" : RandomForestRegressor(),\n",
    "                 \"xgb\" : XGBRegressor(objective = \"reg:squarederror\", n_jobs=1, tree_method=\"hist\")}\n",
    "param_grids = {\"lasso\" : lasso_grid,\n",
    "               \"logistic\" : logistic_grid,\n",
    "               \"rf\" : rf_grid,\n",
    "               \"xgb\" : xgb_grid}"
   ]
  },
  {
   "cell_type": "markdown",
   "metadata": {},
   "source": [
    "## 3. Actual tuning"
   ]
  },
  {
   "cell_type": "code",
   "execution_count": null,
   "metadata": {},
   "outputs": [
    {
     "name": "stdout",
     "output_type": "stream",
     "text": [
      "=== Getting results for fausebal ===\n",
      "Tuning s_xgb\n",
      "Tuning s_rf\n",
      "Tuning t_lasso\n",
      "Tuning t_logistic\n",
      "Tuning t_rf\n",
      "Tuning t_xgb\n",
      "Tuning x_lasso\n",
      "Tuning x_logistic\n",
      "Tuning x_rf\n",
      "Tuning x_xgb\n",
      "Tuning r_lassolasso\n",
      "Tuning r_lassoxgb\n",
      "Tuning r_lassorf\n",
      "Tuning r_rflasso\n",
      "Tuning r_rfrf\n",
      "Tuning r_rfxgb\n",
      "Tuning r_xgblasso\n",
      "Tuning r_xgbrf\n",
      "Tuning r_xgbxgb\n"
     ]
    },
    {
     "ename": "NameError",
     "evalue": "name 'outcome' is not defined",
     "output_type": "error",
     "traceback": [
      "\u001b[31m---------------------------------------------------------------------------\u001b[39m",
      "\u001b[31mNameError\u001b[39m                                 Traceback (most recent call last)",
      "\u001b[36mCell\u001b[39m\u001b[36m \u001b[39m\u001b[32mIn[8]\u001b[39m\u001b[32m, line 18\u001b[39m\n\u001b[32m     16\u001b[39m     tuned[est_name] = est.get_params()\n\u001b[32m     17\u001b[39m os.makedirs(\u001b[33m\"\u001b[39m\u001b[33moutput/params\u001b[39m\u001b[33m\"\u001b[39m, exist_ok=\u001b[38;5;28;01mTrue\u001b[39;00m)\n\u001b[32m---> \u001b[39m\u001b[32m18\u001b[39m joblib.dump(tuned, \u001b[33mf\u001b[39m\u001b[33m\"\u001b[39m\u001b[33moutput/params/\u001b[39m\u001b[38;5;132;01m{\u001b[39;00m\u001b[43moutcome\u001b[49m\u001b[38;5;132;01m}\u001b[39;00m\u001b[33m/\u001b[39m\u001b[38;5;132;01m{\u001b[39;00mrv\u001b[38;5;132;01m}\u001b[39;00m\u001b[33m_tuned_params.pkl\u001b[39m\u001b[33m\"\u001b[39m)\n",
      "\u001b[31mNameError\u001b[39m: name 'outcome' is not defined"
     ]
    }
   ],
   "source": [
    "import os\n",
    "from methods.cate_estimator_validation import (\n",
    "    make_estimator_library,\n",
    "    _get_cv_for_base,\n",
    "    _get_cv_for_perturbation,\n",
    ")\n",
    "\n",
    "# Restrict to model_df (non-holdout) and 'TREATED' column\n",
    "for rv in outcomes:\n",
    "    print(\"=== Getting results for \" + rv + \" ===\")\n",
    "    cols_needed = [c for c in features] + [\"TREATED\", rv]\n",
    "    df_subset = model_df.dropna(subset=[rv]).loc[:, cols_needed].copy()\n",
    "    # Subsample 10% stratified by treatment for faster tuning\n",
    "    # df_subset = df_subset.groupby(\"TREATED\", group_keys=False).apply(lambda g: g.sample(frac=0.1, random_state=405))\n",
    "    from methods.data_processing import separate_vars as _separate\n",
    "    X, t, y = _separate(df_subset, rv, \"TREATED\")\n",
    "\n",
    "    # Base split (seed=405) using same n_splits as cv\n",
    "    n_splits_eff = getattr(cv, 'n_splits', 4)\n",
    "    cv_base = _get_cv_for_base(n_splits_eff)\n",
    "    res_base = make_estimator_library(X, t, y, cv_base, base_learners, param_grids, n_iter=200)\n",
    "\n",
    "    # Collect tuned params for base\n",
    "    tuned = {est_name: est.get_params() for est_name, est in res_base.items()}\n",
    "\n",
    "    # Also tune for two additional CV splits with consistent seeds\n",
    "    per_split_tuned = {\"pert_none\": tuned}\n",
    "    for i in range(2):\n",
    "        cv_i = _get_cv_for_perturbation(i, n_splits_eff)\n",
    "        res_i = make_estimator_library(X, t, y, cv_i, base_learners, param_grids, n_iter=200)\n",
    "        per_split_tuned[f\"pert_cv_{i}\"] = {name: est.get_params() for name, est in res_i.items()}\n",
    "\n",
    "    # Merge single tuned into per-split under a canonical key consumed by 03a\n",
    "    per_split_tuned[\"base\"] = tuned\n",
    "\n",
    "    # Save outputs: store ALL params under tuned_params.pkl for reuse\n",
    "    from pathlib import Path\n",
    "    os.makedirs(f\"output/params/{rv}\", exist_ok=True)\n",
    "    joblib.dump(per_split_tuned, f\"output/params/{rv}/{rv}_tuned_params.pkl\")\n",
    "    # Clean up legacy by-split artifact if present\n",
    "    by_split = Path(f\"output/params/{rv}/{rv}_tuned_params_by_split.pkl\")\n",
    "    if by_split.exists():\n",
    "        by_split.unlink()"
   ]
  }
 ],
 "metadata": {
  "kernelspec": {
   "display_name": "Python 3",
   "language": "python",
   "name": "python3"
  },
  "language_info": {
   "codemirror_mode": {
    "name": "ipython",
    "version": 3
   },
   "file_extension": ".py",
   "mimetype": "text/x-python",
   "name": "python",
   "nbconvert_exporter": "python",
   "pygments_lexer": "ipython3",
   "version": "3.9.6"
  }
 },
 "nbformat": 4,
 "nbformat_minor": 2
}
