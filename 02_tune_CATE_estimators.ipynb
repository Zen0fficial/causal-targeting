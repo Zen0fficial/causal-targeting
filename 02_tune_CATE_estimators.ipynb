{
 "cells": [
  {
   "cell_type": "markdown",
   "metadata": {},
   "source": [
    "# 02 Tune CATE estimators\n",
    "\n",
    "In this notebook, we will tune the hyperparemeters for our CATE methods."
   ]
  },
  {
   "cell_type": "markdown",
   "metadata": {},
   "source": [
    "### Contents:\n",
    "1. Description of estimator library  \n",
    "2. Setting up  \n",
    "3. Actual tuning"
   ]
  },
  {
   "cell_type": "markdown",
   "metadata": {},
   "source": [
    "## 1. Description of estimator library"
   ]
  },
  {
   "cell_type": "markdown",
   "metadata": {},
   "source": [
    "We will consider the following estimators:\n",
    "\n",
    "1. S-learner:  \n",
    "A. RF  \n",
    "B. XGB\n",
    "2. T-learner:  \n",
    "A. Lasso  \n",
    "B. logistic  \n",
    "C. RF  \n",
    "D. XGB\n",
    "3. X-learner:  \n",
    "A. Outcome_learner: lasso, effect_learner: lasso  \n",
    "B. Outcome_learner: logistic, effect_learner: lasso  \n",
    "C. Outcome_learner: RF, effect_learner: lasso  \n",
    "D. Outcome_learner: XGB, effect_learner: lasso\n",
    "4. R-learner:  \n",
    "A. Outcome_learner: lasso, effect_learner: lasso  \n",
    "B. Outcome_learner: lasso, effect_learner: XGB  \n",
    "C. Outcome_learner: RF, effect_learner: lasso  \n",
    "E. Outcome_learner: RF, effect_learner: RF\n",
    "\n",
    "R-learner base learner types were chosen independently at random from {lasso, RF, XGB}"
   ]
  },
  {
   "cell_type": "markdown",
   "metadata": {},
   "source": [
    "We will tune the models for the 4 outcomes: GI, cardio, hypertension, severe GI, without perturbations."
   ]
  },
  {
   "cell_type": "markdown",
   "metadata": {},
   "source": [
    "## 2. Setting up"
   ]
  },
  {
   "cell_type": "code",
   "execution_count": 1,
   "metadata": {},
   "outputs": [
    {
     "name": "stderr",
     "output_type": "stream",
     "text": [
      "Failed to import duecredit due to No module named 'duecredit'\n"
     ]
    }
   ],
   "source": [
    "# Standard imports\n",
    "import numpy as np\n",
    "import pandas as pd\n",
    "import sys\n",
    "import copy\n",
    "import random\n",
    "import joblib\n",
    "import pickle\n",
    "\n",
    "# Import sklearn methods\n",
    "from xgboost import XGBRegressor\n",
    "from sklearn.ensemble import RandomForestRegressor\n",
    "from sklearn.linear_model import Lasso, LogisticRegression\n",
    "from sklearn.model_selection import StratifiedKFold\n",
    "from joblib import Parallel, delayed\n",
    "\n",
    "# Import own methods\n",
    "from methods.data_processing import prepare_df, separate_vars\n",
    "from methods.cate_estimator_wrappers import (SLearnerWrapper, TLearnerWrapper,\n",
    "                                             XLearnerWrapper, RLearnerWrapper,\n",
    "                                             CausalTreeWrapper, CausalForestWrapper)\n",
    "from methods.cate_estimator_validation import make_estimator_library"
   ]
  },
  {
   "cell_type": "code",
   "execution_count": 2,
   "metadata": {},
   "outputs": [],
   "source": [
    "# Cap BLAS/OpenMP threads to avoid oversubscription with parallel CV\n",
    "import os\n",
    "os.environ[\"OMP_NUM_THREADS\"] = \"1\"\n",
    "os.environ[\"MKL_NUM_THREADS\"] = \"1\"\n",
    "os.environ[\"OPENBLAS_NUM_THREADS\"] = \"1\"\n"
   ]
  },
  {
   "cell_type": "code",
   "execution_count": 3,
   "metadata": {},
   "outputs": [
    {
     "name": "stdout",
     "output_type": "stream",
     "text": [
      "Loaded analysis dataset: 108000 rows, 519 columns\n",
      "Detected treatment_var='message_fa'\n",
      "Feature matrix: 321 columns\n",
      "Outcomes to tune: ['fausebal']\n"
     ]
    }
   ],
   "source": [
    "# Load pre-saved analysis dataset from Analysis.ipynb\n",
    "import pandas as pd\n",
    "import numpy as np\n",
    "from pathlib import Path\n",
    "\n",
    "ANALYSIS_CSV = Path(\"data/analysis/analysis_df.csv\")\n",
    "if not ANALYSIS_CSV.exists():\n",
    "    raise FileNotFoundError(f\"Expected CSV not found at {ANALYSIS_CSV}. Run Analysis.ipynb to generate it.\")\n",
    "\n",
    "trainval_df = pd.read_csv(ANALYSIS_CSV)\n",
    "print(f\"Loaded analysis dataset: {trainval_df.shape[0]} rows, {trainval_df.shape[1]} columns\")\n",
    "\n",
    "# Define outcomes available in this dataset\n",
    "outcomes = [\"fausebal\"]\n",
    "\n",
    "# Choose a binary treatment variable from known candidates if present\n",
    "candidate_treatments = [\"message\", \"awareness\", \"message_fa\", \"fa\", \"billpayfa\", \"debitfa\"]\n",
    "treatment_var = \"message_fa\"\n",
    "candidate_treatments.remove(treatment_var)\n",
    "\n",
    "# Build a comprehensive feature set:\n",
    "strat_vars = [c for c in trainval_df.columns if c.startswith(\"strat_\")]\n",
    "\n",
    "# low-cardinality categoricals (exclude outcomes/treatment/id and obvious non-features like 'group')\n",
    "# cat_candidates = ['reminder_freq', 'reminder_infreq', 'camp_short', 'htefa', 'htebal', 'awareness', 'creditcard']\n",
    "# low_card_cats = [c for c in cat_candidates if trainval_df[c].nunique(dropna=True) <= 50]\n",
    "# cat_dummies = pd.get_dummies(trainval_df[low_card_cats], drop_first=True, dummy_na=False) if low_card_cats else pd.DataFrame(index=trainval_df.index)\n",
    "\n",
    "# assemble design matrix (avoid duplicates)\n",
    "# X_numeric = trainval_df[[\"assets\", \"deposits\", \"paymentmean\", \"debt\", \"minbal\"]].copy()\n",
    "X_strat = trainval_df[strat_vars].copy()\n",
    "X_treat_res = trainval_df[candidate_treatments].copy()\n",
    "X_design = pd.concat([X_strat, X_treat_res], axis=1)\n",
    "X_design = X_design.loc[:, ~X_design.columns.duplicated()].copy()\n",
    "\n",
    "features = list(X_design.columns)\n",
    "model_df = pd.concat([X_design, trainval_df[[treatment_var] + outcomes]], axis=1)\n",
    "\n",
    "print(f\"Detected treatment_var='{treatment_var}'\")\n",
    "print(f\"Feature matrix: {X_design.shape[1]} columns\")\n",
    "print(f\"Outcomes to tune: {outcomes}\")\n"
   ]
  },
  {
   "cell_type": "code",
   "execution_count": 4,
   "metadata": {},
   "outputs": [
    {
     "name": "stdout",
     "output_type": "stream",
     "text": [
      "✓ Saved imputed dataset -> output\\analysis\\fausebal\\trainval_data.csv\n",
      "✓ Saved imputation metadata -> output\\params\\fausebal\\analysis_imputation_meta.pkl\n"
     ]
    }
   ],
   "source": [
    "# Save dataset and metadata for reuse; also export trainval_data.csv with 'TREATED'\n",
    "from pathlib import Path\n",
    "\n",
    "for outcome in outcomes:\n",
    "    # Paths\n",
    "    OUTPUT_ANALYSIS_DIR = Path(f\"output/analysis/{outcome}\")\n",
    "    OUTPUT_PARAMS_DIR = Path(f\"output/params/{outcome}\")\n",
    "    OUTPUT_ANALYSIS_DIR.mkdir(parents=True, exist_ok=True)\n",
    "    OUTPUT_PARAMS_DIR.mkdir(parents=True, exist_ok=True)\n",
    "\n",
    "    IMPUTED_CSV = OUTPUT_ANALYSIS_DIR / \"trainval_data.csv\"\n",
    "    IMPUTATION_META = OUTPUT_PARAMS_DIR / \"analysis_imputation_meta.pkl\"\n",
    "    meta = {\n",
    "        \"features\": features,\n",
    "        \"treatment_var\": treatment_var,\n",
    "        \"outcomes\": outcomes,\n",
    "    }\n",
    "    with open(IMPUTATION_META, 'wb') as f:\n",
    "        pickle.dump(meta, f)\n",
    "    \n",
    "    if treatment_var != \"TREATED\":\n",
    "        model_df.rename(columns={treatment_var: \"TREATED\"}, inplace=True)\n",
    "    model_df.to_csv(IMPUTED_CSV, index=False)\n",
    "    print(f\"✓ Saved imputed dataset -> {IMPUTED_CSV}\")\n",
    "    print(f\"✓ Saved imputation metadata -> {IMPUTATION_META}\")"
   ]
  },
  {
   "cell_type": "markdown",
   "metadata": {},
   "source": [
    "### 2.2. Defining parameter grids and base learners"
   ]
  },
  {
   "cell_type": "code",
   "execution_count": 5,
   "metadata": {},
   "outputs": [],
   "source": [
    "cv = StratifiedKFold(n_splits = 4, shuffle = True, random_state = 405)\n",
    "lasso_grid = {\"alpha\" : np.logspace(-5,5,500) }\n",
    "logistic_grid = {\"penalty\" : [\"l1\", \"l2\"], \n",
    "                 \"C\" : np.logspace(-5,5,500)}\n",
    "rf_grid = {'min_samples_leaf': [10,50,100,200,300,400,500],\n",
    "           'max_depth': [3,4,5,6,7,8],\n",
    "           'bootstrap': [False, True],\n",
    "           'n_estimators': [100,200,300,400,500]}\n",
    "xgb_grid = {'max_depth': [5,6,7,8,9,10,11,12],\n",
    "            'gamma': [0, 0.1, 0.2, 0.3, 0.4],\n",
    "            'subsample': [0.7, 0.75, 0.8,1],\n",
    "            'reg_lambda': [100,150,200,250, 300, 350, 400],\n",
    "            'n_estimators': [200, 300, 400, 500, 600, 700, 800, 900, 1000],\n",
    "            'min_child_weight': [4,5,6,7,8,9,10],\n",
    "            'learning_rate': [0.1,0.125,0.15,0.175,0.2,0.225,0.25]}\n",
    "\n",
    "base_learners = {\"lasso\" : Lasso(),\n",
    "                 \"logistic\" : LogisticRegression(solver = \"liblinear\", \n",
    "                                                 max_iter = 500),\n",
    "                 \"rf\" : RandomForestRegressor(),\n",
    "                 \"xgb\" : XGBRegressor(objective = \"reg:squarederror\", n_jobs=1, tree_method=\"hist\")}\n",
    "param_grids = {\"lasso\" : lasso_grid,\n",
    "               \"logistic\" : logistic_grid,\n",
    "               \"rf\" : rf_grid,\n",
    "               \"xgb\" : xgb_grid}"
   ]
  },
  {
   "cell_type": "markdown",
   "metadata": {},
   "source": [
    "## 3. Actual tuning"
   ]
  },
  {
   "cell_type": "code",
   "execution_count": 7,
   "metadata": {},
   "outputs": [
    {
     "name": "stdout",
     "output_type": "stream",
     "text": [
      "=== Getting results for fausebal ===\n"
     ]
    },
    {
     "name": "stderr",
     "output_type": "stream",
     "text": [
      "C:\\Users\\29965\\AppData\\Local\\Temp\\ipykernel_19412\\2535676392.py:8: FutureWarning: DataFrameGroupBy.apply operated on the grouping columns. This behavior is deprecated, and in a future version of pandas the grouping columns will be excluded from the operation. Either pass `include_groups=False` to exclude the groupings or explicitly select the grouping columns after groupby to silence this warning.\n",
      "  df_subset = df_subset.groupby(treatment_var, group_keys=False).apply(lambda g: g.sample(frac=0.1, random_state=405))\n"
     ]
    },
    {
     "name": "stdout",
     "output_type": "stream",
     "text": [
      "Tuning s_xgb\n",
      "Tuning s_rf\n"
     ]
    },
    {
     "ename": "KeyboardInterrupt",
     "evalue": "",
     "output_type": "error",
     "traceback": [
      "\u001b[31m---------------------------------------------------------------------------\u001b[39m",
      "\u001b[31mKeyboardInterrupt\u001b[39m                         Traceback (most recent call last)",
      "\u001b[36mCell\u001b[39m\u001b[36m \u001b[39m\u001b[32mIn[7]\u001b[39m\u001b[32m, line 11\u001b[39m\n\u001b[32m      9\u001b[39m \u001b[38;5;28;01mfrom\u001b[39;00m\u001b[38;5;250m \u001b[39m\u001b[34;01mmethods\u001b[39;00m\u001b[34;01m.\u001b[39;00m\u001b[34;01mdata_processing\u001b[39;00m\u001b[38;5;250m \u001b[39m\u001b[38;5;28;01mimport\u001b[39;00m separate_vars \u001b[38;5;28;01mas\u001b[39;00m _separate\n\u001b[32m     10\u001b[39m X, t, y = _separate(df_subset, rv, treatment_var)\n\u001b[32m---> \u001b[39m\u001b[32m11\u001b[39m res = \u001b[43mmake_estimator_library\u001b[49m\u001b[43m(\u001b[49m\u001b[43mX\u001b[49m\u001b[43m,\u001b[49m\u001b[43m \u001b[49m\u001b[43mt\u001b[49m\u001b[43m,\u001b[49m\u001b[43m \u001b[49m\u001b[43my\u001b[49m\u001b[43m,\u001b[49m\u001b[43m \u001b[49m\u001b[43mcv\u001b[49m\u001b[43m,\u001b[49m\u001b[43m \u001b[49m\u001b[43mbase_learners\u001b[49m\u001b[43m,\u001b[49m\u001b[43m \u001b[49m\u001b[43mparam_grids\u001b[49m\u001b[43m,\u001b[49m\u001b[43m \u001b[49m\u001b[43mn_iter\u001b[49m\u001b[43m=\u001b[49m\u001b[32;43m200\u001b[39;49m\u001b[43m)\u001b[49m\n\u001b[32m     12\u001b[39m tuned = {}\n\u001b[32m     13\u001b[39m \u001b[38;5;28;01mfor\u001b[39;00m est_name, est \u001b[38;5;129;01min\u001b[39;00m res.items():\n",
      "\u001b[36mFile \u001b[39m\u001b[32md:\\statistics\\jofe\\causal-targeting-main\\methods\\cate_estimator_validation.py:75\u001b[39m, in \u001b[36mmake_estimator_library\u001b[39m\u001b[34m(X, t, y, cv, base_learners, param_grids, tuned_params, n_iter, verbose)\u001b[39m\n\u001b[32m     73\u001b[39m     \u001b[38;5;28;01mif\u001b[39;00m tune:\n\u001b[32m     74\u001b[39m         \u001b[38;5;28mprint\u001b[39m(\u001b[33m\"\u001b[39m\u001b[33mTuning \u001b[39m\u001b[33m\"\u001b[39m + \u001b[33m\"\u001b[39m\u001b[33ms_\u001b[39m\u001b[33m\"\u001b[39m + name)\n\u001b[32m---> \u001b[39m\u001b[32m75\u001b[39m         \u001b[43ms_learners\u001b[49m\u001b[43m[\u001b[49m\u001b[33;43m\"\u001b[39;49m\u001b[33;43ms_\u001b[39;49m\u001b[33;43m\"\u001b[39;49m\u001b[43m \u001b[49m\u001b[43m+\u001b[49m\u001b[43m \u001b[49m\u001b[43mname\u001b[49m\u001b[43m]\u001b[49m\u001b[43m.\u001b[49m\u001b[43mtune_params\u001b[49m\u001b[43m(\u001b[49m\u001b[43mn_iter\u001b[49m\u001b[43m)\u001b[49m\n\u001b[32m     77\u001b[39m \u001b[38;5;66;03m# Add T-learner estimators\u001b[39;00m\n\u001b[32m     78\u001b[39m t_learners = {}\n",
      "\u001b[36mFile \u001b[39m\u001b[32md:\\statistics\\jofe\\causal-targeting-main\\methods\\cate_estimator_wrappers.py:303\u001b[39m, in \u001b[36mSLearnerWrapper.tune_params\u001b[39m\u001b[34m(self, n_iter, verbose)\u001b[39m\n\u001b[32m    298\u001b[39m Xt = np.hstack((\u001b[38;5;28mself\u001b[39m.X, \u001b[38;5;28mself\u001b[39m.t.reshape(-\u001b[32m1\u001b[39m,\u001b[32m1\u001b[39m)))\n\u001b[32m    299\u001b[39m rand_search = RandomizedSearchCV(\u001b[38;5;28mself\u001b[39m.base_learner, \u001b[38;5;28mself\u001b[39m.param_grid,\n\u001b[32m    300\u001b[39m                                  cv = \u001b[38;5;28mself\u001b[39m.cv.split(\u001b[38;5;28mself\u001b[39m.X, \u001b[38;5;28mself\u001b[39m.y + \u001b[32m2\u001b[39m*\u001b[38;5;28mself\u001b[39m.t), \n\u001b[32m    301\u001b[39m                                  n_iter = n_iter, scoring = \u001b[38;5;28mself\u001b[39m.scoring, n_jobs = -\u001b[32m1\u001b[39m,\n\u001b[32m    302\u001b[39m                                  verbose = verbose)\n\u001b[32m--> \u001b[39m\u001b[32m303\u001b[39m \u001b[43mrand_search\u001b[49m\u001b[43m.\u001b[49m\u001b[43mfit\u001b[49m\u001b[43m(\u001b[49m\u001b[43mXt\u001b[49m\u001b[43m,\u001b[49m\u001b[43m \u001b[49m\u001b[38;5;28;43mself\u001b[39;49m\u001b[43m.\u001b[49m\u001b[43my\u001b[49m\u001b[43m)\u001b[49m\n\u001b[32m    304\u001b[39m \u001b[38;5;28mself\u001b[39m.base_learner = rand_search.best_estimator_\n\u001b[32m    305\u001b[39m \u001b[38;5;28mself\u001b[39m.meta_learner = \u001b[38;5;28mself\u001b[39m.meta_learner_class(learner = \u001b[38;5;28mself\u001b[39m.base_learner)\n",
      "\u001b[36mFile \u001b[39m\u001b[32md:\\statistics\\jofe\\causal-targeting-main\\venv\\Lib\\site-packages\\sklearn\\base.py:1365\u001b[39m, in \u001b[36m_fit_context.<locals>.decorator.<locals>.wrapper\u001b[39m\u001b[34m(estimator, *args, **kwargs)\u001b[39m\n\u001b[32m   1358\u001b[39m     estimator._validate_params()\n\u001b[32m   1360\u001b[39m \u001b[38;5;28;01mwith\u001b[39;00m config_context(\n\u001b[32m   1361\u001b[39m     skip_parameter_validation=(\n\u001b[32m   1362\u001b[39m         prefer_skip_nested_validation \u001b[38;5;129;01mor\u001b[39;00m global_skip_validation\n\u001b[32m   1363\u001b[39m     )\n\u001b[32m   1364\u001b[39m ):\n\u001b[32m-> \u001b[39m\u001b[32m1365\u001b[39m     \u001b[38;5;28;01mreturn\u001b[39;00m \u001b[43mfit_method\u001b[49m\u001b[43m(\u001b[49m\u001b[43mestimator\u001b[49m\u001b[43m,\u001b[49m\u001b[43m \u001b[49m\u001b[43m*\u001b[49m\u001b[43margs\u001b[49m\u001b[43m,\u001b[49m\u001b[43m \u001b[49m\u001b[43m*\u001b[49m\u001b[43m*\u001b[49m\u001b[43mkwargs\u001b[49m\u001b[43m)\u001b[49m\n",
      "\u001b[36mFile \u001b[39m\u001b[32md:\\statistics\\jofe\\causal-targeting-main\\venv\\Lib\\site-packages\\sklearn\\model_selection\\_search.py:1051\u001b[39m, in \u001b[36mBaseSearchCV.fit\u001b[39m\u001b[34m(self, X, y, **params)\u001b[39m\n\u001b[32m   1045\u001b[39m     results = \u001b[38;5;28mself\u001b[39m._format_results(\n\u001b[32m   1046\u001b[39m         all_candidate_params, n_splits, all_out, all_more_results\n\u001b[32m   1047\u001b[39m     )\n\u001b[32m   1049\u001b[39m     \u001b[38;5;28;01mreturn\u001b[39;00m results\n\u001b[32m-> \u001b[39m\u001b[32m1051\u001b[39m \u001b[38;5;28;43mself\u001b[39;49m\u001b[43m.\u001b[49m\u001b[43m_run_search\u001b[49m\u001b[43m(\u001b[49m\u001b[43mevaluate_candidates\u001b[49m\u001b[43m)\u001b[49m\n\u001b[32m   1053\u001b[39m \u001b[38;5;66;03m# multimetric is determined here because in the case of a callable\u001b[39;00m\n\u001b[32m   1054\u001b[39m \u001b[38;5;66;03m# self.scoring the return type is only known after calling\u001b[39;00m\n\u001b[32m   1055\u001b[39m first_test_score = all_out[\u001b[32m0\u001b[39m][\u001b[33m\"\u001b[39m\u001b[33mtest_scores\u001b[39m\u001b[33m\"\u001b[39m]\n",
      "\u001b[36mFile \u001b[39m\u001b[32md:\\statistics\\jofe\\causal-targeting-main\\venv\\Lib\\site-packages\\sklearn\\model_selection\\_search.py:1992\u001b[39m, in \u001b[36mRandomizedSearchCV._run_search\u001b[39m\u001b[34m(self, evaluate_candidates)\u001b[39m\n\u001b[32m   1990\u001b[39m \u001b[38;5;28;01mdef\u001b[39;00m\u001b[38;5;250m \u001b[39m\u001b[34m_run_search\u001b[39m(\u001b[38;5;28mself\u001b[39m, evaluate_candidates):\n\u001b[32m   1991\u001b[39m \u001b[38;5;250m    \u001b[39m\u001b[33;03m\"\"\"Search n_iter candidates from param_distributions\"\"\"\u001b[39;00m\n\u001b[32m-> \u001b[39m\u001b[32m1992\u001b[39m     \u001b[43mevaluate_candidates\u001b[49m\u001b[43m(\u001b[49m\n\u001b[32m   1993\u001b[39m \u001b[43m        \u001b[49m\u001b[43mParameterSampler\u001b[49m\u001b[43m(\u001b[49m\n\u001b[32m   1994\u001b[39m \u001b[43m            \u001b[49m\u001b[38;5;28;43mself\u001b[39;49m\u001b[43m.\u001b[49m\u001b[43mparam_distributions\u001b[49m\u001b[43m,\u001b[49m\u001b[43m \u001b[49m\u001b[38;5;28;43mself\u001b[39;49m\u001b[43m.\u001b[49m\u001b[43mn_iter\u001b[49m\u001b[43m,\u001b[49m\u001b[43m \u001b[49m\u001b[43mrandom_state\u001b[49m\u001b[43m=\u001b[49m\u001b[38;5;28;43mself\u001b[39;49m\u001b[43m.\u001b[49m\u001b[43mrandom_state\u001b[49m\n\u001b[32m   1995\u001b[39m \u001b[43m        \u001b[49m\u001b[43m)\u001b[49m\n\u001b[32m   1996\u001b[39m \u001b[43m    \u001b[49m\u001b[43m)\u001b[49m\n",
      "\u001b[36mFile \u001b[39m\u001b[32md:\\statistics\\jofe\\causal-targeting-main\\venv\\Lib\\site-packages\\sklearn\\model_selection\\_search.py:997\u001b[39m, in \u001b[36mBaseSearchCV.fit.<locals>.evaluate_candidates\u001b[39m\u001b[34m(candidate_params, cv, more_results)\u001b[39m\n\u001b[32m    989\u001b[39m \u001b[38;5;28;01mif\u001b[39;00m \u001b[38;5;28mself\u001b[39m.verbose > \u001b[32m0\u001b[39m:\n\u001b[32m    990\u001b[39m     \u001b[38;5;28mprint\u001b[39m(\n\u001b[32m    991\u001b[39m         \u001b[33m\"\u001b[39m\u001b[33mFitting \u001b[39m\u001b[38;5;132;01m{0}\u001b[39;00m\u001b[33m folds for each of \u001b[39m\u001b[38;5;132;01m{1}\u001b[39;00m\u001b[33m candidates,\u001b[39m\u001b[33m\"\u001b[39m\n\u001b[32m    992\u001b[39m         \u001b[33m\"\u001b[39m\u001b[33m totalling \u001b[39m\u001b[38;5;132;01m{2}\u001b[39;00m\u001b[33m fits\u001b[39m\u001b[33m\"\u001b[39m.format(\n\u001b[32m    993\u001b[39m             n_splits, n_candidates, n_candidates * n_splits\n\u001b[32m    994\u001b[39m         )\n\u001b[32m    995\u001b[39m     )\n\u001b[32m--> \u001b[39m\u001b[32m997\u001b[39m out = \u001b[43mparallel\u001b[49m\u001b[43m(\u001b[49m\n\u001b[32m    998\u001b[39m \u001b[43m    \u001b[49m\u001b[43mdelayed\u001b[49m\u001b[43m(\u001b[49m\u001b[43m_fit_and_score\u001b[49m\u001b[43m)\u001b[49m\u001b[43m(\u001b[49m\n\u001b[32m    999\u001b[39m \u001b[43m        \u001b[49m\u001b[43mclone\u001b[49m\u001b[43m(\u001b[49m\u001b[43mbase_estimator\u001b[49m\u001b[43m)\u001b[49m\u001b[43m,\u001b[49m\n\u001b[32m   1000\u001b[39m \u001b[43m        \u001b[49m\u001b[43mX\u001b[49m\u001b[43m,\u001b[49m\n\u001b[32m   1001\u001b[39m \u001b[43m        \u001b[49m\u001b[43my\u001b[49m\u001b[43m,\u001b[49m\n\u001b[32m   1002\u001b[39m \u001b[43m        \u001b[49m\u001b[43mtrain\u001b[49m\u001b[43m=\u001b[49m\u001b[43mtrain\u001b[49m\u001b[43m,\u001b[49m\n\u001b[32m   1003\u001b[39m \u001b[43m        \u001b[49m\u001b[43mtest\u001b[49m\u001b[43m=\u001b[49m\u001b[43mtest\u001b[49m\u001b[43m,\u001b[49m\n\u001b[32m   1004\u001b[39m \u001b[43m        \u001b[49m\u001b[43mparameters\u001b[49m\u001b[43m=\u001b[49m\u001b[43mparameters\u001b[49m\u001b[43m,\u001b[49m\n\u001b[32m   1005\u001b[39m \u001b[43m        \u001b[49m\u001b[43msplit_progress\u001b[49m\u001b[43m=\u001b[49m\u001b[43m(\u001b[49m\u001b[43msplit_idx\u001b[49m\u001b[43m,\u001b[49m\u001b[43m \u001b[49m\u001b[43mn_splits\u001b[49m\u001b[43m)\u001b[49m\u001b[43m,\u001b[49m\n\u001b[32m   1006\u001b[39m \u001b[43m        \u001b[49m\u001b[43mcandidate_progress\u001b[49m\u001b[43m=\u001b[49m\u001b[43m(\u001b[49m\u001b[43mcand_idx\u001b[49m\u001b[43m,\u001b[49m\u001b[43m \u001b[49m\u001b[43mn_candidates\u001b[49m\u001b[43m)\u001b[49m\u001b[43m,\u001b[49m\n\u001b[32m   1007\u001b[39m \u001b[43m        \u001b[49m\u001b[43m*\u001b[49m\u001b[43m*\u001b[49m\u001b[43mfit_and_score_kwargs\u001b[49m\u001b[43m,\u001b[49m\n\u001b[32m   1008\u001b[39m \u001b[43m    \u001b[49m\u001b[43m)\u001b[49m\n\u001b[32m   1009\u001b[39m \u001b[43m    \u001b[49m\u001b[38;5;28;43;01mfor\u001b[39;49;00m\u001b[43m \u001b[49m\u001b[43m(\u001b[49m\u001b[43mcand_idx\u001b[49m\u001b[43m,\u001b[49m\u001b[43m \u001b[49m\u001b[43mparameters\u001b[49m\u001b[43m)\u001b[49m\u001b[43m,\u001b[49m\u001b[43m \u001b[49m\u001b[43m(\u001b[49m\u001b[43msplit_idx\u001b[49m\u001b[43m,\u001b[49m\u001b[43m \u001b[49m\u001b[43m(\u001b[49m\u001b[43mtrain\u001b[49m\u001b[43m,\u001b[49m\u001b[43m \u001b[49m\u001b[43mtest\u001b[49m\u001b[43m)\u001b[49m\u001b[43m)\u001b[49m\u001b[43m \u001b[49m\u001b[38;5;129;43;01min\u001b[39;49;00m\u001b[43m \u001b[49m\u001b[43mproduct\u001b[49m\u001b[43m(\u001b[49m\n\u001b[32m   1010\u001b[39m \u001b[43m        \u001b[49m\u001b[38;5;28;43menumerate\u001b[39;49m\u001b[43m(\u001b[49m\u001b[43mcandidate_params\u001b[49m\u001b[43m)\u001b[49m\u001b[43m,\u001b[49m\n\u001b[32m   1011\u001b[39m \u001b[43m        \u001b[49m\u001b[38;5;28;43menumerate\u001b[39;49m\u001b[43m(\u001b[49m\u001b[43mcv\u001b[49m\u001b[43m.\u001b[49m\u001b[43msplit\u001b[49m\u001b[43m(\u001b[49m\u001b[43mX\u001b[49m\u001b[43m,\u001b[49m\u001b[43m \u001b[49m\u001b[43my\u001b[49m\u001b[43m,\u001b[49m\u001b[43m \u001b[49m\u001b[43m*\u001b[49m\u001b[43m*\u001b[49m\u001b[43mrouted_params\u001b[49m\u001b[43m.\u001b[49m\u001b[43msplitter\u001b[49m\u001b[43m.\u001b[49m\u001b[43msplit\u001b[49m\u001b[43m)\u001b[49m\u001b[43m)\u001b[49m\u001b[43m,\u001b[49m\n\u001b[32m   1012\u001b[39m \u001b[43m    \u001b[49m\u001b[43m)\u001b[49m\n\u001b[32m   1013\u001b[39m \u001b[43m\u001b[49m\u001b[43m)\u001b[49m\n\u001b[32m   1015\u001b[39m \u001b[38;5;28;01mif\u001b[39;00m \u001b[38;5;28mlen\u001b[39m(out) < \u001b[32m1\u001b[39m:\n\u001b[32m   1016\u001b[39m     \u001b[38;5;28;01mraise\u001b[39;00m \u001b[38;5;167;01mValueError\u001b[39;00m(\n\u001b[32m   1017\u001b[39m         \u001b[33m\"\u001b[39m\u001b[33mNo fits were performed. \u001b[39m\u001b[33m\"\u001b[39m\n\u001b[32m   1018\u001b[39m         \u001b[33m\"\u001b[39m\u001b[33mWas the CV iterator empty? \u001b[39m\u001b[33m\"\u001b[39m\n\u001b[32m   1019\u001b[39m         \u001b[33m\"\u001b[39m\u001b[33mWere there no candidates?\u001b[39m\u001b[33m\"\u001b[39m\n\u001b[32m   1020\u001b[39m     )\n",
      "\u001b[36mFile \u001b[39m\u001b[32md:\\statistics\\jofe\\causal-targeting-main\\venv\\Lib\\site-packages\\sklearn\\utils\\parallel.py:82\u001b[39m, in \u001b[36mParallel.__call__\u001b[39m\u001b[34m(self, iterable)\u001b[39m\n\u001b[32m     73\u001b[39m warning_filters = warnings.filters\n\u001b[32m     74\u001b[39m iterable_with_config_and_warning_filters = (\n\u001b[32m     75\u001b[39m     (\n\u001b[32m     76\u001b[39m         _with_config_and_warning_filters(delayed_func, config, warning_filters),\n\u001b[32m   (...)\u001b[39m\u001b[32m     80\u001b[39m     \u001b[38;5;28;01mfor\u001b[39;00m delayed_func, args, kwargs \u001b[38;5;129;01min\u001b[39;00m iterable\n\u001b[32m     81\u001b[39m )\n\u001b[32m---> \u001b[39m\u001b[32m82\u001b[39m \u001b[38;5;28;01mreturn\u001b[39;00m \u001b[38;5;28;43msuper\u001b[39;49m\u001b[43m(\u001b[49m\u001b[43m)\u001b[49m\u001b[43m.\u001b[49m\u001b[34;43m__call__\u001b[39;49m\u001b[43m(\u001b[49m\u001b[43miterable_with_config_and_warning_filters\u001b[49m\u001b[43m)\u001b[49m\n",
      "\u001b[36mFile \u001b[39m\u001b[32md:\\statistics\\jofe\\causal-targeting-main\\venv\\Lib\\site-packages\\joblib\\parallel.py:2072\u001b[39m, in \u001b[36mParallel.__call__\u001b[39m\u001b[34m(self, iterable)\u001b[39m\n\u001b[32m   2066\u001b[39m \u001b[38;5;66;03m# The first item from the output is blank, but it makes the interpreter\u001b[39;00m\n\u001b[32m   2067\u001b[39m \u001b[38;5;66;03m# progress until it enters the Try/Except block of the generator and\u001b[39;00m\n\u001b[32m   2068\u001b[39m \u001b[38;5;66;03m# reaches the first `yield` statement. This starts the asynchronous\u001b[39;00m\n\u001b[32m   2069\u001b[39m \u001b[38;5;66;03m# dispatch of the tasks to the workers.\u001b[39;00m\n\u001b[32m   2070\u001b[39m \u001b[38;5;28mnext\u001b[39m(output)\n\u001b[32m-> \u001b[39m\u001b[32m2072\u001b[39m \u001b[38;5;28;01mreturn\u001b[39;00m output \u001b[38;5;28;01mif\u001b[39;00m \u001b[38;5;28mself\u001b[39m.return_generator \u001b[38;5;28;01melse\u001b[39;00m \u001b[38;5;28;43mlist\u001b[39;49m\u001b[43m(\u001b[49m\u001b[43moutput\u001b[49m\u001b[43m)\u001b[49m\n",
      "\u001b[36mFile \u001b[39m\u001b[32md:\\statistics\\jofe\\causal-targeting-main\\venv\\Lib\\site-packages\\joblib\\parallel.py:1682\u001b[39m, in \u001b[36mParallel._get_outputs\u001b[39m\u001b[34m(self, iterator, pre_dispatch)\u001b[39m\n\u001b[32m   1679\u001b[39m     \u001b[38;5;28;01myield\u001b[39;00m\n\u001b[32m   1681\u001b[39m     \u001b[38;5;28;01mwith\u001b[39;00m \u001b[38;5;28mself\u001b[39m._backend.retrieval_context():\n\u001b[32m-> \u001b[39m\u001b[32m1682\u001b[39m         \u001b[38;5;28;01myield from\u001b[39;00m \u001b[38;5;28mself\u001b[39m._retrieve()\n\u001b[32m   1684\u001b[39m \u001b[38;5;28;01mexcept\u001b[39;00m \u001b[38;5;167;01mGeneratorExit\u001b[39;00m:\n\u001b[32m   1685\u001b[39m     \u001b[38;5;66;03m# The generator has been garbage collected before being fully\u001b[39;00m\n\u001b[32m   1686\u001b[39m     \u001b[38;5;66;03m# consumed. This aborts the remaining tasks if possible and warn\u001b[39;00m\n\u001b[32m   1687\u001b[39m     \u001b[38;5;66;03m# the user if necessary.\u001b[39;00m\n\u001b[32m   1688\u001b[39m     \u001b[38;5;28mself\u001b[39m._exception = \u001b[38;5;28;01mTrue\u001b[39;00m\n",
      "\u001b[36mFile \u001b[39m\u001b[32md:\\statistics\\jofe\\causal-targeting-main\\venv\\Lib\\site-packages\\joblib\\parallel.py:1800\u001b[39m, in \u001b[36mParallel._retrieve\u001b[39m\u001b[34m(self)\u001b[39m\n\u001b[32m   1789\u001b[39m \u001b[38;5;28;01mif\u001b[39;00m \u001b[38;5;28mself\u001b[39m.return_ordered:\n\u001b[32m   1790\u001b[39m     \u001b[38;5;66;03m# Case ordered: wait for completion (or error) of the next job\u001b[39;00m\n\u001b[32m   1791\u001b[39m     \u001b[38;5;66;03m# that have been dispatched and not retrieved yet. If no job\u001b[39;00m\n\u001b[32m   (...)\u001b[39m\u001b[32m   1795\u001b[39m     \u001b[38;5;66;03m# control only have to be done on the amount of time the next\u001b[39;00m\n\u001b[32m   1796\u001b[39m     \u001b[38;5;66;03m# dispatched job is pending.\u001b[39;00m\n\u001b[32m   1797\u001b[39m     \u001b[38;5;28;01mif\u001b[39;00m (nb_jobs == \u001b[32m0\u001b[39m) \u001b[38;5;129;01mor\u001b[39;00m (\n\u001b[32m   1798\u001b[39m         \u001b[38;5;28mself\u001b[39m._jobs[\u001b[32m0\u001b[39m].get_status(timeout=\u001b[38;5;28mself\u001b[39m.timeout) == TASK_PENDING\n\u001b[32m   1799\u001b[39m     ):\n\u001b[32m-> \u001b[39m\u001b[32m1800\u001b[39m         time.sleep(\u001b[32m0.01\u001b[39m)\n\u001b[32m   1801\u001b[39m         \u001b[38;5;28;01mcontinue\u001b[39;00m\n\u001b[32m   1803\u001b[39m \u001b[38;5;28;01melif\u001b[39;00m nb_jobs == \u001b[32m0\u001b[39m:\n\u001b[32m   1804\u001b[39m     \u001b[38;5;66;03m# Case unordered: jobs are added to the list of jobs to\u001b[39;00m\n\u001b[32m   1805\u001b[39m     \u001b[38;5;66;03m# retrieve `self._jobs` only once completed or in error, which\u001b[39;00m\n\u001b[32m   (...)\u001b[39m\u001b[32m   1811\u001b[39m     \u001b[38;5;66;03m# timeouts before any other dispatched job has completed and\u001b[39;00m\n\u001b[32m   1812\u001b[39m     \u001b[38;5;66;03m# been added to `self._jobs` to be retrieved.\u001b[39;00m\n",
      "\u001b[31mKeyboardInterrupt\u001b[39m: "
     ]
    }
   ],
   "source": [
    "import os\n",
    "treatment_var = 'TREATED'\n",
    "for rv in outcomes:\n",
    "    print(\"=== Getting results for \" + rv + \" ===\")\n",
    "    cols_needed = [c for c in features] + [treatment_var, rv]\n",
    "    df_subset = model_df.dropna(subset=[rv]).loc[:, cols_needed].copy()\n",
    "    # Subsample 10% stratified by treatment for faster tuning\n",
    "    df_subset = df_subset.groupby(treatment_var, group_keys=False).apply(lambda g: g.sample(frac=0.1, random_state=405))\n",
    "    from methods.data_processing import separate_vars as _separate\n",
    "    X, t, y = _separate(df_subset, rv, treatment_var)\n",
    "    res = make_estimator_library(X, t, y, cv, base_learners, param_grids, n_iter=200)\n",
    "    tuned = {}\n",
    "    for est_name, est in res.items():\n",
    "        tuned[est_name] = est.get_params()\n",
    "    os.makedirs(\"output/params\", exist_ok=True)\n",
    "    joblib.dump(tuned, f\"output/params/{rv}_tuned_params.pkl\")"
   ]
  },
  {
   "cell_type": "code",
   "execution_count": 12,
   "metadata": {},
   "outputs": [
    {
     "name": "stdout",
     "output_type": "stream",
     "text": [
      "Loaded tuned params from: output/params/fausebal_tuned_params.pkl\n",
      "Keys: ['s_xgb', 's_rf', 't_lasso', 't_logistic', 't_rf', 't_xgb', 'x_lasso', 'x_logistic', 'x_rf', 'x_xgb', 'r_lassolasso', 'r_lassoxgb', 'r_lassorf', 'r_rflasso', 'r_rfrf', 'r_rfxgb', 'r_xgblasso', 'r_xgbrf', 'r_xgbxgb']\n"
     ]
    }
   ],
   "source": [
    "PARAMS_PATH = os.path.join('output', 'params', 'fausebal_tuned_params.pkl')\n",
    "\n",
    "with open(PARAMS_PATH, 'rb') as f:\n",
    "    tuned_params = pickle.load(f)\n",
    "\n",
    "print(f\"Loaded tuned params from: {PARAMS_PATH}\")\n",
    "try:\n",
    "    if isinstance(tuned_params, dict):\n",
    "        print(\"Keys:\", list(tuned_params.keys())[:20])\n",
    "    else:\n",
    "        print(\"Type:\", type(tuned_params))\n",
    "except Exception as e:\n",
    "    print(\"Preview failed:\", e)\n",
    "\n",
    "# tuned_params is now available for use\n"
   ]
  }
 ],
 "metadata": {
  "kernelspec": {
   "display_name": "cate_env",
   "language": "python",
   "name": "python3"
  },
  "language_info": {
   "codemirror_mode": {
    "name": "ipython",
    "version": 3
   },
   "file_extension": ".py",
   "mimetype": "text/x-python",
   "name": "python",
   "nbconvert_exporter": "python",
   "pygments_lexer": "ipython3",
   "version": "3.9.6"
  }
 },
 "nbformat": 4,
 "nbformat_minor": 2
}
