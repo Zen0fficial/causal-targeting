{
 "cells": [
  {
   "cell_type": "markdown",
   "metadata": {},
   "source": [
    "# 02 Tune CATE estimators\n",
    "\n",
    "In this notebook, we will tune the hyperparemeters for our CATE methods."
   ]
  },
  {
   "cell_type": "markdown",
   "metadata": {},
   "source": [
    "### Contents:\n",
    "1. Description of estimator library  \n",
    "2. Setting up  \n",
    "3. Actual tuning"
   ]
  },
  {
   "cell_type": "markdown",
   "metadata": {},
   "source": [
    "## 1. Description of estimator library"
   ]
  },
  {
   "cell_type": "markdown",
   "metadata": {},
   "source": [
    "We will consider the following estimators:\n",
    "\n",
    "1. S-learner:  \n",
    "A. RF  \n",
    "B. XGB\n",
    "2. T-learner:  \n",
    "A. Lasso  \n",
    "B. logistic  \n",
    "C. RF  \n",
    "D. XGB\n",
    "3. X-learner:  \n",
    "A. Outcome_learner: lasso, effect_learner: lasso  \n",
    "B. Outcome_learner: logistic, effect_learner: lasso  \n",
    "C. Outcome_learner: RF, effect_learner: lasso  \n",
    "D. Outcome_learner: XGB, effect_learner: lasso\n",
    "4. R-learner:  \n",
    "A. Outcome_learner: lasso, effect_learner: lasso  \n",
    "B. Outcome_learner: lasso, effect_learner: XGB  \n",
    "C. Outcome_learner: RF, effect_learner: lasso  \n",
    "E. Outcome_learner: RF, effect_learner: RF\n",
    "\n",
    "R-learner base learner types were chosen independently at random from {lasso, RF, XGB}"
   ]
  },
  {
   "cell_type": "markdown",
   "metadata": {},
   "source": [
    "We will tune the models for the 4 outcomes: GI, cardio, hypertension, severe GI, without perturbations."
   ]
  },
  {
   "cell_type": "markdown",
   "metadata": {},
   "source": [
    "## 2. Setting up"
   ]
  },
  {
   "cell_type": "code",
   "execution_count": 1,
   "metadata": {},
   "outputs": [
    {
     "name": "stderr",
     "output_type": "stream",
     "text": [
      "Failed to import duecredit due to No module named 'duecredit'\n"
     ]
    }
   ],
   "source": [
    "# Standard imports\n",
    "import numpy as np\n",
    "import pandas as pd\n",
    "import sys\n",
    "import copy\n",
    "import random\n",
    "import joblib\n",
    "import pickle\n",
    "\n",
    "# Import sklearn methods\n",
    "from xgboost import XGBRegressor\n",
    "from sklearn.ensemble import RandomForestRegressor\n",
    "from sklearn.linear_model import Lasso, LogisticRegression\n",
    "from sklearn.model_selection import StratifiedKFold\n",
    "\n",
    "# Import own methods\n",
    "from methods.cate_estimator_validation import make_estimator_library"
   ]
  },
  {
   "cell_type": "code",
   "execution_count": 2,
   "metadata": {},
   "outputs": [],
   "source": [
    "# Cap BLAS/OpenMP threads to avoid oversubscription with parallel CV\n",
    "import os\n",
    "os.environ[\"OMP_NUM_THREADS\"] = \"1\"\n",
    "os.environ[\"MKL_NUM_THREADS\"] = \"1\"\n",
    "os.environ[\"OPENBLAS_NUM_THREADS\"] = \"1\"\n"
   ]
  },
  {
   "cell_type": "code",
   "execution_count": 3,
   "metadata": {},
   "outputs": [
    {
     "name": "stdout",
     "output_type": "stream",
     "text": [
      "Loaded analysis dataset: 108000 rows, 519 columns\n",
      "Processed dataset: 36020 rows\n",
      "Detected treatment_var='message_fa'\n",
      "Propensity score is 0.4990838423098279\n",
      "Feature matrix: 329 columns\n",
      "Outcomes to tune: ['fausebal']\n"
     ]
    }
   ],
   "source": [
    "# Load pre-saved analysis dataset from Analysis.ipynb\n",
    "import pandas as pd\n",
    "import numpy as np\n",
    "from pathlib import Path\n",
    "\n",
    "ANALYSIS_CSV = Path(\"data/analysis/analysis_df.csv\")\n",
    "if not ANALYSIS_CSV.exists():\n",
    "    raise FileNotFoundError(f\"Expected CSV not found at {ANALYSIS_CSV}. Run Analysis.ipynb to generate it.\")\n",
    "\n",
    "trainval_df = pd.read_csv(ANALYSIS_CSV)\n",
    "print(f\"Loaded analysis dataset: {trainval_df.shape[0]} rows, {trainval_df.shape[1]} columns\")\n",
    "\n",
    "# Filter to units with message == 1 and drop 'message' column\n",
    "if \"message\" in trainval_df.columns:\n",
    "    trainval_df = trainval_df.loc[(trainval_df[\"message\"] == 1) & (trainval_df[\"billpayfa\"] == 0) & (trainval_df[\"debitfa\"] == 0)].copy()\n",
    "\n",
    "# Define outcomes available in this dataset\n",
    "outcomes = [\"fausebal\"]\n",
    "\n",
    "# Choose treatment variable (do not include auxiliary 'message' as a feature)\n",
    "treatment_var = \"message_fa\"\n",
    "\n",
    "# Build a comprehensive feature set:\n",
    "strat_vars = [c for c in trainval_df.columns if c.startswith(\"strat_\")]\n",
    "\n",
    "# low-cardinality categoricals (exclude outcomes/treatment/id and obvious non-features like 'group')\n",
    "cat_candidates = ['reminder_freq', 'reminder_infreq', 'camp_short', 'htefa', 'htebal']\n",
    "\n",
    "# Build missing indicators ONLY for categorical candidates that actually contain NaNs\n",
    "available_cats = [c for c in cat_candidates if c in trainval_df.columns]\n",
    "_cat_df = trainval_df[available_cats].copy()\n",
    "missing_cats = [c for c in available_cats if _cat_df[c].isna().any()]\n",
    "if missing_cats:\n",
    "    cat_missing_indicators = _cat_df[missing_cats].isna().astype(int)\n",
    "    cat_missing_indicators.columns = [f\"{c}_missing\" for c in missing_cats]\n",
    "else:\n",
    "    cat_missing_indicators = pd.DataFrame(index=_cat_df.index)\n",
    "\n",
    "# Sentinel fill before concatenation\n",
    "_cat_df = _cat_df.fillna(0)\n",
    "cat_dummies = pd.concat([_cat_df, cat_missing_indicators], axis=1)\n",
    "\n",
    "# assemble design matrix (avoid duplicates)\n",
    "numeric_vars = [c for c in [\"assets\", \"deposits\", \"paymentmean\", \"debt\", \"minbal\", \"creditcard\"] if c in trainval_df.columns]\n",
    "X_numeric = trainval_df[numeric_vars].copy()\n",
    "\n",
    "# Create missing indicators for numeric variables (no binning)\n",
    "num_missing_cols = [c for c in X_numeric.columns if X_numeric[c].isna().any()]\n",
    "if num_missing_cols:\n",
    "    num_missing_indicators = X_numeric[num_missing_cols].isna().astype(int)\n",
    "    num_missing_indicators.columns = [f\"{c}_missing\" for c in num_missing_cols]\n",
    "else:\n",
    "    num_missing_indicators = pd.DataFrame(index=trainval_df.index)\n",
    "\n",
    "# Simple imputation for numerics after adding indicators\n",
    "X_numeric = X_numeric.apply(pd.to_numeric, errors='coerce').fillna(0)\n",
    "\n",
    "X_strat = trainval_df[strat_vars].copy()\n",
    "\n",
    "# Keep continuous numerics and add missing indicators\n",
    "X_design = pd.concat([X_strat, cat_dummies, num_missing_indicators, X_numeric], axis=1)\n",
    "X_design = X_design.loc[:, ~X_design.columns.duplicated()].copy()\n",
    "\n",
    "# Track full feature set\n",
    "features = list(X_design.columns)\n",
    "\n",
    "# Filter \n",
    "model_df = pd.concat([X_design, trainval_df[[treatment_var] + outcomes]], axis=1)\n",
    "\n",
    "print(f\"Processed dataset: {model_df.shape[0]} rows\")\n",
    "print(f\"Detected treatment_var='{treatment_var}'\")\n",
    "print(f\"Propensity score is {model_df[treatment_var].mean()}\")\n",
    "print(f\"Feature matrix: {X_design.shape[1]} columns\")\n",
    "print(f\"Outcomes to tune: {outcomes}\")\n"
   ]
  },
  {
   "cell_type": "code",
   "execution_count": 4,
   "metadata": {},
   "outputs": [
    {
     "name": "stdout",
     "output_type": "stream",
     "text": [
      "=== Diagnostics for X_design ===\n",
      "Original shape: (36020, 329)\n",
      "Numeric diagnostic shape: (36020, 329)\n",
      "Columns with NaNs: 0\n",
      "Constant columns: 31\n",
      "['strat_29', 'strat_48', 'strat_56', 'strat_76', 'strat_118', 'strat_122', 'strat_126', 'strat_143', 'strat_144', 'strat_146', 'strat_147', 'strat_148', 'strat_152', 'strat_154', 'strat_158', 'strat_190', 'strat_194', 'strat_198', 'strat_246', 'strat_250']\n",
      "Numeric columns considered for correlation: 329\n",
      "High-corr pairs (|r| >= 0.95): 0\n",
      "High-corr drop candidates: 0\n",
      "=== End diagnostics ===\n",
      "Dropped 31 columns (constant + high-corr). New X_design shape: (36020, 298)\n"
     ]
    }
   ],
   "source": [
    "# Diagnostics: NaN summary and collinearity checks for X_design (numeric cast)\n",
    "import numpy as np\n",
    "import pandas as pd\n",
    "\n",
    "print(\"=== Diagnostics for X_design ===\")\n",
    "# Align X_design to filtered rows in model_df\n",
    "if 'model_df' in globals():\n",
    "    X_design = X_design.loc[model_df.index].copy()\n",
    "print(f\"Original shape: {X_design.shape}\")\n",
    "\n",
    "# Cast to numeric for diagnostics; non-numeric becomes NaN\n",
    "X_diag = X_design.copy().astype(float)\n",
    "print(f\"Numeric diagnostic shape: {X_diag.shape}\")\n",
    "\n",
    "# 1) NaN summary\n",
    "nan_counts = X_diag.isna().sum()\n",
    "num_cols_with_nans = int((nan_counts > 0).sum())\n",
    "print(f\"Columns with NaNs: {num_cols_with_nans}\")\n",
    "if num_cols_with_nans > 0:\n",
    "    nan_report = nan_counts[nan_counts > 0].sort_values(ascending=False)\n",
    "    print(nan_report.head(20))\n",
    "\n",
    "# 2) Constant columns (zero variance)\n",
    "constant_cols = [c for c in X_diag.columns if X_diag[c].nunique(dropna=True) <= 1]\n",
    "print(f\"Constant columns: {len(constant_cols)}\")\n",
    "if constant_cols:\n",
    "    print(constant_cols[:20])\n",
    "\n",
    "# 3) High pairwise correlations for numeric columns\n",
    "numeric_cols = X_diag.select_dtypes(include=[np.number]).columns.tolist()\n",
    "print(f\"Numeric columns considered for correlation: {len(numeric_cols)}\")\n",
    "\n",
    "high_corr_pairs = []\n",
    "if len(numeric_cols) > 1:\n",
    "    corr = X_diag[numeric_cols].corr().abs()\n",
    "    # Build an upper-triangle mask\n",
    "    mask = np.triu(np.ones(corr.shape, dtype=bool), k=1)\n",
    "    threshold = 0.99\n",
    "    corr_vals = corr.to_numpy()\n",
    "    for i in range(corr.shape[0]):\n",
    "        for j in range(i + 1, corr.shape[1]):\n",
    "            if mask[i, j]:\n",
    "                val = corr_vals[i, j]\n",
    "                if not np.isnan(val) and val >= threshold:\n",
    "                    high_corr_pairs.append((numeric_cols[i], numeric_cols[j], float(val)))\n",
    "print(f\"High-corr pairs (|r| >= 0.95): {len(high_corr_pairs)}\")\n",
    "if high_corr_pairs:\n",
    "    for a, b, r in high_corr_pairs[:20]:\n",
    "        print(f\"{a} ~ {b}: r={r:.3f}\")\n",
    "\n",
    "# Identify high-correlation columns to drop (keep second in each pair)\n",
    "corr_drop_cols = []\n",
    "if high_corr_pairs:\n",
    "    seen = set()\n",
    "    for a, b, r in high_corr_pairs:\n",
    "        if b not in seen:\n",
    "            corr_drop_cols.append(b)\n",
    "            seen.add(b)\n",
    "print(f\"High-corr drop candidates: {len(corr_drop_cols)}\")\n",
    "if corr_drop_cols:\n",
    "    print(corr_drop_cols[:20])\n",
    "\n",
    "print(\"=== End diagnostics ===\")\n",
    "\n",
    "# Drop constant columns and high-corr columns, then refresh features/model_df\n",
    "drop_cols = []\n",
    "if len(constant_cols) > 0:\n",
    "    drop_cols.extend(list(constant_cols))\n",
    "if corr_drop_cols:\n",
    "    drop_cols.extend(list(set(corr_drop_cols)))\n",
    "\n",
    "if drop_cols:\n",
    "    X_design = X_design.drop(columns=drop_cols, errors=\"ignore\")\n",
    "    features = list(X_design.columns)\n",
    "    rows_index = X_design.index\n",
    "    model_df = pd.concat([X_design, trainval_df.loc[rows_index, [treatment_var] + outcomes]], axis=1)\n",
    "    print(f\"Dropped {len(drop_cols)} columns (constant + high-corr). New X_design shape: {X_design.shape}\")\n"
   ]
  },
  {
   "cell_type": "code",
   "execution_count": 5,
   "metadata": {},
   "outputs": [
    {
     "name": "stdout",
     "output_type": "stream",
     "text": [
      "✓ Saved dataset -> output\\analysis\\fausebal\\trainval_data.csv\n",
      "✓ Saved metadata -> output\\params\\fausebal\\analysis_imputation_meta.pkl\n"
     ]
    }
   ],
   "source": [
    "# Save dataset and metadata for reuse; also export trainval_data.csv with 'TREATED'\n",
    "from pathlib import Path\n",
    "\n",
    "for outcome in outcomes:\n",
    "    # Paths\n",
    "    OUTPUT_ANALYSIS_DIR = Path(f\"output/analysis/{outcome}\")\n",
    "    OUTPUT_PARAMS_DIR = Path(f\"output/params/{outcome}\")\n",
    "    OUTPUT_ANALYSIS_DIR.mkdir(parents=True, exist_ok=True)\n",
    "    OUTPUT_PARAMS_DIR.mkdir(parents=True, exist_ok=True)\n",
    "\n",
    "    MODEL_CSV = OUTPUT_ANALYSIS_DIR / \"trainval_data.csv\"\n",
    "    MODEL_CSV_META = OUTPUT_PARAMS_DIR / \"analysis_imputation_meta.pkl\"\n",
    "    meta = {\n",
    "        \"features\": features,\n",
    "        \"treatment_var\": treatment_var,\n",
    "        \"outcomes\": outcomes,\n",
    "    }\n",
    "    with open(MODEL_CSV_META, 'wb') as f:\n",
    "        pickle.dump(meta, f)\n",
    "    \n",
    "    if treatment_var != \"TREATED\":\n",
    "        model_df.rename(columns={treatment_var: \"TREATED\"}, inplace=True)\n",
    "    model_df.to_csv(MODEL_CSV, index=False)\n",
    "    print(f\"✓ Saved dataset -> {MODEL_CSV}\")\n",
    "    print(f\"✓ Saved metadata -> {MODEL_CSV_META}\")"
   ]
  },
  {
   "cell_type": "markdown",
   "metadata": {},
   "source": [
    "### 2.2. Defining parameter grids and base learners"
   ]
  },
  {
   "cell_type": "code",
   "execution_count": 6,
   "metadata": {},
   "outputs": [],
   "source": [
    "cv = StratifiedKFold(n_splits = 4, shuffle = True, random_state = 405)\n",
    "lasso_grid = {\"alpha\" : np.logspace(-5,5,500) }\n",
    "logistic_grid = {\"penalty\" : [\"l1\", \"l2\"], \n",
    "                 \"C\" : np.logspace(-5,5,500)}\n",
    "rf_grid = {'min_samples_leaf': [50,100,200,300,400,500],\n",
    "           'max_depth': [3,4,5,6,7,8],\n",
    "           'bootstrap': [False, True],\n",
    "           'n_estimators': [100,200,300,400,500]}\n",
    "xgb_grid = {'max_depth': [5,6,7,8,9,10,11,12],\n",
    "            'gamma': [0, 0.1, 0.2, 0.3, 0.4],\n",
    "            'subsample': [0.7, 0.75, 0.8,1],\n",
    "            'reg_lambda': [100,150,200,250, 300, 350, 400],\n",
    "            'n_estimators': [200, 300, 400, 500, 600, 700, 800, 900, 1000],\n",
    "            'min_child_weight': [4,5,6,7,8,9,10],\n",
    "            'learning_rate': [0.1,0.125,0.15,0.175,0.2,0.225,0.25]}\n",
    "\n",
    "base_learners = {\"lasso\" : Lasso(),\n",
    "                 \"logistic\" : LogisticRegression(solver = \"liblinear\", \n",
    "                                                 max_iter = 500),\n",
    "                 \"rf\" : RandomForestRegressor(),\n",
    "                 \"xgb\" : XGBRegressor(objective = \"reg:squarederror\", n_jobs=1, tree_method=\"hist\")}\n",
    "param_grids = {\"lasso\" : lasso_grid,\n",
    "               \"logistic\" : logistic_grid,\n",
    "               \"rf\" : rf_grid,\n",
    "               \"xgb\" : xgb_grid}"
   ]
  },
  {
   "cell_type": "markdown",
   "metadata": {},
   "source": [
    "## 3. Actual tuning"
   ]
  },
  {
   "cell_type": "code",
   "execution_count": 7,
   "metadata": {},
   "outputs": [
    {
     "name": "stdout",
     "output_type": "stream",
     "text": [
      "=== Getting results for fausebal ===\n",
      "Tuning s_xgb\n",
      "Tuning s_rf\n",
      "Tuning t_lasso\n",
      "Tuning t_logistic\n",
      "Tuning t_rf\n",
      "Tuning t_xgb\n",
      "Tuning x_lasso\n",
      "Tuning x_logistic\n",
      "Tuning x_rf\n",
      "Tuning x_xgb\n",
      "Tuning r_lassolasso\n",
      "Tuning r_lassoxgb\n",
      "Tuning r_lassorf\n",
      "Tuning r_rflasso\n",
      "Tuning r_rfrf\n",
      "Tuning r_rfxgb\n",
      "Tuning r_xgblasso\n",
      "Tuning r_xgbrf\n",
      "Tuning r_xgbxgb\n"
     ]
    }
   ],
   "source": [
    "import os\n",
    "treatment_var = 'TREATED'\n",
    "for rv in outcomes:\n",
    "    print(\"=== Getting results for \" + rv + \" ===\")\n",
    "    cols_needed = [c for c in features] + [treatment_var, rv]\n",
    "    df_subset = model_df.dropna(subset=[rv]).loc[:, cols_needed].copy()\n",
    "    # Subsample 10% stratified by treatment for faster tuning\n",
    "    # df_subset = df_subset.groupby(treatment_var, group_keys=False).apply(lambda g: g.sample(frac=0.1, random_state=405))\n",
    "    from methods.data_processing import separate_vars as _separate\n",
    "    X, t, y = _separate(df_subset, rv, treatment_var)\n",
    "    res = make_estimator_library(X, t, y, cv, base_learners, param_grids, n_iter=200)\n",
    "    tuned = {}\n",
    "    for est_name, est in res.items():\n",
    "        tuned[est_name] = est.get_params()\n",
    "    os.makedirs(\"output/params\", exist_ok=True)\n",
    "    joblib.dump(tuned, f\"output/params/{outcome}/{rv}_tuned_params.pkl\")"
   ]
  }
 ],
 "metadata": {
  "kernelspec": {
   "display_name": "venv",
   "language": "python",
   "name": "python3"
  },
  "language_info": {
   "codemirror_mode": {
    "name": "ipython",
    "version": 3
   },
   "file_extension": ".py",
   "mimetype": "text/x-python",
   "name": "python",
   "nbconvert_exporter": "python",
   "pygments_lexer": "ipython3",
   "version": "3.11.9"
  }
 },
 "nbformat": 4,
 "nbformat_minor": 2
}
