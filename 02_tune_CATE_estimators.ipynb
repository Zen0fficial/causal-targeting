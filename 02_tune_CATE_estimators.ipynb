{
 "cells": [
  {
   "cell_type": "markdown",
   "metadata": {},
   "source": [
    "# 02 Tune CATE estimators\n",
    "\n",
    "In this notebook, we will tune the hyperparemeters for our CATE methods."
   ]
  },
  {
   "cell_type": "markdown",
   "metadata": {},
   "source": [
    "### Contents:\n",
    "1. Description of estimator library  \n",
    "2. Setting up  \n",
    "3. Actual tuning"
   ]
  },
  {
   "cell_type": "markdown",
   "metadata": {},
   "source": [
    "## 1. Description of estimator library"
   ]
  },
  {
   "cell_type": "markdown",
   "metadata": {},
   "source": [
    "We will consider the following estimators:\n",
    "\n",
    "1. S-learner:  \n",
    "A. RF  \n",
    "B. XGB\n",
    "2. T-learner:  \n",
    "A. Lasso  \n",
    "B. logistic  \n",
    "C. RF  \n",
    "D. XGB\n",
    "3. X-learner:  \n",
    "A. Outcome_learner: lasso, effect_learner: lasso  \n",
    "B. Outcome_learner: logistic, effect_learner: lasso  \n",
    "C. Outcome_learner: RF, effect_learner: lasso  \n",
    "D. Outcome_learner: XGB, effect_learner: lasso\n",
    "4. R-learner:  \n",
    "A. Outcome_learner: lasso, effect_learner: lasso  \n",
    "B. Outcome_learner: lasso, effect_learner: XGB  \n",
    "C. Outcome_learner: RF, effect_learner: lasso  \n",
    "E. Outcome_learner: RF, effect_learner: RF\n",
    "\n",
    "R-learner base learner types were chosen independently at random from {lasso, RF, XGB}"
   ]
  },
  {
   "cell_type": "markdown",
   "metadata": {},
   "source": [
    "We will tune the models for the 4 outcomes: GI, cardio, hypertension, severe GI, without perturbations."
   ]
  },
  {
   "cell_type": "markdown",
   "metadata": {},
   "source": [
    "## 2. Setting up"
   ]
  },
  {
   "cell_type": "code",
   "execution_count": 1,
   "metadata": {},
   "outputs": [
    {
     "name": "stderr",
     "output_type": "stream",
     "text": [
      "Failed to import duecredit due to No module named 'duecredit'\n"
     ]
    }
   ],
   "source": [
    "# Standard imports\n",
    "import numpy as np\n",
    "import pandas as pd\n",
    "import sys\n",
    "import copy\n",
    "import random\n",
    "import joblib\n",
    "import pickle\n",
    "\n",
    "# Import sklearn methods\n",
    "from xgboost import XGBRegressor\n",
    "from sklearn.ensemble import RandomForestRegressor\n",
    "from sklearn.linear_model import Lasso, LogisticRegression\n",
    "from sklearn.model_selection import StratifiedKFold\n",
    "from joblib import Parallel, delayed\n",
    "\n",
    "# Import own methods\n",
    "from methods.data_processing import prepare_df, separate_vars\n",
    "from methods.cate_estimator_wrappers import (SLearnerWrapper, TLearnerWrapper,\n",
    "                                             XLearnerWrapper, RLearnerWrapper,\n",
    "                                             CausalTreeWrapper, CausalForestWrapper)\n",
    "from methods.cate_estimator_validation import make_estimator_library"
   ]
  },
  {
   "cell_type": "code",
   "execution_count": 2,
   "metadata": {},
   "outputs": [],
   "source": [
    "# Cap BLAS/OpenMP threads to avoid oversubscription with parallel CV\n",
    "import os\n",
    "os.environ[\"OMP_NUM_THREADS\"] = \"1\"\n",
    "os.environ[\"MKL_NUM_THREADS\"] = \"1\"\n",
    "os.environ[\"OPENBLAS_NUM_THREADS\"] = \"1\"\n"
   ]
  },
  {
   "cell_type": "code",
   "execution_count": 3,
   "metadata": {},
   "outputs": [
    {
     "name": "stdout",
     "output_type": "stream",
     "text": [
      "Loaded analysis dataset: 108000 rows, 519 columns\n",
      "Detected treatment_var='message_fa'\n",
      "Feature matrix: 321 columns\n",
      "Outcomes to tune: ['fausebal']\n"
     ]
    }
   ],
   "source": [
    "# Load pre-saved analysis dataset from Analysis.ipynb\n",
    "import pandas as pd\n",
    "import numpy as np\n",
    "from pathlib import Path\n",
    "\n",
    "ANALYSIS_CSV = Path(\"data/analysis/analysis_df.csv\")\n",
    "if not ANALYSIS_CSV.exists():\n",
    "    raise FileNotFoundError(f\"Expected CSV not found at {ANALYSIS_CSV}. Run Analysis.ipynb to generate it.\")\n",
    "\n",
    "trainval_df = pd.read_csv(ANALYSIS_CSV)\n",
    "print(f\"Loaded analysis dataset: {trainval_df.shape[0]} rows, {trainval_df.shape[1]} columns\")\n",
    "\n",
    "# Define outcomes available in this dataset\n",
    "outcomes = [\"fausebal\"]\n",
    "\n",
    "# Choose a binary treatment variable from known candidates if present\n",
    "candidate_treatments = [\"message\", \"awareness\", \"message_fa\", \"fa\", \"billpayfa\", \"debitfa\"]\n",
    "treatment_var = \"message_fa\"\n",
    "candidate_treatments.remove(treatment_var)\n",
    "\n",
    "# Build a comprehensive feature set:\n",
    "strat_vars = [c for c in trainval_df.columns if c.startswith(\"strat_\")]\n",
    "\n",
    "# low-cardinality categoricals (exclude outcomes/treatment/id and obvious non-features like 'group')\n",
    "# cat_candidates = ['reminder_freq', 'reminder_infreq', 'camp_short', 'htefa', 'htebal', 'awareness', 'creditcard']\n",
    "# low_card_cats = [c for c in cat_candidates if trainval_df[c].nunique(dropna=True) <= 50]\n",
    "# cat_dummies = pd.get_dummies(trainval_df[low_card_cats], drop_first=True, dummy_na=False) if low_card_cats else pd.DataFrame(index=trainval_df.index)\n",
    "\n",
    "# assemble design matrix (avoid duplicates)\n",
    "# X_numeric = trainval_df[[\"assets\", \"deposits\", \"paymentmean\", \"debt\", \"minbal\"]].copy()\n",
    "X_strat = trainval_df[strat_vars].copy()\n",
    "X_treat_res = trainval_df[candidate_treatments].copy()\n",
    "X_design = pd.concat([X_strat, X_treat_res], axis=1)\n",
    "X_design = X_design.loc[:, ~X_design.columns.duplicated()].copy()\n",
    "\n",
    "features = list(X_design.columns)\n",
    "model_df = pd.concat([X_design, trainval_df[[treatment_var] + outcomes]], axis=1)\n",
    "\n",
    "print(f\"Detected treatment_var='{treatment_var}'\")\n",
    "print(f\"Feature matrix: {X_design.shape[1]} columns\")\n",
    "print(f\"Outcomes to tune: {outcomes}\")\n"
   ]
  },
  {
   "cell_type": "code",
   "execution_count": 4,
   "metadata": {},
   "outputs": [
    {
     "name": "stdout",
     "output_type": "stream",
     "text": [
      "✓ Saved imputed dataset -> output\\analysis\\fausebal\\trainval_data.csv\n",
      "✓ Saved imputation metadata -> output\\params\\fausebal\\analysis_imputation_meta.pkl\n"
     ]
    }
   ],
   "source": [
    "# Save dataset and metadata for reuse; also export trainval_data.csv with 'TREATED'\n",
    "from pathlib import Path\n",
    "\n",
    "for outcome in outcomes:\n",
    "    # Paths\n",
    "    OUTPUT_ANALYSIS_DIR = Path(f\"output/analysis/{outcome}\")\n",
    "    OUTPUT_PARAMS_DIR = Path(f\"output/params/{outcome}\")\n",
    "    OUTPUT_ANALYSIS_DIR.mkdir(parents=True, exist_ok=True)\n",
    "    OUTPUT_PARAMS_DIR.mkdir(parents=True, exist_ok=True)\n",
    "\n",
    "    IMPUTED_CSV = OUTPUT_ANALYSIS_DIR / \"trainval_data.csv\"\n",
    "    IMPUTATION_META = OUTPUT_PARAMS_DIR / \"analysis_imputation_meta.pkl\"\n",
    "    meta = {\n",
    "        \"features\": features,\n",
    "        \"treatment_var\": treatment_var,\n",
    "        \"outcomes\": outcomes,\n",
    "    }\n",
    "    with open(IMPUTATION_META, 'wb') as f:\n",
    "        pickle.dump(meta, f)\n",
    "    \n",
    "    if treatment_var != \"TREATED\":\n",
    "        model_df.rename(columns={treatment_var: \"TREATED\"}, inplace=True)\n",
    "    model_df.to_csv(IMPUTED_CSV, index=False)\n",
    "    print(f\"✓ Saved imputed dataset -> {IMPUTED_CSV}\")\n",
    "    print(f\"✓ Saved imputation metadata -> {IMPUTATION_META}\")"
   ]
  },
  {
   "cell_type": "markdown",
   "metadata": {},
   "source": [
    "### 2.2. Defining parameter grids and base learners"
   ]
  },
  {
   "cell_type": "code",
   "execution_count": 5,
   "metadata": {},
   "outputs": [],
   "source": [
    "cv = StratifiedKFold(n_splits = 4, shuffle = True, random_state = 405)\n",
    "lasso_grid = {\"alpha\" : np.logspace(-5,5,500) }\n",
    "logistic_grid = {\"penalty\" : [\"l1\", \"l2\"], \n",
    "                 \"C\" : np.logspace(-5,5,500)}\n",
    "rf_grid = {'min_samples_leaf': [10,50,100,200,300,400,500],\n",
    "           'max_depth': [3,4,5,6,7,8],\n",
    "           'bootstrap': [False, True],\n",
    "           'n_estimators': [100,200,300,400,500]}\n",
    "xgb_grid = {'max_depth': [5,6,7,8,9,10,11,12],\n",
    "            'gamma': [0, 0.1, 0.2, 0.3, 0.4],\n",
    "            'subsample': [0.7, 0.75, 0.8,1],\n",
    "            'reg_lambda': [100,150,200,250, 300, 350, 400],\n",
    "            'n_estimators': [200, 300, 400, 500, 600, 700, 800, 900, 1000],\n",
    "            'min_child_weight': [4,5,6,7,8,9,10],\n",
    "            'learning_rate': [0.1,0.125,0.15,0.175,0.2,0.225,0.25]}\n",
    "\n",
    "base_learners = {\"lasso\" : Lasso(),\n",
    "                 \"logistic\" : LogisticRegression(solver = \"liblinear\", \n",
    "                                                 max_iter = 500),\n",
    "                 \"rf\" : RandomForestRegressor(),\n",
    "                 \"xgb\" : XGBRegressor(objective = \"reg:squarederror\", n_jobs=1, tree_method=\"hist\")}\n",
    "param_grids = {\"lasso\" : lasso_grid,\n",
    "               \"logistic\" : logistic_grid,\n",
    "               \"rf\" : rf_grid,\n",
    "               \"xgb\" : xgb_grid}"
   ]
  },
  {
   "cell_type": "markdown",
   "metadata": {},
   "source": [
    "## 3. Actual tuning"
   ]
  },
  {
   "cell_type": "code",
   "execution_count": 6,
   "metadata": {},
   "outputs": [
    {
     "name": "stdout",
     "output_type": "stream",
     "text": [
      "=== Getting results for fausebal ===\n"
     ]
    },
    {
     "name": "stderr",
     "output_type": "stream",
     "text": [
      "C:\\Users\\29965\\AppData\\Local\\Temp\\ipykernel_34296\\2535676392.py:8: FutureWarning: DataFrameGroupBy.apply operated on the grouping columns. This behavior is deprecated, and in a future version of pandas the grouping columns will be excluded from the operation. Either pass `include_groups=False` to exclude the groupings or explicitly select the grouping columns after groupby to silence this warning.\n",
      "  df_subset = df_subset.groupby(treatment_var, group_keys=False).apply(lambda g: g.sample(frac=0.1, random_state=405))\n"
     ]
    },
    {
     "name": "stdout",
     "output_type": "stream",
     "text": [
      "Tuning s_xgb\n",
      "Tuning s_rf\n",
      "Tuning t_lasso\n",
      "Tuning t_logistic\n",
      "Tuning t_rf\n",
      "Tuning t_xgb\n",
      "Tuning x_lasso\n",
      "Tuning x_logistic\n",
      "Tuning x_rf\n",
      "Tuning x_xgb\n",
      "Tuning r_lassolasso\n",
      "Tuning r_lassoxgb\n",
      "Tuning r_lassorf\n",
      "Tuning r_rflasso\n",
      "Tuning r_rfrf\n",
      "Tuning r_rfxgb\n",
      "Tuning r_xgblasso\n",
      "Tuning r_xgbrf\n",
      "Tuning r_xgbxgb\n"
     ]
    }
   ],
   "source": [
    "import os\n",
    "treatment_var = 'TREATED'\n",
    "for rv in outcomes:\n",
    "    print(\"=== Getting results for \" + rv + \" ===\")\n",
    "    cols_needed = [c for c in features] + [treatment_var, rv]\n",
    "    df_subset = model_df.dropna(subset=[rv]).loc[:, cols_needed].copy()\n",
    "    # Subsample 10% stratified by treatment for faster tuning\n",
    "    df_subset = df_subset.groupby(treatment_var, group_keys=False).apply(lambda g: g.sample(frac=0.1, random_state=405))\n",
    "    from methods.data_processing import separate_vars as _separate\n",
    "    X, t, y = _separate(df_subset, rv, treatment_var)\n",
    "    res = make_estimator_library(X, t, y, cv, base_learners, param_grids, n_iter=200)\n",
    "    tuned = {}\n",
    "    for est_name, est in res.items():\n",
    "        tuned[est_name] = est.get_params()\n",
    "    os.makedirs(\"output/params\", exist_ok=True)\n",
    "    joblib.dump(tuned, f\"output/params/{outcome}/{rv}_tuned_params.pkl\")"
   ]
  },
  {
   "cell_type": "code",
   "execution_count": 7,
   "metadata": {},
   "outputs": [
    {
     "name": "stdout",
     "output_type": "stream",
     "text": [
      "Loaded tuned params from: output\\params\\fausebal_tuned_params.pkl\n",
      "Keys: ['s_xgb', 's_rf', 't_lasso', 't_logistic', 't_rf', 't_xgb', 'x_lasso', 'x_logistic', 'x_rf', 'x_xgb', 'r_lassolasso', 'r_lassoxgb', 'r_lassorf', 'r_rflasso', 'r_rfrf', 'r_rfxgb', 'r_xgblasso', 'r_xgbrf', 'r_xgbxgb']\n"
     ]
    }
   ],
   "source": [
    "PARAMS_PATH = os.path.join('output', 'params', 'fausebal_tuned_params.pkl')\n",
    "\n",
    "with open(PARAMS_PATH, 'rb') as f:\n",
    "    tuned_params = pickle.load(f)\n",
    "\n",
    "print(f\"Loaded tuned params from: {PARAMS_PATH}\")\n",
    "try:\n",
    "    if isinstance(tuned_params, dict):\n",
    "        print(\"Keys:\", list(tuned_params.keys())[:20])\n",
    "    else:\n",
    "        print(\"Type:\", type(tuned_params))\n",
    "except Exception as e:\n",
    "    print(\"Preview failed:\", e)\n",
    "\n",
    "# tuned_params is now available for use\n"
   ]
  }
 ],
 "metadata": {
  "kernelspec": {
   "display_name": "cate_env",
   "language": "python",
   "name": "python3"
  },
  "language_info": {
   "codemirror_mode": {
    "name": "ipython",
    "version": 3
   },
   "file_extension": ".py",
   "mimetype": "text/x-python",
   "name": "python",
   "nbconvert_exporter": "python",
   "pygments_lexer": "ipython3",
   "version": "3.9.6"
  }
 },
 "nbformat": 4,
 "nbformat_minor": 2
}
